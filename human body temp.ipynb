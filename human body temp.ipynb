{
 "cells": [
  {
   "cell_type": "code",
   "execution_count": 36,
   "metadata": {},
   "outputs": [],
   "source": [
    "import numpy as np\n",
    "import pandas as pd\n",
    "import matplotlib.pyplot as plt\n",
    "import scipy.stats as sy\n",
    "from scipy.stats import kurtosis as ks\n",
    "from scipy.stats import skew as sw\n",
    "from scipy.stats import chisquare\n",
    "from scipy.stats import pearsonr\n",
    "from scipy.stats import spearmanr\n",
    "from scipy.stats import chi2_contingency\n",
    "from scipy.stats import ttest_ind, ttest_ind_from_stats\n",
    "from scipy.stats import sem\n",
    "from statsmodels.stats.weightstats import ztest\n",
    "import bootstrapped.bootstrap as bs\n",
    "import bootstrapped.stats_functions as bs_stats"
   ]
  },
  {
   "cell_type": "code",
   "execution_count": 37,
   "metadata": {},
   "outputs": [],
   "source": [
    "df = pd.read_csv('human_body_temperature.csv')"
   ]
  },
  {
   "cell_type": "code",
   "execution_count": 38,
   "metadata": {
    "scrolled": true
   },
   "outputs": [
    {
     "data": {
      "text/html": [
       "<div>\n",
       "<style scoped>\n",
       "    .dataframe tbody tr th:only-of-type {\n",
       "        vertical-align: middle;\n",
       "    }\n",
       "\n",
       "    .dataframe tbody tr th {\n",
       "        vertical-align: top;\n",
       "    }\n",
       "\n",
       "    .dataframe thead th {\n",
       "        text-align: right;\n",
       "    }\n",
       "</style>\n",
       "<table border=\"1\" class=\"dataframe\">\n",
       "  <thead>\n",
       "    <tr style=\"text-align: right;\">\n",
       "      <th></th>\n",
       "      <th>temperature</th>\n",
       "      <th>gender</th>\n",
       "      <th>heart_rate</th>\n",
       "    </tr>\n",
       "  </thead>\n",
       "  <tbody>\n",
       "    <tr>\n",
       "      <th>0</th>\n",
       "      <td>99.3</td>\n",
       "      <td>F</td>\n",
       "      <td>68.0</td>\n",
       "    </tr>\n",
       "    <tr>\n",
       "      <th>1</th>\n",
       "      <td>98.4</td>\n",
       "      <td>F</td>\n",
       "      <td>81.0</td>\n",
       "    </tr>\n",
       "    <tr>\n",
       "      <th>2</th>\n",
       "      <td>97.8</td>\n",
       "      <td>M</td>\n",
       "      <td>73.0</td>\n",
       "    </tr>\n",
       "    <tr>\n",
       "      <th>3</th>\n",
       "      <td>99.2</td>\n",
       "      <td>F</td>\n",
       "      <td>66.0</td>\n",
       "    </tr>\n",
       "    <tr>\n",
       "      <th>4</th>\n",
       "      <td>98.0</td>\n",
       "      <td>F</td>\n",
       "      <td>73.0</td>\n",
       "    </tr>\n",
       "  </tbody>\n",
       "</table>\n",
       "</div>"
      ],
      "text/plain": [
       "   temperature gender  heart_rate\n",
       "0         99.3      F        68.0\n",
       "1         98.4      F        81.0\n",
       "2         97.8      M        73.0\n",
       "3         99.2      F        66.0\n",
       "4         98.0      F        73.0"
      ]
     },
     "execution_count": 38,
     "metadata": {},
     "output_type": "execute_result"
    }
   ],
   "source": [
    "# df.count()\n",
    "# count of 130\n",
    "df.head()\n",
    "# 2. Is the sample size large? Are the observations independent?\n",
    "\n",
    "# the random variable temperature is dependent on itself, \n",
    "# since we check independence between two or more random variables and not with itself,  \n",
    "# if we're checking independence between observations here, there's \n",
    "# no way of knowing whether the same individual was observed more than once\n",
    "# unless it were apparent there were duplicates across columns for many rows, \n",
    "# we're only dealing with the temperature column  \n",
    "\n",
    "# a larger sample size will generally give you a better estimate of the \n",
    "# true population parameter up to a certain point\n",
    "# since we only have one small sample, it is difficult to say whether or not\n",
    "# the sample is indicative of the population parameter\n",
    "# sample that is too small can lead to poor precision and confidence \n",
    "# in approximating the true population parameter\n",
    "# it has been said that a sample size of 30 is sufficient for normally distributed data"
   ]
  },
  {
   "cell_type": "code",
   "execution_count": 39,
   "metadata": {},
   "outputs": [
    {
     "data": {
      "text/html": [
       "<div>\n",
       "<style scoped>\n",
       "    .dataframe tbody tr th:only-of-type {\n",
       "        vertical-align: middle;\n",
       "    }\n",
       "\n",
       "    .dataframe tbody tr th {\n",
       "        vertical-align: top;\n",
       "    }\n",
       "\n",
       "    .dataframe thead th {\n",
       "        text-align: right;\n",
       "    }\n",
       "</style>\n",
       "<table border=\"1\" class=\"dataframe\">\n",
       "  <thead>\n",
       "    <tr style=\"text-align: right;\">\n",
       "      <th></th>\n",
       "      <th>temperature</th>\n",
       "      <th>heart_rate</th>\n",
       "    </tr>\n",
       "  </thead>\n",
       "  <tbody>\n",
       "    <tr>\n",
       "      <th>count</th>\n",
       "      <td>130.000000</td>\n",
       "      <td>130.000000</td>\n",
       "    </tr>\n",
       "    <tr>\n",
       "      <th>mean</th>\n",
       "      <td>98.249231</td>\n",
       "      <td>73.761538</td>\n",
       "    </tr>\n",
       "    <tr>\n",
       "      <th>std</th>\n",
       "      <td>0.733183</td>\n",
       "      <td>7.062077</td>\n",
       "    </tr>\n",
       "    <tr>\n",
       "      <th>min</th>\n",
       "      <td>96.300000</td>\n",
       "      <td>57.000000</td>\n",
       "    </tr>\n",
       "    <tr>\n",
       "      <th>25%</th>\n",
       "      <td>97.800000</td>\n",
       "      <td>69.000000</td>\n",
       "    </tr>\n",
       "    <tr>\n",
       "      <th>50%</th>\n",
       "      <td>98.300000</td>\n",
       "      <td>74.000000</td>\n",
       "    </tr>\n",
       "    <tr>\n",
       "      <th>75%</th>\n",
       "      <td>98.700000</td>\n",
       "      <td>79.000000</td>\n",
       "    </tr>\n",
       "    <tr>\n",
       "      <th>max</th>\n",
       "      <td>100.800000</td>\n",
       "      <td>89.000000</td>\n",
       "    </tr>\n",
       "  </tbody>\n",
       "</table>\n",
       "</div>"
      ],
      "text/plain": [
       "       temperature  heart_rate\n",
       "count   130.000000  130.000000\n",
       "mean     98.249231   73.761538\n",
       "std       0.733183    7.062077\n",
       "min      96.300000   57.000000\n",
       "25%      97.800000   69.000000\n",
       "50%      98.300000   74.000000\n",
       "75%      98.700000   79.000000\n",
       "max     100.800000   89.000000"
      ]
     },
     "execution_count": 39,
     "metadata": {},
     "output_type": "execute_result"
    }
   ],
   "source": [
    "# sy.chisquare(df.temperature,df.heart_rate)\n",
    "# 2. \n",
    "df.describe()"
   ]
  },
  {
   "cell_type": "code",
   "execution_count": 40,
   "metadata": {},
   "outputs": [
    {
     "data": {
      "text/plain": [
       "(array([ 4.,  6., 15., 26., 30., 30., 15.,  1.,  2.,  1.]),\n",
       " array([ 96.3 ,  96.75,  97.2 ,  97.65,  98.1 ,  98.55,  99.  ,  99.45,\n",
       "         99.9 , 100.35, 100.8 ]),\n",
       " <a list of 10 Patch objects>)"
      ]
     },
     "execution_count": 40,
     "metadata": {},
     "output_type": "execute_result"
    },
    {
     "data": {
      "image/png": "[encoded data removed]",
      "text/plain": [
       "<Figure size 432x288 with 1 Axes>"
      ]
     },
     "metadata": {
      "needs_background": "light"
     },
     "output_type": "display_data"
    }
   ],
   "source": [
    "plt.hist(df.temperature)\n",
    "# 1. is the distribution normal? probably but the shapiro and anderson tests \n",
    "# tell us not to reject the null hypothesis for n 0f 130 observations  \n",
    "# REMEMBER: sy.normaltest(), allows for management of missing data"
   ]
  },
  {
   "cell_type": "code",
   "execution_count": 41,
   "metadata": {},
   "outputs": [
    {
     "data": {
      "text/plain": [
       "(0.2536564027207642, 0.003591489250708233)"
      ]
     },
     "execution_count": 41,
     "metadata": {},
     "output_type": "execute_result"
    }
   ],
   "source": [
    "temper = df['temperature']\n",
    "heart = df['heart_rate']\n",
    "sy.pearsonr(temper,heart)\n",
    "# most likely, the numeric columns are independent ands if they are \n",
    "# then so is the categorical column \n",
    "# p value says to reject null and that there is a low correlation of .25"
   ]
  },
  {
   "cell_type": "code",
   "execution_count": 133,
   "metadata": {},
   "outputs": [
    {
     "data": {
      "text/plain": [
       "True     81\n",
       "False    49\n",
       "Name: temperature, dtype: int64"
      ]
     },
     "execution_count": 133,
     "metadata": {},
     "output_type": "execute_result"
    }
   ],
   "source": [
    "(temper < 98.6).value_counts()\n",
    "# 81/130 = .623077"
   ]
  },
  {
   "cell_type": "code",
   "execution_count": 130,
   "metadata": {},
   "outputs": [
    {
     "data": {
      "text/plain": [
       "130"
      ]
     },
     "execution_count": 130,
     "metadata": {},
     "output_type": "execute_result"
    }
   ],
   "source": [
    "temper.count()"
   ]
  },
  {
   "cell_type": "code",
   "execution_count": 42,
   "metadata": {},
   "outputs": [
    {
     "data": {
      "text/plain": [
       "SpearmanrResult(correlation=0.2809189896902398, pvalue=0.0012058853002699706)"
      ]
     },
     "execution_count": 42,
     "metadata": {},
     "output_type": "execute_result"
    }
   ],
   "source": [
    "sy.spearmanr(temper,heart)\n",
    "# spearman says the same as pearson"
   ]
  },
  {
   "cell_type": "code",
   "execution_count": 43,
   "metadata": {},
   "outputs": [
    {
     "data": {
      "text/plain": [
       "Power_divergenceResult(statistic=1212.6534787818964, pvalue=1.682647940164671e-175)"
      ]
     },
     "execution_count": 43,
     "metadata": {},
     "output_type": "execute_result"
    }
   ],
   "source": [
    "sy.chisquare(temper,heart)"
   ]
  },
  {
   "cell_type": "code",
   "execution_count": 44,
   "metadata": {},
   "outputs": [
    {
     "name": "stdout",
     "output_type": "stream",
     "text": [
      "909.4347952312239 0.967631309911425\n"
     ]
    }
   ],
   "source": [
    "table = pd.crosstab(temper,heart)\n",
    "chi2,p,dof,expected = chi2_contingency(table.values)\n",
    "print(chi2,p)\n",
    "# p value > .05 tells us that columns are independent\n",
    "# STOP number two "
   ]
  },
  {
   "cell_type": "code",
   "execution_count": 45,
   "metadata": {},
   "outputs": [
    {
     "data": {
      "text/plain": [
       "-0.004367976879081625"
      ]
     },
     "execution_count": 45,
     "metadata": {},
     "output_type": "execute_result"
    }
   ],
   "source": [
    "sy.skew(df.temperature)\n",
    "# as the histogram indicates, skew is close to 0\n",
    "# this aspect is normal"
   ]
  },
  {
   "cell_type": "code",
   "execution_count": 46,
   "metadata": {},
   "outputs": [
    {
     "data": {
      "text/plain": [
       "0.7049597854114693"
      ]
     },
     "execution_count": 46,
     "metadata": {},
     "output_type": "execute_result"
    }
   ],
   "source": [
    "sy.kurtosis(df.temperature)\n",
    "# as the histogram indicates, there is kurtosis\n",
    "# kurtosis of a normal distribution is generally 0 "
   ]
  },
  {
   "cell_type": "code",
   "execution_count": 47,
   "metadata": {},
   "outputs": [
    {
     "data": {
      "text/plain": [
       "(2.6923250029836856, 0.2602370060406519)"
      ]
     },
     "execution_count": 47,
     "metadata": {},
     "output_type": "execute_result"
    }
   ],
   "source": [
    "sy.jarque_bera(df.temperature)\n",
    "# jb_value is not close to 0, so it is not normal according to the test stat\n",
    "# p value is > .05, the traditional threshold for rejecting the null hypothesis\n",
    "# we do not reject the null hypothesis that the distribution is normal\n",
    "# the values are in conflict"
   ]
  },
  {
   "cell_type": "code",
   "execution_count": 48,
   "metadata": {},
   "outputs": [
    {
     "data": {
      "text/plain": [
       "KstestResult(statistic=1.0, pvalue=0.0)"
      ]
     },
     "execution_count": 48,
     "metadata": {},
     "output_type": "execute_result"
    }
   ],
   "source": [
    "sy.kstest(df.temperature,'norm')\n",
    "# stat says the null is true, and the distrubution is normal \n",
    "# p value tells us to reject the null hypothesis"
   ]
  },
  {
   "cell_type": "code",
   "execution_count": 49,
   "metadata": {},
   "outputs": [
    {
     "data": {
      "text/plain": [
       "(0.9865769743919373, 0.2331680953502655)"
      ]
     },
     "execution_count": 49,
     "metadata": {},
     "output_type": "execute_result"
    }
   ],
   "source": [
    "sy.shapiro(df.temperature)\n",
    "# do not reject the null"
   ]
  },
  {
   "cell_type": "code",
   "execution_count": 50,
   "metadata": {},
   "outputs": [
    {
     "data": {
      "text/plain": [
       "AndersonResult(statistic=0.5201038826714353, critical_values=array([0.56 , 0.637, 0.765, 0.892, 1.061]), significance_level=array([15. , 10. ,  5. ,  2.5,  1. ]))"
      ]
     },
     "execution_count": 50,
     "metadata": {},
     "output_type": "execute_result"
    }
   ],
   "source": [
    "sy.anderson(df.temperature,'norm')\n",
    "# do not reject the null "
   ]
  },
  {
   "cell_type": "code",
   "execution_count": 51,
   "metadata": {},
   "outputs": [
    {
     "data": {
      "text/plain": [
       "NormaltestResult(statistic=2.703801433319203, pvalue=0.2587479863488254)"
      ]
     },
     "execution_count": 51,
     "metadata": {},
     "output_type": "execute_result"
    }
   ],
   "source": [
    "sy.normaltest(temper)"
   ]
  },
  {
   "cell_type": "code",
   "execution_count": 52,
   "metadata": {},
   "outputs": [],
   "source": [
    "# //// //// //// ////"
   ]
  },
  {
   "cell_type": "code",
   "execution_count": 53,
   "metadata": {},
   "outputs": [],
   "source": [
    "# //// //// //// ////"
   ]
  },
  {
   "cell_type": "code",
   "execution_count": 54,
   "metadata": {},
   "outputs": [],
   "source": [
    "# 3. Is the true population mean really 98.6 degrees F? \n",
    "# First, try a bootstrap hypothesis test.\n",
    "# ****Now, let's try frequentist statistical testing. Would you use a \n",
    "# one-sample or two-sample test? Why? \n",
    "\n",
    "# ****In this situation, is it appropriate to use the  𝑡  or  𝑧  statistic?\n",
    "# Now try using the other test. How is the result different? Why?"
   ]
  },
  {
   "cell_type": "code",
   "execution_count": 55,
   "metadata": {},
   "outputs": [],
   "source": [
    "# ANSWER: we only have one temperature column so we do a one sample t test. "
   ]
  },
  {
   "cell_type": "code",
   "execution_count": 146,
   "metadata": {},
   "outputs": [],
   "source": [
    "# bootstrap ***REVISED***\n",
    "\n",
    "mean_ls, simuls = [], 1000\n",
    "for s in range(simuls):\n",
    "    tmp_samp = np.random.choice(temper, replace=True, size=len(temper))\n",
    "    samp_mean = tmp_samp.mean()\n",
    "    mean_ls.append(samp_mean)"
   ]
  },
  {
   "cell_type": "code",
   "execution_count": 148,
   "metadata": {},
   "outputs": [
    {
     "data": {
      "text/plain": [
       "array([ 97.4,  97.4,  98.6,  98.2,  99. ,  99.1,  98.8,  98.8,  98.9,\n",
       "        99.1,  97.2,  98.4,  98.4,  98.4,  98.8,  98.8,  98.5,  99.1,\n",
       "        98.4,  99.1,  98.4,  98.8,  98.2,  99.9,  96.7,  97.8,  97.9,\n",
       "        97.4,  98.3,  98.6,  97.8,  97.5,  98. ,  98.9,  98.7,  99.1,\n",
       "        98.4,  98.1,  98.7,  98. ,  98.2,  98.1,  98.1,  97.8,  97.4,\n",
       "        98.4,  98.8,  98. ,  97.8,  98.6,  98.1,  98.8,  99.1,  97.2,\n",
       "        99. ,  98.8,  99.1,  98.7,  97.8,  99.1,  98.6,  97.4,  97.8,\n",
       "        99.3,  98.3,  98.6,  98.8,  99. ,  98.6,  98.8,  99.9,  99.3,\n",
       "        97.6,  98.6, 100. ,  96.7,  97.5,  98.6,  97.9,  98.8,  98.1,\n",
       "        97.7,  98.3,  99.5,  99. ,  99. ,  97.1,  97.5,  97.8,  98.6,\n",
       "        97.9,  97.1,  97.8,  98. ,  99.4,  99.3,  99.4,  98.3,  98.7,\n",
       "        99.2,  98.7,  99.1,  98.5,  98. ,  97.1,  97.9,  98.8,  98.8,\n",
       "        96.7, 100. ,  97.9,  96.3,  98. ,  97.8,  98.8,  99.2,  96.4,\n",
       "        98.3,  98.4,  98.6,  98.4,  97.2,  98.2,  99.3,  99.2,  97.1,\n",
       "        98. ,  97.4,  98.7,  98.8])"
      ]
     },
     "execution_count": 148,
     "metadata": {},
     "output_type": "execute_result"
    }
   ],
   "source": [
    "tmp_samp\n",
    "# last sample"
   ]
  },
  {
   "cell_type": "code",
   "execution_count": 149,
   "metadata": {},
   "outputs": [
    {
     "data": {
      "text/plain": [
       "98.35307692307694"
      ]
     },
     "execution_count": 149,
     "metadata": {},
     "output_type": "execute_result"
    }
   ],
   "source": [
    "samp_mean\n",
    "# last sample mean"
   ]
  },
  {
   "cell_type": "code",
   "execution_count": 150,
   "metadata": {},
   "outputs": [],
   "source": [
    "# mean_ls\n",
    "# list of means all turned out to be under 98.6"
   ]
  },
  {
   "cell_type": "code",
   "execution_count": 152,
   "metadata": {},
   "outputs": [],
   "source": [
    "less = [i for i in mean_ls if i < 98.6]"
   ]
  },
  {
   "cell_type": "code",
   "execution_count": 154,
   "metadata": {},
   "outputs": [
    {
     "data": {
      "text/plain": [
       "'new_ls = []\\nfor i in mean_ls:\\n        if i < 98.6:\\n            a = 1\\n            new_ls.append(a)\\n        else:\\n            b = 0\\n            new_ls.append(b)\\n'"
      ]
     },
     "execution_count": 154,
     "metadata": {},
     "output_type": "execute_result"
    }
   ],
   "source": [
    "'''new_ls = []\n",
    "for i in mean_ls:\n",
    "        if i < 98.6:\n",
    "            a = 1\n",
    "            new_ls.append(a)\n",
    "        else:\n",
    "            b = 0\n",
    "            new_ls.append(b)\n",
    "'''"
   ]
  },
  {
   "cell_type": "code",
   "execution_count": 121,
   "metadata": {},
   "outputs": [
    {
     "data": {
      "text/plain": [
       "1000"
      ]
     },
     "execution_count": 121,
     "metadata": {},
     "output_type": "execute_result"
    }
   ],
   "source": [
    "len(new_ls)"
   ]
  },
  {
   "cell_type": "code",
   "execution_count": 155,
   "metadata": {},
   "outputs": [
    {
     "data": {
      "text/plain": [
       "'p = np.sum(new_ls)/1000.0\\np\\n# p val actually 1-p, .05/2=.025\\n# reject null\\n# or compare 1 with 97.5\\n'"
      ]
     },
     "execution_count": 155,
     "metadata": {},
     "output_type": "execute_result"
    }
   ],
   "source": [
    "'''p = np.sum(new_ls)/1000.0\n",
    "p\n",
    "# p val actually 1-p, .05/2=.025\n",
    "# reject null\n",
    "# or compare 1 with 97.5\n",
    "'''"
   ]
  },
  {
   "cell_type": "code",
   "execution_count": 158,
   "metadata": {},
   "outputs": [
    {
     "data": {
      "text/plain": [
       "98.24662384615384"
      ]
     },
     "execution_count": 158,
     "metadata": {},
     "output_type": "execute_result"
    }
   ],
   "source": [
    "p = np.sum(less)/1000\n",
    "p\n",
    "# 1-p = .0175 < .025\n",
    "# reject the null, there is a significant difference \n",
    "# between the data values and claimed true value of the human\n",
    "# body temperature "
   ]
  },
  {
   "cell_type": "code",
   "execution_count": 98,
   "metadata": {},
   "outputs": [],
   "source": [
    "# less = [x < 98.6 for x in mean_ls]\n",
    "#p = np.sum(mean_ls < 98.6)/1000\n",
    "#p \n",
    "# all values were less than 98.6\n",
    "# do not reject the null hypothesis\n",
    "# p = 1"
   ]
  },
  {
   "cell_type": "code",
   "execution_count": 63,
   "metadata": {
    "scrolled": true
   },
   "outputs": [
    {
     "name": "stdout",
     "output_type": "stream",
     "text": [
      "-5.4548232923645195 2.4106320415561276e-07\n"
     ]
    }
   ],
   "source": [
    "# one sample\n",
    "m = 98.6\n",
    "tstat,pval = sy.ttest_1samp(temper,m)\n",
    "print(tstat,pval)\n",
    "# REMEMBER: ttest_ind()"
   ]
  },
  {
   "cell_type": "code",
   "execution_count": 64,
   "metadata": {},
   "outputs": [
    {
     "name": "stdout",
     "output_type": "stream",
     "text": [
      "-5.4548232923645195 4.9021570141012155e-08\n"
     ]
    }
   ],
   "source": [
    "z_score, pvalue = ztest(temper,value=m)\n",
    "print(z_score, pvalue)\n",
    "# ANSWER: The values are pretty close to the same and we've used z score for n>30 but t tests are \n",
    "# a standard for small n < 30. so you don't have to worry about sample size with t tests\n",
    "# we reject the null in both cases, z and t test"
   ]
  },
  {
   "cell_type": "code",
   "execution_count": 65,
   "metadata": {},
   "outputs": [
    {
     "data": {
      "text/plain": [
       "98.24543"
      ]
     },
     "execution_count": 65,
     "metadata": {},
     "output_type": "execute_result"
    }
   ],
   "source": [
    "# 4. Draw a small sample of size 10 from the data and repeat both frequentist tests.\n",
    "# Which one is the correct one to use?\n",
    "# What do you notice? What does this tell you about the difference in application of the  𝑡  and  𝑧  statistic?\n",
    "mean_lengths, sims = [], 1000\n",
    "for i in range(sims):\n",
    "    temp_sample = np.random.choice(temper, replace=True, size=10)\n",
    "    sample_mean = temp_sample.mean()\n",
    "    mean_lengths.append(sample_mean)\n",
    "    \n",
    "boot_mean = np.mean(mean_lengths)\n",
    "boot_mean\n",
    "# ANSWER: result almost identical to n= 130"
   ]
  },
  {
   "cell_type": "code",
   "execution_count": 66,
   "metadata": {},
   "outputs": [
    {
     "name": "stdout",
     "output_type": "stream",
     "text": [
      "-0.35306336486846696 0.7321691185265413\n"
     ]
    }
   ],
   "source": [
    "tstat,pval = sy.ttest_1samp(temp_sample,m)\n",
    "print(tstat,pval)"
   ]
  },
  {
   "cell_type": "code",
   "execution_count": 67,
   "metadata": {},
   "outputs": [
    {
     "name": "stdout",
     "output_type": "stream",
     "text": [
      "-0.35306336486846696 0.7240409370754946\n"
     ]
    }
   ],
   "source": [
    "z_score, pvalue = ztest(temp_sample,value=m)\n",
    "print(z_score, pvalue)\n",
    "# ANSWER: in both both cases, we do not reject the null, size n = 10 changes \n",
    "# the p val extravagantly "
   ]
  },
  {
   "cell_type": "code",
   "execution_count": 68,
   "metadata": {
    "scrolled": true
   },
   "outputs": [],
   "source": [
    "# the t stat and z score for a boostrap size of 10 give the same results\n",
    "# both of the p values are under .05, telling us to reject the null hypothesis\n",
    "# with one exception, khan says n < 30 and the z test is a bad approximation \n",
    "# so the t test is better \n",
    "# also, the ztest method doesn't know our bootstrap sample came from a \n",
    "# sample size of 130\n",
    "# the ttest method doesn't know the original sample either "
   ]
  },
  {
   "cell_type": "code",
   "execution_count": 69,
   "metadata": {},
   "outputs": [
    {
     "name": "stdout",
     "output_type": "stream",
     "text": [
      "98.24923076923075    (98.12692307692305, 98.3738461538461)\n"
     ]
    }
   ],
   "source": [
    "# 5. At what temperature should we consider someone's temperature to be \n",
    "# \"abnormal\"? As in the previous example, try calculating everything \n",
    "# using the boostrap approach, as well as the frequentist approach.\n",
    "\n",
    "# Start by computing the margin of error and confidence interval. \n",
    "# When calculating the confidence interval, keep in mind that you \n",
    "# should use the appropriate formula for one draw, and not N draws.\n",
    "\n",
    "# temp_sample_130 = np.random.choice(temper, replace=True, size=130)\n",
    "temperarr = np.array(df.temperature)\n",
    "print(bs.bootstrap(temperarr, stat_func=bs_stats.mean))"
   ]
  },
  {
   "cell_type": "code",
   "execution_count": 70,
   "metadata": {},
   "outputs": [
    {
     "name": "stdout",
     "output_type": "stream",
     "text": [
      "0.730357778905038    (0.6294894282682064, 0.8355146670194691)\n"
     ]
    }
   ],
   "source": [
    "print(bs.bootstrap(temperarr, stat_func=bs_stats.std))"
   ]
  },
  {
   "cell_type": "code",
   "execution_count": 71,
   "metadata": {},
   "outputs": [
    {
     "name": "stdout",
     "output_type": "stream",
     "text": [
      "98.12319411222852 98.37526742623304\n"
     ]
    }
   ],
   "source": [
    "sample_mean = np.mean(df.temperature)\n",
    "sample_95 = 1.96*sem(df.temperature)\n",
    "sample_min = sample_mean - sample_95\n",
    "sample_max = sample_mean + sample_95\n",
    "print(sample_min,sample_max)\n",
    "# ci not very large "
   ]
  },
  {
   "cell_type": "code",
   "execution_count": 72,
   "metadata": {},
   "outputs": [],
   "source": [
    "# 6. Is there a significant difference between males and females in normal temperature?\n",
    "# What testing approach did you use and why?\n",
    "# Write a story with your conclusion in the context of the original problem.\n"
   ]
  },
  {
   "cell_type": "code",
   "execution_count": 73,
   "metadata": {
    "scrolled": true
   },
   "outputs": [
    {
     "data": {
      "text/plain": [
       "98.1046153846154"
      ]
     },
     "execution_count": 73,
     "metadata": {},
     "output_type": "execute_result"
    }
   ],
   "source": [
    "male = df[df['gender']== 'M']\n",
    "np.mean(male.temperature)"
   ]
  },
  {
   "cell_type": "code",
   "execution_count": 74,
   "metadata": {},
   "outputs": [
    {
     "data": {
      "text/plain": [
       "65"
      ]
     },
     "execution_count": 74,
     "metadata": {},
     "output_type": "execute_result"
    }
   ],
   "source": [
    "len(male.temperature)"
   ]
  },
  {
   "cell_type": "code",
   "execution_count": 75,
   "metadata": {
    "scrolled": true
   },
   "outputs": [
    {
     "data": {
      "text/plain": [
       "98.39384615384613"
      ]
     },
     "execution_count": 75,
     "metadata": {},
     "output_type": "execute_result"
    }
   ],
   "source": [
    "female = df[df['gender']== 'F']\n",
    "np.mean(female.temperature)"
   ]
  },
  {
   "cell_type": "code",
   "execution_count": 76,
   "metadata": {},
   "outputs": [
    {
     "data": {
      "text/plain": [
       "65"
      ]
     },
     "execution_count": 76,
     "metadata": {},
     "output_type": "execute_result"
    }
   ],
   "source": [
    "len(female.temperature)"
   ]
  },
  {
   "cell_type": "code",
   "execution_count": 77,
   "metadata": {},
   "outputs": [
    {
     "name": "stdout",
     "output_type": "stream",
     "text": [
      "-2.285434538165611 0.023938264182934196\n"
     ]
    }
   ],
   "source": [
    "t,p = ttest_ind(male.temperature,female.temperature,equal_var=False)\n",
    "print(t,p)\n",
    "# ANSWER: p val tells us to reject the null hyp, their means\n",
    "# are not identical\n",
    "# my use of t tests is justified earlier, it's a standard \n",
    "# you don't have to worry about size n > 30 samples "
   ]
  }
 ],
 "metadata": {
  "kernelspec": {
   "display_name": "Python 3",
   "language": "python",
   "name": "python3"
  },
  "language_info": {
   "codemirror_mode": {
    "name": "ipython",
    "version": 3
   },
   "file_extension": ".py",
   "mimetype": "text/x-python",
   "name": "python",
   "nbconvert_exporter": "python",
   "pygments_lexer": "ipython3",
   "version": "3.7.3"
  }
 },
 "nbformat": 4,
 "nbformat_minor": 2
}
