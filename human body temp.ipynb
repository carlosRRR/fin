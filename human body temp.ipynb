{
 "cells": [
  {
   "cell_type": "code",
   "execution_count": 36,
   "metadata": {},
   "outputs": [],
   "source": [
    "import numpy as np\n",
    "import pandas as pd\n",
    "import matplotlib.pyplot as plt\n",
    "import scipy.stats as sy\n",
    "from scipy.stats import kurtosis as ks\n",
    "from scipy.stats import skew as sw\n",
    "from scipy.stats import chisquare\n",
    "from scipy.stats import pearsonr\n",
    "from scipy.stats import spearmanr\n",
    "from scipy.stats import chi2_contingency\n",
    "from scipy.stats import ttest_ind, ttest_ind_from_stats\n",
    "from scipy.stats import sem\n",
    "from statsmodels.stats.weightstats import ztest\n",
    "import bootstrapped.bootstrap as bs\n",
    "import bootstrapped.stats_functions as bs_stats"
   ]
  },
  {
   "cell_type": "code",
   "execution_count": 37,
   "metadata": {},
   "outputs": [],
   "source": [
    "df = pd.read_csv('human_body_temperature.csv')"
   ]
  },
  {
   "cell_type": "code",
   "execution_count": 38,
   "metadata": {
    "scrolled": true
   },
   "outputs": [
    {
     "data": {
      "text/html": [
       "<div>\n",
       "<style scoped>\n",
       "    .dataframe tbody tr th:only-of-type {\n",
       "        vertical-align: middle;\n",
       "    }\n",
       "\n",
       "    .dataframe tbody tr th {\n",
       "        vertical-align: top;\n",
       "    }\n",
       "\n",
       "    .dataframe thead th {\n",
       "        text-align: right;\n",
       "    }\n",
       "</style>\n",
       "<table border=\"1\" class=\"dataframe\">\n",
       "  <thead>\n",
       "    <tr style=\"text-align: right;\">\n",
       "      <th></th>\n",
       "      <th>temperature</th>\n",
       "      <th>gender</th>\n",
       "      <th>heart_rate</th>\n",
       "    </tr>\n",
       "  </thead>\n",
       "  <tbody>\n",
       "    <tr>\n",
       "      <th>0</th>\n",
       "      <td>99.3</td>\n",
       "      <td>F</td>\n",
       "      <td>68.0</td>\n",
       "    </tr>\n",
       "    <tr>\n",
       "      <th>1</th>\n",
       "      <td>98.4</td>\n",
       "      <td>F</td>\n",
       "      <td>81.0</td>\n",
       "    </tr>\n",
       "    <tr>\n",
       "      <th>2</th>\n",
       "      <td>97.8</td>\n",
       "      <td>M</td>\n",
       "      <td>73.0</td>\n",
       "    </tr>\n",
       "    <tr>\n",
       "      <th>3</th>\n",
       "      <td>99.2</td>\n",
       "      <td>F</td>\n",
       "      <td>66.0</td>\n",
       "    </tr>\n",
       "    <tr>\n",
       "      <th>4</th>\n",
       "      <td>98.0</td>\n",
       "      <td>F</td>\n",
       "      <td>73.0</td>\n",
       "    </tr>\n",
       "  </tbody>\n",
       "</table>\n",
       "</div>"
      ],
      "text/plain": [
       "   temperature gender  heart_rate\n",
       "0         99.3      F        68.0\n",
       "1         98.4      F        81.0\n",
       "2         97.8      M        73.0\n",
       "3         99.2      F        66.0\n",
       "4         98.0      F        73.0"
      ]
     },
     "execution_count": 38,
     "metadata": {},
     "output_type": "execute_result"
    }
   ],
   "source": [
    "# df.count()\n",
    "# count of 130\n",
    "df.head()\n",
    "# 2. Is the sample size large? Are the observations independent?\n",
    "\n",
    "# the random variable temperature is dependent on itself, \n",
    "# since we check independence between two or more random variables and not with itself,  \n",
    "# if we're checking independence between observations here, there's \n",
    "# no way of knowing whether the same individual was observed more than once\n",
    "# unless it were apparent there were duplicates across columns for many rows, \n",
    "# we're only dealing with the temperature column  \n",
    "\n",
    "# a larger sample size will generally give you a better estimate of the \n",
    "# true population parameter up to a certain point\n",
    "# since we only have one small sample, it is difficult to say whether or not\n",
    "# the sample is indicative of the population parameter\n",
    "# sample that is too small can lead to poor precision and confidence \n",
    "# in approximating the true population parameter\n",
    "# it has been said that a sample size of 30 is sufficient for normally distributed data"
   ]
  },
  {
   "cell_type": "code",
   "execution_count": 39,
   "metadata": {},
   "outputs": [
    {
     "data": {
      "text/html": [
       "<div>\n",
       "<style scoped>\n",
       "    .dataframe tbody tr th:only-of-type {\n",
       "        vertical-align: middle;\n",
       "    }\n",
       "\n",
       "    .dataframe tbody tr th {\n",
       "        vertical-align: top;\n",
       "    }\n",
       "\n",
       "    .dataframe thead th {\n",
       "        text-align: right;\n",
       "    }\n",
       "</style>\n",
       "<table border=\"1\" class=\"dataframe\">\n",
       "  <thead>\n",
       "    <tr style=\"text-align: right;\">\n",
       "      <th></th>\n",
       "      <th>temperature</th>\n",
       "      <th>heart_rate</th>\n",
       "    </tr>\n",
       "  </thead>\n",
       "  <tbody>\n",
       "    <tr>\n",
       "      <th>count</th>\n",
       "      <td>130.000000</td>\n",
       "      <td>130.000000</td>\n",
       "    </tr>\n",
       "    <tr>\n",
       "      <th>mean</th>\n",
       "      <td>98.249231</td>\n",
       "      <td>73.761538</td>\n",
       "    </tr>\n",
       "    <tr>\n",
       "      <th>std</th>\n",
       "      <td>0.733183</td>\n",
       "      <td>7.062077</td>\n",
       "    </tr>\n",
       "    <tr>\n",
       "      <th>min</th>\n",
       "      <td>96.300000</td>\n",
       "      <td>57.000000</td>\n",
       "    </tr>\n",
       "    <tr>\n",
       "      <th>25%</th>\n",
       "      <td>97.800000</td>\n",
       "      <td>69.000000</td>\n",
       "    </tr>\n",
       "    <tr>\n",
       "      <th>50%</th>\n",
       "      <td>98.300000</td>\n",
       "      <td>74.000000</td>\n",
       "    </tr>\n",
       "    <tr>\n",
       "      <th>75%</th>\n",
       "      <td>98.700000</td>\n",
       "      <td>79.000000</td>\n",
       "    </tr>\n",
       "    <tr>\n",
       "      <th>max</th>\n",
       "      <td>100.800000</td>\n",
       "      <td>89.000000</td>\n",
       "    </tr>\n",
       "  </tbody>\n",
       "</table>\n",
       "</div>"
      ],
      "text/plain": [
       "       temperature  heart_rate\n",
       "count   130.000000  130.000000\n",
       "mean     98.249231   73.761538\n",
       "std       0.733183    7.062077\n",
       "min      96.300000   57.000000\n",
       "25%      97.800000   69.000000\n",
       "50%      98.300000   74.000000\n",
       "75%      98.700000   79.000000\n",
       "max     100.800000   89.000000"
      ]
     },
     "execution_count": 39,
     "metadata": {},
     "output_type": "execute_result"
    }
   ],
   "source": [
    "# sy.chisquare(df.temperature,df.heart_rate)\n",
    "# 2. \n",
    "df.describe()"
   ]
  },
  {
   "cell_type": "code",
   "execution_count": 40,
   "metadata": {},
   "outputs": [
    {
     "data": {
      "text/plain": [
       "(array([ 4.,  6., 15., 26., 30., 30., 15.,  1.,  2.,  1.]),\n",
       " array([ 96.3 ,  96.75,  97.2 ,  97.65,  98.1 ,  98.55,  99.  ,  99.45,\n",
       "         99.9 , 100.35, 100.8 ]),\n",
       " <a list of 10 Patch objects>)"
      ]
     },
     "execution_count": 40,
     "metadata": {},
     "output_type": "execute_result"
    },
    {
     "data": {
      "image/png": "[encoded data removed]",
      "text/plain": [
       "<Figure size 432x288 with 1 Axes>"
      ]
     },
     "metadata": {
      "needs_background": "light"
     },
     "output_type": "display_data"
    }
   ],
   "source": [
    "plt.hist(df.temperature)\n",
    "# 1. is the distribution normal? probably but the shapiro and anderson tests \n",
    "# tell us not to reject the null hypothesis for n 0f 130 observations  \n",
    "# REMEMBER: sy.normaltest(), allows for management of missing data"
   ]
  },
  {
   "cell_type": "code",
   "execution_count": 41,
   "metadata": {},
   "outputs": [
    {
     "data": {
      "text/plain": [
       "(0.2536564027207642, 0.003591489250708233)"
      ]
     },
     "execution_count": 41,
     "metadata": {},
     "output_type": "execute_result"
    }
   ],
   "source": [
    "temper = df['temperature']\n",
    "heart = df['heart_rate']\n",
    "sy.pearsonr(temper,heart)\n",
    "# most likely, the numeric columns are independent ands if they are \n",
    "# then so is the categorical column \n",
    "# p value says to reject null and that there is a low correlation of .25"
   ]
  },
  {
   "cell_type": "code",
   "execution_count": 133,
   "metadata": {},
   "outputs": [
    {
     "data": {
      "text/plain": [
       "True     81\n",
       "False    49\n",
       "Name: temperature, dtype: int64"
      ]
     },
     "execution_count": 133,
     "metadata": {},
     "output_type": "execute_result"
    }
   ],
   "source": [
    "(temper < 98.6).value_counts()\n",
    "# 81/130 = .623077"
   ]
  },
  {
   "cell_type": "code",
   "execution_count": 130,
   "metadata": {},
   "outputs": [
    {
     "data": {
      "text/plain": [
       "130"
      ]
     },
     "execution_count": 130,
     "metadata": {},
     "output_type": "execute_result"
    }
   ],
   "source": [
    "temper.count()"
   ]
  },
  {
   "cell_type": "code",
   "execution_count": 42,
   "metadata": {},
   "outputs": [
    {
     "data": {
      "text/plain": [
       "SpearmanrResult(correlation=0.2809189896902398, pvalue=0.0012058853002699706)"
      ]
     },
     "execution_count": 42,
     "metadata": {},
     "output_type": "execute_result"
    }
   ],
   "source": [
    "sy.spearmanr(temper,heart)\n",
    "# spearman says the same as pearson"
   ]
  },
  {
   "cell_type": "code",
   "execution_count": 43,
   "metadata": {},
   "outputs": [
    {
     "data": {
      "text/plain": [
       "Power_divergenceResult(statistic=1212.6534787818964, pvalue=1.682647940164671e-175)"
      ]
     },
     "execution_count": 43,
     "metadata": {},
     "output_type": "execute_result"
    }
   ],
   "source": [
    "sy.chisquare(temper,heart)"
   ]
  },
  {
   "cell_type": "code",
   "execution_count": 44,
   "metadata": {},
   "outputs": [
    {
     "name": "stdout",
     "output_type": "stream",
     "text": [
      "909.4347952312239 0.967631309911425\n"
     ]
    }
   ],
   "source": [
    "table = pd.crosstab(temper,heart)\n",
    "chi2,p,dof,expected = chi2_contingency(table.values)\n",
    "print(chi2,p)\n",
    "# p value > .05 tells us that columns are independent\n",
    "# STOP number two "
   ]
  },
  {
   "cell_type": "code",
   "execution_count": 45,
   "metadata": {},
   "outputs": [
    {
     "data": {
      "text/plain": [
       "-0.004367976879081625"
      ]
     },
     "execution_count": 45,
     "metadata": {},
     "output_type": "execute_result"
    }
   ],
   "source": [
    "sy.skew(df.temperature)\n",
    "# as the histogram indicates, skew is close to 0\n",
    "# this aspect is normal"
   ]
  },
  {
   "cell_type": "code",
   "execution_count": 46,
   "metadata": {},
   "outputs": [
    {
     "data": {
      "text/plain": [
       "0.7049597854114693"
      ]
     },
     "execution_count": 46,
     "metadata": {},
     "output_type": "execute_result"
    }
   ],
   "source": [
    "sy.kurtosis(df.temperature)\n",
    "# as the histogram indicates, there is kurtosis\n",
    "# kurtosis of a normal distribution is generally 0 "
   ]
  },
  {
   "cell_type": "code",
   "execution_count": 47,
   "metadata": {},
   "outputs": [
    {
     "data": {
      "text/plain": [
       "(2.6923250029836856, 0.2602370060406519)"
      ]
     },
     "execution_count": 47,
     "metadata": {},
     "output_type": "execute_result"
    }
   ],
   "source": [
    "sy.jarque_bera(df.temperature)\n",
    "# jb_value is not close to 0, so it is not normal according to the test stat\n",
    "# p value is > .05, the traditional threshold for rejecting the null hypothesis\n",
    "# we do not reject the null hypothesis that the distribution is normal\n",
    "# the values are in conflict"
   ]
  },
  {
   "cell_type": "code",
   "execution_count": 48,
   "metadata": {},
   "outputs": [
    {
     "data": {
      "text/plain": [
       "KstestResult(statistic=1.0, pvalue=0.0)"
      ]
     },
     "execution_count": 48,
     "metadata": {},
     "output_type": "execute_result"
    }
   ],
   "source": [
    "sy.kstest(df.temperature,'norm')\n",
    "# stat says the null is true, and the distrubution is normal \n",
    "# p value tells us to reject the null hypothesis"
   ]
  },
  {
   "cell_type": "code",
   "execution_count": 49,
   "metadata": {},
   "outputs": [
    {
     "data": {
      "text/plain": [
       "(0.9865769743919373, 0.2331680953502655)"
      ]
     },
     "execution_count": 49,
     "metadata": {},
     "output_type": "execute_result"
    }
   ],
   "source": [
    "sy.shapiro(df.temperature)\n",
    "# do not reject the null"
   ]
  },
  {
   "cell_type": "code",
   "execution_count": 50,
   "metadata": {},
   "outputs": [
    {
     "data": {
      "text/plain": [
       "AndersonResult(statistic=0.5201038826714353, critical_values=array([0.56 , 0.637, 0.765, 0.892, 1.061]), significance_level=array([15. , 10. ,  5. ,  2.5,  1. ]))"
      ]
     },
     "execution_count": 50,
     "metadata": {},
     "output_type": "execute_result"
    }
   ],
   "source": [
    "sy.anderson(df.temperature,'norm')\n",
    "# do not reject the null "
   ]
  },
  {
   "cell_type": "code",
   "execution_count": 51,
   "metadata": {},
   "outputs": [
    {
     "data": {
      "text/plain": [
       "NormaltestResult(statistic=2.703801433319203, pvalue=0.2587479863488254)"
      ]
     },
     "execution_count": 51,
     "metadata": {},
     "output_type": "execute_result"
    }
   ],
   "source": [
    "sy.normaltest(temper)"
   ]
  },
  {
   "cell_type": "code",
   "execution_count": 52,
   "metadata": {},
   "outputs": [],
   "source": [
    "# //// //// //// ////"
   ]
  },
  {
   "cell_type": "code",
   "execution_count": 53,
   "metadata": {},
   "outputs": [],
   "source": [
    "# //// //// //// ////"
   ]
  },
  {
   "cell_type": "code",
   "execution_count": 54,
   "metadata": {},
   "outputs": [],
   "source": [
    "# 3. Is the true population mean really 98.6 degrees F? \n",
    "# First, try a bootstrap hypothesis test.\n",
    "# ****Now, let's try frequentist statistical testing. Would you use a \n",
    "# one-sample or two-sample test? Why? \n",
    "\n",
    "# ****In this situation, is it appropriate to use the  𝑡  or  𝑧  statistic?\n",
    "# Now try using the other test. How is the result different? Why?"
   ]
  },
  {
   "cell_type": "code",
   "execution_count": 55,
   "metadata": {},
   "outputs": [],
   "source": [
    "# ANSWER: we only have one temperature column so we do a one sample t test. "
   ]
  },
  {
   "cell_type": "markdown",
   "metadata": {},
   "source": [
    "CORRECTION Bootstrap Beginning "
   ]
  },
  {
   "cell_type": "code",
   "execution_count": 175,
   "metadata": {},
   "outputs": [],
   "source": [
    "# bootstrap ***REVISED***\n",
    "\n",
    "mean_ls, simuls = [], 1000\n",
    "for s in range(simuls):\n",
    "    tmp_samp = np.random.choice(temper, replace=True, size=len(temper))\n",
    "    samp_mean = tmp_samp.mean()\n",
    "    mean_ls.append(samp_mean)"
   ]
  },
  {
   "cell_type": "code",
   "execution_count": 176,
   "metadata": {},
   "outputs": [
    {
     "data": {
      "text/plain": [
       "array([ 98.8,  98.5,  98.4,  98. , 100. ,  97.3,  98.1,  97.5,  96.7,\n",
       "        98. ,  97.4,  98. ,  97.2,  98.6,  99.9,  97.4,  98.8,  97.8,\n",
       "        97.5,  98.1,  98.7,  98.1,  98.4,  97.8,  96.3,  96.7,  98.2,\n",
       "        97.2,  98. ,  97.4,  97.9,  97.1,  98.2,  98.4,  98.6,  98.7,\n",
       "        98.4,  98.2,  98.1,  98.7,  98.7,  98.9,  97.1,  98. ,  97.6,\n",
       "        98.8,  98.6,  99. ,  98.8,  98. ,  97.8,  97.8,  98.8,  98.4,\n",
       "        98.2,  98.8,  96.3,  99.2,  98.6,  98.6,  99.5,  98. ,  98.7,\n",
       "        99.1,  98.6,  97.8,  98.3,  98.2,  96.8,  98.2,  98.7,  97.1,\n",
       "        97.5,  98.2,  98.8,  98.8,  97.8,  97.8,  98.7,  98. ,  98.4,\n",
       "        98.6,  98.3,  99.1,  97.1,  97.2,  98.6,  98. ,  97.6,  98.4,\n",
       "        97.4,  97.4,  96.8,  97.6,  98.5,  98. ,  97.1,  97.4,  99. ,\n",
       "        97.2,  98.9,  98.6,  96.8,  97.7,  99.5,  98.3,  98.9,  98. ,\n",
       "        98. ,  98.6,  97.4,  98.2,  98.8,  98.7,  96.4,  98.8,  97.6,\n",
       "        98.6,  98.6,  99. ,  98.5,  99.3,  99.3,  97. ,  98.4,  97.8,\n",
       "        98.8,  98.2,  98. ,  98. ])"
      ]
     },
     "execution_count": 176,
     "metadata": {},
     "output_type": "execute_result"
    }
   ],
   "source": [
    "tmp_samp\n",
    "# last tmp sample"
   ]
  },
  {
   "cell_type": "code",
   "execution_count": 177,
   "metadata": {},
   "outputs": [
    {
     "data": {
      "text/plain": [
       "98.13923076923076"
      ]
     },
     "execution_count": 177,
     "metadata": {},
     "output_type": "execute_result"
    }
   ],
   "source": [
    "samp_mean\n",
    "# last samp mean"
   ]
  },
  {
   "cell_type": "code",
   "execution_count": 187,
   "metadata": {},
   "outputs": [],
   "source": [
    "less = [1 for i in mean_ls if i < 98.6]"
   ]
  },
  {
   "cell_type": "code",
   "execution_count": 188,
   "metadata": {},
   "outputs": [
    {
     "data": {
      "text/plain": [
       "[]"
      ]
     },
     "execution_count": 188,
     "metadata": {},
     "output_type": "execute_result"
    }
   ],
   "source": [
    "more = [i for i in mean_ls if i > 98.6]\n",
    "more"
   ]
  },
  {
   "cell_type": "code",
   "execution_count": 189,
   "metadata": {},
   "outputs": [
    {
     "data": {
      "text/plain": [
       "[98.19615384615386,\n",
       " 98.31461538461537,\n",
       " 98.29230769230769,\n",
       " 98.29846153846154,\n",
       " 98.30999999999999,\n",
       " 98.23384615384613,\n",
       " 98.23461538461538,\n",
       " 98.25307692307693,\n",
       " 98.24615384615385,\n",
       " 98.2646153846154,\n",
       " 98.18769230769232,\n",
       " 98.1646153846154,\n",
       " 98.19692307692308,\n",
       " 98.28692307692307,\n",
       " 98.25,\n",
       " 98.25846153846155,\n",
       " 98.28307692307695,\n",
       " 98.25769230769231,\n",
       " 98.21153846153847,\n",
       " 98.25076923076924,\n",
       " 98.29538461538462,\n",
       " 98.31923076923077,\n",
       " 98.30615384615385,\n",
       " 98.17230769230768,\n",
       " 98.34,\n",
       " 98.30461538461537,\n",
       " 98.2953846153846,\n",
       " 98.25384615384615,\n",
       " 98.23307692307692,\n",
       " 98.42769230769231,\n",
       " 98.2969230769231,\n",
       " 98.24846153846153,\n",
       " 98.33461538461539,\n",
       " 98.21615384615386,\n",
       " 98.24153846153845,\n",
       " 98.26461538461538,\n",
       " 98.22153846153846,\n",
       " 98.23923076923077,\n",
       " 98.24538461538462,\n",
       " 98.2776923076923,\n",
       " 98.2176923076923,\n",
       " 98.24307692307691,\n",
       " 98.20076923076924,\n",
       " 98.31230769230768,\n",
       " 98.19384615384615,\n",
       " 98.27538461538464,\n",
       " 98.31153846153846,\n",
       " 98.35307692307693,\n",
       " 98.27538461538461,\n",
       " 98.17692307692307,\n",
       " 98.43692307692307,\n",
       " 98.26384615384615,\n",
       " 98.24076923076923,\n",
       " 98.39692307692307,\n",
       " 98.08384615384615,\n",
       " 98.26538461538462,\n",
       " 98.04153846153847,\n",
       " 98.2523076923077,\n",
       " 98.25,\n",
       " 98.28846153846153,\n",
       " 98.22923076923077,\n",
       " 98.27923076923076,\n",
       " 98.34076923076923,\n",
       " 98.16615384615383,\n",
       " 98.23307692307692,\n",
       " 98.25076923076922,\n",
       " 98.21846153846155,\n",
       " 98.1423076923077,\n",
       " 98.19076923076922,\n",
       " 98.24692307692307,\n",
       " 98.26923076923077,\n",
       " 98.26538461538462,\n",
       " 98.2146153846154,\n",
       " 98.25923076923077,\n",
       " 98.25999999999999,\n",
       " 98.22846153846154,\n",
       " 98.27153846153846,\n",
       " 98.22153846153846,\n",
       " 98.28846153846153,\n",
       " 98.20538461538462,\n",
       " 98.25769230769231,\n",
       " 98.32999999999998,\n",
       " 98.28153846153846,\n",
       " 98.36153846153846,\n",
       " 98.31846153846155,\n",
       " 98.2146153846154,\n",
       " 98.35923076923078,\n",
       " 98.33769230769231,\n",
       " 98.21538461538462,\n",
       " 98.16615384615385,\n",
       " 98.29461538461538,\n",
       " 98.23846153846154,\n",
       " 98.29538461538459,\n",
       " 98.25769230769231,\n",
       " 98.29076923076923,\n",
       " 98.23,\n",
       " 98.25153846153847,\n",
       " 98.22538461538461,\n",
       " 98.20692307692308,\n",
       " 98.19000000000001,\n",
       " 98.27846153846153,\n",
       " 98.24153846153844,\n",
       " 98.25615384615384,\n",
       " 98.25538461538461,\n",
       " 98.28846153846153,\n",
       " 98.33307692307692,\n",
       " 98.23076923076923,\n",
       " 98.27846153846154,\n",
       " 98.20153846153846,\n",
       " 98.28923076923076,\n",
       " 98.38384615384615,\n",
       " 98.27692307692308,\n",
       " 98.35615384615386,\n",
       " 98.30615384615385,\n",
       " 98.1853846153846,\n",
       " 98.20307692307694,\n",
       " 98.24153846153845,\n",
       " 98.32076923076923,\n",
       " 98.23384615384614,\n",
       " 98.17307692307692,\n",
       " 98.26230769230772,\n",
       " 98.27461538461537,\n",
       " 98.2969230769231,\n",
       " 98.22076923076924,\n",
       " 98.35846153846153,\n",
       " 98.22,\n",
       " 98.34384615384616,\n",
       " 98.21846153846155,\n",
       " 98.29,\n",
       " 98.13384615384616,\n",
       " 98.2223076923077,\n",
       " 98.37153846153845,\n",
       " 98.26923076923077,\n",
       " 98.14615384615385,\n",
       " 98.29,\n",
       " 98.30692307692307,\n",
       " 98.30999999999999,\n",
       " 98.28923076923077,\n",
       " 98.28538461538463,\n",
       " 98.3030769230769,\n",
       " 98.31,\n",
       " 98.19846153846153,\n",
       " 98.18923076923078,\n",
       " 98.16538461538461,\n",
       " 98.24000000000001,\n",
       " 98.24076923076923,\n",
       " 98.25230769230768,\n",
       " 98.24692307692307,\n",
       " 98.28384615384616,\n",
       " 98.23615384615384,\n",
       " 98.21307692307693,\n",
       " 98.14615384615385,\n",
       " 98.1776923076923,\n",
       " 98.16307692307693,\n",
       " 98.29384615384615,\n",
       " 98.19846153846153,\n",
       " 98.24076923076923,\n",
       " 98.28769230769232,\n",
       " 98.32692307692307,\n",
       " 98.28692307692307,\n",
       " 98.25846153846153,\n",
       " 98.32846153846153,\n",
       " 98.25153846153846,\n",
       " 98.11769230769231,\n",
       " 98.26307692307692,\n",
       " 98.20692307692309,\n",
       " 98.30076923076922,\n",
       " 98.25076923076924,\n",
       " 98.30461538461537,\n",
       " 98.26999999999998,\n",
       " 98.3223076923077,\n",
       " 98.20923076923077,\n",
       " 98.33538461538461,\n",
       " 98.09846153846154,\n",
       " 98.28461538461538,\n",
       " 98.31307692307693,\n",
       " 98.32000000000001,\n",
       " 98.29846153846154,\n",
       " 98.25076923076922,\n",
       " 98.31846153846155,\n",
       " 98.34,\n",
       " 98.15153846153846,\n",
       " 98.19307692307694,\n",
       " 98.22384615384614,\n",
       " 98.24307692307691,\n",
       " 98.2676923076923,\n",
       " 98.20692307692306,\n",
       " 98.27538461538462,\n",
       " 98.29692307692306,\n",
       " 98.23384615384614,\n",
       " 98.22846153846154,\n",
       " 98.26538461538462,\n",
       " 98.18076923076923,\n",
       " 98.34,\n",
       " 98.24461538461539,\n",
       " 98.26153846153846,\n",
       " 98.2823076923077,\n",
       " 98.37615384615384,\n",
       " 98.38076923076923,\n",
       " 98.30230769230769,\n",
       " 98.30692307692308,\n",
       " 98.30076923076923,\n",
       " 98.34153846153846,\n",
       " 98.1853846153846,\n",
       " 98.21923076923076,\n",
       " 98.31076923076924,\n",
       " 98.2623076923077,\n",
       " 98.26461538461538,\n",
       " 98.30230769230769,\n",
       " 98.2676923076923,\n",
       " 98.21384615384615,\n",
       " 98.18923076923078,\n",
       " 98.21076923076923,\n",
       " 98.24000000000001,\n",
       " 98.1776923076923,\n",
       " 98.16076923076925,\n",
       " 98.21846153846155,\n",
       " 98.26615384615384,\n",
       " 98.28461538461538,\n",
       " 98.29461538461538,\n",
       " 98.15076923076923,\n",
       " 98.31846153846155,\n",
       " 98.30846153846156,\n",
       " 98.20307692307694,\n",
       " 98.27000000000001,\n",
       " 98.25769230769231,\n",
       " 98.3176923076923,\n",
       " 98.16384615384615,\n",
       " 98.24692307692308,\n",
       " 98.20461538461538,\n",
       " 98.32230769230769,\n",
       " 98.23692307692308,\n",
       " 98.11615384615384,\n",
       " 98.31153846153846,\n",
       " 98.22307692307692,\n",
       " 98.25769230769231,\n",
       " 98.15076923076923,\n",
       " 98.1246153846154,\n",
       " 98.36153846153846,\n",
       " 98.26538461538462,\n",
       " 98.29076923076924,\n",
       " 98.1076923076923,\n",
       " 98.27923076923076,\n",
       " 98.33461538461539,\n",
       " 98.16846153846154,\n",
       " 98.1923076923077,\n",
       " 98.16153846153846,\n",
       " 98.20615384615385,\n",
       " 98.34384615384616,\n",
       " 98.2853846153846,\n",
       " 98.2353846153846,\n",
       " 98.24846153846153,\n",
       " 98.07,\n",
       " 98.24076923076923,\n",
       " 98.31538461538462,\n",
       " 98.22153846153846,\n",
       " 98.30999999999999,\n",
       " 98.16,\n",
       " 98.23000000000002,\n",
       " 98.28,\n",
       " 98.24230769230769,\n",
       " 98.26692307692308,\n",
       " 98.30999999999999,\n",
       " 98.29230769230769,\n",
       " 98.32923076923076,\n",
       " 98.13769230769232,\n",
       " 98.21999999999998,\n",
       " 98.27153846153846,\n",
       " 98.29461538461538,\n",
       " 98.30999999999999,\n",
       " 98.26461538461537,\n",
       " 98.26846153846155,\n",
       " 98.24153846153847,\n",
       " 98.3776923076923,\n",
       " 98.2223076923077,\n",
       " 98.23076923076923,\n",
       " 98.29,\n",
       " 98.3323076923077,\n",
       " 98.28846153846153,\n",
       " 98.19000000000001,\n",
       " 98.3,\n",
       " 98.32923076923076,\n",
       " 98.19538461538463,\n",
       " 98.20769230769231,\n",
       " 98.35307692307694,\n",
       " 98.16153846153846,\n",
       " 98.19923076923078,\n",
       " 98.24307692307691,\n",
       " 98.28307692307692,\n",
       " 98.19153846153846,\n",
       " 98.20538461538462,\n",
       " 98.25692307692307,\n",
       " 98.30153846153847,\n",
       " 98.20384615384616,\n",
       " 98.20153846153845,\n",
       " 98.24,\n",
       " 98.26384615384616,\n",
       " 98.20307692307692,\n",
       " 98.26846153846154,\n",
       " 98.25769230769232,\n",
       " 98.2523076923077,\n",
       " 98.17538461538462,\n",
       " 98.3623076923077,\n",
       " 98.17076923076922,\n",
       " 98.26692307692308,\n",
       " 98.18461538461538,\n",
       " 98.32384615384616,\n",
       " 98.21692307692305,\n",
       " 98.36230769230768,\n",
       " 98.3076923076923,\n",
       " 98.2776923076923,\n",
       " 98.26846153846152,\n",
       " 98.23923076923076,\n",
       " 98.18846153846154,\n",
       " 98.32923076923076,\n",
       " 98.24307692307691,\n",
       " 98.20846153846155,\n",
       " 98.24076923076923,\n",
       " 98.26307692307692,\n",
       " 98.18846153846154,\n",
       " 98.25384615384615,\n",
       " 98.1923076923077,\n",
       " 98.30615384615385,\n",
       " 98.22076923076924,\n",
       " 98.33923076923077,\n",
       " 98.19769230769231,\n",
       " 98.22384615384614,\n",
       " 98.18923076923078,\n",
       " 98.34461538461538,\n",
       " 98.08769230769231,\n",
       " 98.24153846153844,\n",
       " 98.22307692307692,\n",
       " 98.23230769230769,\n",
       " 98.20461538461538,\n",
       " 98.26538461538462,\n",
       " 98.22076923076924,\n",
       " 98.16307692307693,\n",
       " 98.25999999999999,\n",
       " 98.23615384615385,\n",
       " 98.25692307692307,\n",
       " 98.3746153846154,\n",
       " 98.19615384615385,\n",
       " 98.26846153846155,\n",
       " 98.23692307692308,\n",
       " 98.30384615384615,\n",
       " 98.19307692307692,\n",
       " 98.20384615384616,\n",
       " 98.24846153846153,\n",
       " 98.29923076923077,\n",
       " 98.31769230769231,\n",
       " 98.29307692307692,\n",
       " 98.24692307692307,\n",
       " 98.27384615384615,\n",
       " 98.25230769230768,\n",
       " 98.24461538461537,\n",
       " 98.10384615384615,\n",
       " 98.25,\n",
       " 98.25692307692309,\n",
       " 98.25846153846155,\n",
       " 98.28307692307692,\n",
       " 98.17153846153847,\n",
       " 98.23307692307692,\n",
       " 98.40230769230769,\n",
       " 98.2176923076923,\n",
       " 98.29,\n",
       " 98.31307692307693,\n",
       " 98.30999999999999,\n",
       " 98.27999999999999,\n",
       " 98.15461538461537,\n",
       " 98.33,\n",
       " 98.29923076923075,\n",
       " 98.25384615384615,\n",
       " 98.29307692307691,\n",
       " 98.30153846153847,\n",
       " 98.25,\n",
       " 98.24538461538462,\n",
       " 98.20384615384616,\n",
       " 98.23615384615385,\n",
       " 98.28923076923076,\n",
       " 98.2,\n",
       " 98.30307692307692,\n",
       " 98.29923076923077,\n",
       " 98.22538461538461,\n",
       " 98.31153846153846,\n",
       " 98.34153846153848,\n",
       " 98.15076923076923,\n",
       " 98.30307692307693,\n",
       " 98.30153846153847,\n",
       " 98.29,\n",
       " 98.29230769230769,\n",
       " 98.32692307692308,\n",
       " 98.21692307692308,\n",
       " 98.31846153846153,\n",
       " 98.29769230769232,\n",
       " 98.13000000000001,\n",
       " 98.28307692307692,\n",
       " 98.19692307692308,\n",
       " 98.30307692307692,\n",
       " 98.18076923076923,\n",
       " 98.16230769230769,\n",
       " 98.28615384615384,\n",
       " 98.25538461538463,\n",
       " 98.24461538461539,\n",
       " 98.37692307692308,\n",
       " 98.34076923076923,\n",
       " 98.17846153846155,\n",
       " 98.20615384615384,\n",
       " 98.27384615384615,\n",
       " 98.26384615384615,\n",
       " 98.24769230769232,\n",
       " 98.16846153846154,\n",
       " 98.28615384615385,\n",
       " 98.2223076923077,\n",
       " 98.15307692307692,\n",
       " 98.28615384615385,\n",
       " 98.36153846153846,\n",
       " 98.23923076923076,\n",
       " 98.28923076923077,\n",
       " 98.16846153846154,\n",
       " 98.25153846153847,\n",
       " 98.32230769230769,\n",
       " 98.37153846153845,\n",
       " 98.21230769230769,\n",
       " 98.26307692307691,\n",
       " 98.14307692307693,\n",
       " 98.13923076923076,\n",
       " 98.14,\n",
       " 98.24538461538461,\n",
       " 98.25153846153847,\n",
       " 98.20692307692306,\n",
       " 98.2776923076923,\n",
       " 98.20923076923077,\n",
       " 98.30692307692308,\n",
       " 98.21384615384615,\n",
       " 98.18769230769232,\n",
       " 98.17538461538462,\n",
       " 98.41384615384615,\n",
       " 98.24153846153844,\n",
       " 98.36692307692309,\n",
       " 98.28307692307692,\n",
       " 98.28923076923076,\n",
       " 98.22307692307692,\n",
       " 98.31076923076922,\n",
       " 98.31230769230768,\n",
       " 98.2030769230769,\n",
       " 98.28692307692309,\n",
       " 98.21076923076924,\n",
       " 98.33538461538463,\n",
       " 98.24307692307694,\n",
       " 98.25076923076922,\n",
       " 98.32615384615384,\n",
       " 98.35230769230769,\n",
       " 98.16307692307693,\n",
       " 98.27307692307693,\n",
       " 98.2030769230769,\n",
       " 98.18846153846154,\n",
       " 98.15692307692309,\n",
       " 98.18153846153845,\n",
       " 98.18846153846154,\n",
       " 98.23923076923077,\n",
       " 98.22153846153846,\n",
       " 98.25461538461539,\n",
       " 98.2176923076923,\n",
       " 98.36538461538461,\n",
       " 98.22538461538461,\n",
       " 98.20538461538462,\n",
       " 98.14461538461539,\n",
       " 98.28538461538461,\n",
       " 98.30923076923078,\n",
       " 98.22846153846154,\n",
       " 98.22692307692307,\n",
       " 98.29538461538459,\n",
       " 98.28000000000002,\n",
       " 98.20538461538462,\n",
       " 98.24692307692307,\n",
       " 98.06923076923077,\n",
       " 98.29,\n",
       " 98.34846153846154,\n",
       " 98.22846153846154,\n",
       " 98.20923076923076,\n",
       " 98.17846153846155,\n",
       " 98.20923076923077,\n",
       " 98.15384615384616,\n",
       " 98.18230769230769,\n",
       " 98.28076923076924,\n",
       " 98.36692307692309,\n",
       " 98.24615384615385,\n",
       " 98.26615384615386,\n",
       " 98.24307692307693,\n",
       " 98.31615384615385,\n",
       " 98.23461538461538,\n",
       " 98.18846153846154,\n",
       " 98.22846153846154,\n",
       " 98.34076923076923,\n",
       " 98.22153846153846,\n",
       " 98.21538461538462,\n",
       " 98.38307692307691,\n",
       " 98.39076923076922,\n",
       " 98.25,\n",
       " 98.16538461538461,\n",
       " 98.27230769230768,\n",
       " 98.29,\n",
       " 98.25384615384615,\n",
       " 98.20846153846152,\n",
       " 98.3123076923077,\n",
       " 98.25,\n",
       " 98.21153846153847,\n",
       " 98.28846153846153,\n",
       " 98.28615384615385,\n",
       " 98.40076923076921,\n",
       " 98.3276923076923,\n",
       " 98.19461538461537,\n",
       " 98.29153846153847,\n",
       " 98.16692307692307,\n",
       " 98.14538461538463,\n",
       " 98.20923076923077,\n",
       " 98.36307692307693,\n",
       " 98.22923076923077,\n",
       " 98.13076923076923,\n",
       " 98.3276923076923,\n",
       " 98.16846153846154,\n",
       " 98.07076923076923,\n",
       " 98.26153846153846,\n",
       " 98.21846153846154,\n",
       " 98.23692307692308,\n",
       " 98.24230769230769,\n",
       " 98.18923076923079,\n",
       " 98.28769230769231,\n",
       " 98.21461538461539,\n",
       " 98.26076923076924,\n",
       " 98.25230769230768,\n",
       " 98.21538461538462,\n",
       " 98.28615384615385,\n",
       " 98.2853846153846,\n",
       " 98.24615384615385,\n",
       " 98.19923076923077,\n",
       " 98.43846153846154,\n",
       " 98.36307692307693,\n",
       " 98.36076923076921,\n",
       " 98.2176923076923,\n",
       " 98.25307692307692,\n",
       " 98.20615384615384,\n",
       " 98.35692307692307,\n",
       " 98.07076923076923,\n",
       " 98.20615384615384,\n",
       " 98.25538461538463,\n",
       " 98.28846153846153,\n",
       " 98.28,\n",
       " 98.18692307692307,\n",
       " 98.31230769230768,\n",
       " 98.20615384615384,\n",
       " 98.29307692307692,\n",
       " 98.18307692307691,\n",
       " 98.23076923076923,\n",
       " 98.23923076923077,\n",
       " 98.19384615384615,\n",
       " 98.13000000000001,\n",
       " 98.20153846153846,\n",
       " 98.26615384615386,\n",
       " 98.28076923076924,\n",
       " 98.14538461538463,\n",
       " 98.22615384615386,\n",
       " 98.1923076923077,\n",
       " 98.1976923076923,\n",
       " 98.1923076923077,\n",
       " 98.27076923076923,\n",
       " 98.18769230769232,\n",
       " 98.35692307692308,\n",
       " 98.24153846153847,\n",
       " 98.3123076923077,\n",
       " 98.36307692307693,\n",
       " 98.2176923076923,\n",
       " 98.19769230769231,\n",
       " 98.21384615384615,\n",
       " 98.32846153846154,\n",
       " 98.1923076923077,\n",
       " 98.24461538461537,\n",
       " 98.23461538461538,\n",
       " 98.13692307692307,\n",
       " 98.32153846153847,\n",
       " 98.22538461538461,\n",
       " 98.08923076923077,\n",
       " 98.34692307692308,\n",
       " 98.26538461538462,\n",
       " 98.27692307692308,\n",
       " 98.2976923076923,\n",
       " 98.26307692307692,\n",
       " 98.29538461538462,\n",
       " 98.27230769230769,\n",
       " 98.35615384615384,\n",
       " 98.27692307692308,\n",
       " 98.23615384615385,\n",
       " 98.18615384615384,\n",
       " 98.26923076923077,\n",
       " 98.31538461538462,\n",
       " 98.24923076923078,\n",
       " 98.22461538461539,\n",
       " 98.17692307692307,\n",
       " 98.30076923076925,\n",
       " 98.30538461538463,\n",
       " 98.25076923076922,\n",
       " 98.1676923076923,\n",
       " 98.32923076923078,\n",
       " 98.33307692307692,\n",
       " 98.2276923076923,\n",
       " 98.34153846153848,\n",
       " 98.25923076923077,\n",
       " 98.19384615384615,\n",
       " 98.31,\n",
       " 98.21076923076922,\n",
       " 98.27461538461536,\n",
       " 98.29384615384616,\n",
       " 98.18846153846154,\n",
       " 98.25230769230768,\n",
       " 98.2,\n",
       " 98.13923076923078,\n",
       " 98.28923076923077,\n",
       " 98.28461538461538,\n",
       " 98.24076923076923,\n",
       " 98.18153846153845,\n",
       " 98.30153846153847,\n",
       " 98.22615384615386,\n",
       " 98.27692307692308,\n",
       " 98.28846153846153,\n",
       " 98.29461538461538,\n",
       " 98.26153846153846,\n",
       " 98.16615384615385,\n",
       " 98.27846153846154,\n",
       " 98.29769230769232,\n",
       " 98.39153846153846,\n",
       " 98.32,\n",
       " 98.1676923076923,\n",
       " 98.20076923076925,\n",
       " 98.26153846153846,\n",
       " 98.26692307692308,\n",
       " 98.1876923076923,\n",
       " 98.21999999999998,\n",
       " 98.25769230769231,\n",
       " 98.18923076923076,\n",
       " 98.3,\n",
       " 98.34307692307694,\n",
       " 98.45384615384616,\n",
       " 98.11538461538461,\n",
       " 98.22615384615385,\n",
       " 98.1823076923077,\n",
       " 98.14153846153847,\n",
       " 98.22846153846154,\n",
       " 98.34846153846155,\n",
       " 98.29461538461538,\n",
       " 98.22153846153846,\n",
       " 98.15076923076921,\n",
       " 98.29769230769232,\n",
       " 98.33076923076923,\n",
       " 98.1853846153846,\n",
       " 98.19615384615383,\n",
       " 98.34461538461538,\n",
       " 98.29461538461538,\n",
       " 98.32692307692308,\n",
       " 98.25846153846155,\n",
       " 98.09692307692308,\n",
       " 98.19461538461537,\n",
       " 98.25769230769231,\n",
       " 98.28153846153847,\n",
       " 98.23769230769231,\n",
       " 98.32153846153845,\n",
       " 98.20846153846152,\n",
       " 98.22461538461538,\n",
       " 98.27307692307693,\n",
       " 98.33538461538461,\n",
       " 98.18461538461537,\n",
       " 98.2023076923077,\n",
       " 98.21307692307691,\n",
       " 98.34,\n",
       " 98.19923076923078,\n",
       " 98.29153846153848,\n",
       " 98.18461538461538,\n",
       " 98.35076923076922,\n",
       " 98.17230769230768,\n",
       " 98.24230769230769,\n",
       " 98.27692307692308,\n",
       " 98.27153846153846,\n",
       " 98.26999999999998,\n",
       " 98.21692307692308,\n",
       " 98.33538461538461,\n",
       " 98.31153846153846,\n",
       " 98.19230769230768,\n",
       " 98.23076923076923,\n",
       " 98.28076923076922,\n",
       " 98.27692307692308,\n",
       " 98.17384615384614,\n",
       " 98.26307692307692,\n",
       " 98.27307692307693,\n",
       " 98.33846153846154,\n",
       " 98.23153846153845,\n",
       " 98.32000000000001,\n",
       " 98.2676923076923,\n",
       " 98.3876923076923,\n",
       " 98.21307692307693,\n",
       " 98.23307692307694,\n",
       " 98.25999999999999,\n",
       " 98.20307692307694,\n",
       " 98.14769230769231,\n",
       " 98.33384615384617,\n",
       " 98.26153846153846,\n",
       " 98.18461538461538,\n",
       " 98.38461538461539,\n",
       " 98.1746153846154,\n",
       " 98.25769230769231,\n",
       " 98.19692307692307,\n",
       " 98.11692307692309,\n",
       " 98.24000000000001,\n",
       " 98.18461538461538,\n",
       " 98.30692307692307,\n",
       " 98.24307692307693,\n",
       " 98.31769230769231,\n",
       " 98.25076923076925,\n",
       " 98.15692307692309,\n",
       " 98.25076923076922,\n",
       " 98.20384615384616,\n",
       " 98.28307692307692,\n",
       " 98.23384615384614,\n",
       " 98.27,\n",
       " 98.18692307692307,\n",
       " 98.24538461538462,\n",
       " 98.3,\n",
       " 98.26,\n",
       " 98.24923076923078,\n",
       " 98.18538461538462,\n",
       " 98.28,\n",
       " 98.12076923076923,\n",
       " 98.23923076923077,\n",
       " 98.27692307692307,\n",
       " 98.25,\n",
       " 98.24769230769232,\n",
       " 98.21461538461539,\n",
       " 98.24461538461537,\n",
       " 98.1823076923077,\n",
       " 98.20230769230768,\n",
       " 98.34153846153848,\n",
       " 98.13461538461539,\n",
       " 98.19153846153846,\n",
       " 98.24769230769232,\n",
       " 98.21230769230769,\n",
       " 98.26615384615386,\n",
       " 98.1253846153846,\n",
       " 98.2223076923077,\n",
       " 98.1823076923077,\n",
       " 98.29846153846154,\n",
       " 98.14307692307693,\n",
       " 98.18769230769232,\n",
       " 98.30538461538463,\n",
       " 98.13615384615385,\n",
       " 98.21076923076924,\n",
       " 98.27692307692308,\n",
       " 98.30230769230769,\n",
       " 98.28307692307692,\n",
       " 98.2823076923077,\n",
       " 98.25999999999999,\n",
       " 98.10153846153847,\n",
       " 98.16999999999999,\n",
       " 98.23846153846154,\n",
       " 98.30384615384615,\n",
       " 98.19307692307693,\n",
       " 98.30461538461539,\n",
       " 98.27538461538461,\n",
       " 98.34384615384616,\n",
       " 98.23615384615385,\n",
       " 98.22846153846154,\n",
       " 98.3076923076923,\n",
       " 98.19076923076922,\n",
       " 98.28461538461538,\n",
       " 98.29,\n",
       " 98.21461538461539,\n",
       " 98.2046153846154,\n",
       " 98.19461538461537,\n",
       " 98.23076923076923,\n",
       " 98.10769230769229,\n",
       " 98.17384615384614,\n",
       " 98.27461538461539,\n",
       " 98.06307692307693,\n",
       " 98.20538461538462,\n",
       " 98.16769230769232,\n",
       " 98.30153846153846,\n",
       " 98.1923076923077,\n",
       " 98.26846153846154,\n",
       " 98.28846153846152,\n",
       " 98.2053846153846,\n",
       " 98.29384615384616,\n",
       " 98.24307692307691,\n",
       " 98.25,\n",
       " 98.29923076923077,\n",
       " 98.31692307692309,\n",
       " 98.29307692307691,\n",
       " 98.35307692307694,\n",
       " 98.17076923076924,\n",
       " 98.16230769230768,\n",
       " 98.31692307692309,\n",
       " 98.35538461538462,\n",
       " 98.15,\n",
       " 98.38692307692307,\n",
       " 98.24384615384616,\n",
       " 98.26615384615384,\n",
       " 98.24461538461539,\n",
       " 98.20384615384616,\n",
       " 98.17384615384616,\n",
       " 98.41,\n",
       " 98.24615384615385,\n",
       " 98.27615384615386,\n",
       " 98.2776923076923,\n",
       " 98.33307692307692,\n",
       " 98.25846153846155,\n",
       " 98.23153846153848,\n",
       " 98.19461538461537,\n",
       " 98.26846153846155,\n",
       " 98.29846153846154,\n",
       " 98.18461538461538,\n",
       " 98.29923076923076,\n",
       " 98.20615384615384,\n",
       " 98.25153846153847,\n",
       " 98.18153846153845,\n",
       " 98.15461538461538,\n",
       " 98.23000000000002,\n",
       " 98.21153846153847,\n",
       " 98.24461538461537,\n",
       " 98.15,\n",
       " 98.04923076923077,\n",
       " 98.18615384615386,\n",
       " 98.30615384615385,\n",
       " 98.34153846153848,\n",
       " 98.25538461538463,\n",
       " 98.32000000000001,\n",
       " 98.27307692307693,\n",
       " 98.25230769230768,\n",
       " 98.24153846153844,\n",
       " 98.20153846153846,\n",
       " 98.36153846153847,\n",
       " 98.22538461538461,\n",
       " 98.25615384615384,\n",
       " 98.32230769230769,\n",
       " 98.09538461538462,\n",
       " 98.33307692307692,\n",
       " 98.37692307692308,\n",
       " 98.27461538461539,\n",
       " 98.38461538461539,\n",
       " 98.14461538461538,\n",
       " 98.2323076923077,\n",
       " 98.17615384615384,\n",
       " 98.33461538461539,\n",
       " 98.27615384615385,\n",
       " 98.17307692307692,\n",
       " 98.24000000000001,\n",
       " 98.07538461538462,\n",
       " 98.25615384615384,\n",
       " 98.28,\n",
       " 98.28307692307693,\n",
       " 98.2676923076923,\n",
       " 98.37076923076924,\n",
       " 98.21384615384615,\n",
       " 98.34692307692308,\n",
       " 98.31384615384614,\n",
       " 98.28076923076924,\n",
       " 98.25076923076922,\n",
       " 98.1923076923077,\n",
       " 98.16692307692308,\n",
       " 98.20692307692309,\n",
       " 98.18307692307691,\n",
       " 98.20692307692306,\n",
       " 98.19538461538461,\n",
       " 98.20153846153846,\n",
       " 98.28923076923077,\n",
       " 98.2546153846154,\n",
       " 98.32461538461538,\n",
       " 98.23615384615385,\n",
       " 98.22692307692307,\n",
       " 98.26615384615386,\n",
       " 98.1853846153846,\n",
       " 98.32307692307693,\n",
       " 98.18769230769232,\n",
       " 98.20230769230768,\n",
       " 98.18615384615386,\n",
       " 98.28692307692307,\n",
       " 98.31153846153846,\n",
       " 98.36615384615385,\n",
       " 98.31846153846155,\n",
       " 98.36923076923075,\n",
       " 98.26076923076924,\n",
       " 98.22923076923077,\n",
       " 98.16615384615385,\n",
       " 98.23153846153845,\n",
       " 98.16923076923077,\n",
       " 98.18692307692308,\n",
       " 98.25461538461538,\n",
       " 98.23307692307692,\n",
       " 98.23692307692308,\n",
       " 98.21000000000001,\n",
       " 98.28153846153845,\n",
       " 98.28076923076924,\n",
       " 98.26230769230769,\n",
       " 98.20769230769231,\n",
       " 98.26846153846154,\n",
       " 98.17538461538462,\n",
       " 98.17307692307692,\n",
       " 98.26307692307692,\n",
       " 98.20153846153846,\n",
       " 98.20153846153846,\n",
       " 98.23692307692308,\n",
       " 98.4423076923077,\n",
       " 98.14307692307692,\n",
       " 98.16384615384615,\n",
       " 98.17076923076922,\n",
       " 98.17538461538462,\n",
       " 98.27153846153846,\n",
       " 98.25538461538461,\n",
       " 98.38846153846154,\n",
       " 98.22076923076924,\n",
       " 98.22,\n",
       " 98.21384615384615,\n",
       " 98.17538461538462,\n",
       " 98.14307692307692,\n",
       " 98.21846153846154,\n",
       " 98.21769230769232,\n",
       " 98.23076923076923,\n",
       " 98.29076923076923,\n",
       " 98.27538461538461,\n",
       " 98.22615384615385,\n",
       " 98.15,\n",
       " 98.33076923076923,\n",
       " 98.24000000000001,\n",
       " 98.20615384615384,\n",
       " 98.15153846153846,\n",
       " 98.18461538461538,\n",
       " 98.3253846153846,\n",
       " 98.27384615384615,\n",
       " 98.25538461538463,\n",
       " 98.11615384615384,\n",
       " 98.22384615384615,\n",
       " 98.3223076923077,\n",
       " 98.20384615384616,\n",
       " 98.26,\n",
       " 98.16923076923077,\n",
       " 98.31076923076922,\n",
       " 98.30230769230769,\n",
       " 98.16461538461539,\n",
       " 98.2176923076923,\n",
       " 98.18769230769232,\n",
       " 98.29692307692308,\n",
       " 98.21384615384615,\n",
       " 98.1823076923077,\n",
       " 98.33769230769231,\n",
       " 98.21923076923076,\n",
       " 98.24692307692308,\n",
       " 98.23846153846154,\n",
       " 98.24538461538461,\n",
       " 98.26846153846155,\n",
       " 98.22538461538461,\n",
       " 98.30230769230769,\n",
       " 98.25692307692306,\n",
       " 98.26923076923077,\n",
       " 98.2146153846154,\n",
       " 98.29923076923077,\n",
       " 98.35,\n",
       " 98.33076923076923,\n",
       " 98.2146153846154,\n",
       " 98.21076923076922,\n",
       " 98.11846153846155,\n",
       " 98.17923076923077,\n",
       " 98.20230769230768,\n",
       " 98.28307692307692,\n",
       " 98.27,\n",
       " 98.29230769230769,\n",
       " 98.30538461538463,\n",
       " 98.28999999999999,\n",
       " 98.24846153846154,\n",
       " 98.22307692307692,\n",
       " 98.19538461538461,\n",
       " 98.28769230769231,\n",
       " 98.33923076923077,\n",
       " 98.20846153846152,\n",
       " 98.15615384615384,\n",
       " 98.37230769230767,\n",
       " 98.33384615384617,\n",
       " 98.27923076923076,\n",
       " 98.26923076923077,\n",
       " 98.34384615384616,\n",
       " 98.22307692307692,\n",
       " 98.17846153846155,\n",
       " 98.20461538461538,\n",
       " 98.27230769230769,\n",
       " 98.35076923076923,\n",
       " 98.30076923076925,\n",
       " 98.11846153846153,\n",
       " 98.3276923076923,\n",
       " 98.25230769230768,\n",
       " 98.21,\n",
       " 98.22615384615384,\n",
       " 98.18153846153847,\n",
       " 98.30153846153847,\n",
       " 98.21307692307693,\n",
       " 98.17230769230768,\n",
       " 98.13923076923076]"
      ]
     },
     "execution_count": 189,
     "metadata": {},
     "output_type": "execute_result"
    }
   ],
   "source": [
    "mean_ls\n",
    "# the means will always turn out to be < 98.6"
   ]
  },
  {
   "cell_type": "code",
   "execution_count": 190,
   "metadata": {},
   "outputs": [
    {
     "data": {
      "text/plain": [
       "'new_ls = []\\nfor i in mean_ls:\\n        if i < 98.6:\\n            a = 1\\n            new_ls.append(a)\\n        else:\\n            b = 0\\n            new_ls.append(b)\\n'"
      ]
     },
     "execution_count": 190,
     "metadata": {},
     "output_type": "execute_result"
    }
   ],
   "source": [
    "'''new_ls = []\n",
    "for i in mean_ls:\n",
    "        if i < 98.6:\n",
    "            a = 1\n",
    "            new_ls.append(a)\n",
    "        else:\n",
    "            b = 0\n",
    "            new_ls.append(b)\n",
    "'''"
   ]
  },
  {
   "cell_type": "code",
   "execution_count": 191,
   "metadata": {},
   "outputs": [
    {
     "data": {
      "text/plain": [
       "'p = np.sum(new_ls)/1000.0\\np\\n# p val actually 1-p, .05/2=.025\\n# reject null\\n# or compare 1 with 97.5\\n'"
      ]
     },
     "execution_count": 191,
     "metadata": {},
     "output_type": "execute_result"
    }
   ],
   "source": [
    "'''p = np.sum(new_ls)/1000.0\n",
    "p\n",
    "# p val actually 1-p, .05/2=.025\n",
    "# reject null\n",
    "# or compare 1 with 97.5\n",
    "'''"
   ]
  },
  {
   "cell_type": "code",
   "execution_count": 192,
   "metadata": {},
   "outputs": [
    {
     "data": {
      "text/plain": [
       "1000"
      ]
     },
     "execution_count": 192,
     "metadata": {},
     "output_type": "execute_result"
    }
   ],
   "source": [
    "len(less)"
   ]
  },
  {
   "cell_type": "code",
   "execution_count": 193,
   "metadata": {},
   "outputs": [
    {
     "data": {
      "text/plain": [
       "1000"
      ]
     },
     "execution_count": 193,
     "metadata": {},
     "output_type": "execute_result"
    }
   ],
   "source": [
    "np.sum(less)"
   ]
  },
  {
   "cell_type": "markdown",
   "metadata": {},
   "source": [
    "CORRECTION Boostrap P Value"
   ]
  },
  {
   "cell_type": "code",
   "execution_count": 194,
   "metadata": {},
   "outputs": [
    {
     "data": {
      "text/plain": [
       "1.0"
      ]
     },
     "execution_count": 194,
     "metadata": {},
     "output_type": "execute_result"
    }
   ],
   "source": [
    "p = np.sum(less)/1000\n",
    "p\n",
    "# p = 1, and 1-p = 0 < .025\n",
    "# reject the null, there is a significant difference \n",
    "# between the bootstrap sample mean and the claimed true value of the human\n",
    "# body temperature "
   ]
  },
  {
   "cell_type": "code",
   "execution_count": 174,
   "metadata": {},
   "outputs": [],
   "source": [
    "# less = [x < 98.6 for x in mean_ls]\n",
    "#p = np.sum(mean_ls < 98.6)/1000\n",
    "#p \n",
    "# all values were less than 98.6\n",
    "# do not reject the null hypothesis\n",
    "# p = 1"
   ]
  },
  {
   "cell_type": "code",
   "execution_count": 63,
   "metadata": {
    "scrolled": true
   },
   "outputs": [
    {
     "name": "stdout",
     "output_type": "stream",
     "text": [
      "-5.4548232923645195 2.4106320415561276e-07\n"
     ]
    }
   ],
   "source": [
    "# one sample\n",
    "m = 98.6\n",
    "tstat,pval = sy.ttest_1samp(temper,m)\n",
    "print(tstat,pval)\n",
    "# REMEMBER: ttest_ind()"
   ]
  },
  {
   "cell_type": "code",
   "execution_count": 64,
   "metadata": {},
   "outputs": [
    {
     "name": "stdout",
     "output_type": "stream",
     "text": [
      "-5.4548232923645195 4.9021570141012155e-08\n"
     ]
    }
   ],
   "source": [
    "z_score, pvalue = ztest(temper,value=m)\n",
    "print(z_score, pvalue)\n",
    "# ANSWER: The values are pretty close to the same and we've used z score for n>30 but t tests are \n",
    "# a standard for small n < 30. so you don't have to worry about sample size with t tests\n",
    "# we reject the null in both cases, z and t test"
   ]
  },
  {
   "cell_type": "code",
   "execution_count": 65,
   "metadata": {},
   "outputs": [
    {
     "data": {
      "text/plain": [
       "98.24543"
      ]
     },
     "execution_count": 65,
     "metadata": {},
     "output_type": "execute_result"
    }
   ],
   "source": [
    "# 4. Draw a small sample of size 10 from the data and repeat both frequentist tests.\n",
    "# Which one is the correct one to use?\n",
    "# What do you notice? What does this tell you about the difference in application of the  𝑡  and  𝑧  statistic?\n",
    "mean_lengths, sims = [], 1000\n",
    "for i in range(sims):\n",
    "    temp_sample = np.random.choice(temper, replace=True, size=10)\n",
    "    sample_mean = temp_sample.mean()\n",
    "    mean_lengths.append(sample_mean)\n",
    "    \n",
    "boot_mean = np.mean(mean_lengths)\n",
    "boot_mean\n",
    "# ANSWER: result almost identical to n= 130"
   ]
  },
  {
   "cell_type": "code",
   "execution_count": 66,
   "metadata": {},
   "outputs": [
    {
     "name": "stdout",
     "output_type": "stream",
     "text": [
      "-0.35306336486846696 0.7321691185265413\n"
     ]
    }
   ],
   "source": [
    "tstat,pval = sy.ttest_1samp(temp_sample,m)\n",
    "print(tstat,pval)"
   ]
  },
  {
   "cell_type": "code",
   "execution_count": 67,
   "metadata": {},
   "outputs": [
    {
     "name": "stdout",
     "output_type": "stream",
     "text": [
      "-0.35306336486846696 0.7240409370754946\n"
     ]
    }
   ],
   "source": [
    "z_score, pvalue = ztest(temp_sample,value=m)\n",
    "print(z_score, pvalue)\n",
    "# ANSWER: in both both cases, we do not reject the null, size n = 10 changes \n",
    "# the p val extravagantly "
   ]
  },
  {
   "cell_type": "code",
   "execution_count": 68,
   "metadata": {
    "scrolled": true
   },
   "outputs": [],
   "source": [
    "# the t stat and z score for a boostrap size of 10 give the same results\n",
    "# both of the p values are under .05, telling us to reject the null hypothesis\n",
    "# with one exception, khan says n < 30 and the z test is a bad approximation \n",
    "# so the t test is better \n",
    "# also, the ztest method doesn't know our bootstrap sample came from a \n",
    "# sample size of 130\n",
    "# the ttest method doesn't know the original sample either "
   ]
  },
  {
   "cell_type": "code",
   "execution_count": 69,
   "metadata": {},
   "outputs": [
    {
     "name": "stdout",
     "output_type": "stream",
     "text": [
      "98.24923076923075    (98.12692307692305, 98.3738461538461)\n"
     ]
    }
   ],
   "source": [
    "# 5. At what temperature should we consider someone's temperature to be \n",
    "# \"abnormal\"? As in the previous example, try calculating everything \n",
    "# using the boostrap approach, as well as the frequentist approach.\n",
    "\n",
    "# Start by computing the margin of error and confidence interval. \n",
    "# When calculating the confidence interval, keep in mind that you \n",
    "# should use the appropriate formula for one draw, and not N draws.\n",
    "\n",
    "# temp_sample_130 = np.random.choice(temper, replace=True, size=130)\n",
    "temperarr = np.array(df.temperature)\n",
    "print(bs.bootstrap(temperarr, stat_func=bs_stats.mean))"
   ]
  },
  {
   "cell_type": "code",
   "execution_count": 70,
   "metadata": {},
   "outputs": [
    {
     "name": "stdout",
     "output_type": "stream",
     "text": [
      "0.730357778905038    (0.6294894282682064, 0.8355146670194691)\n"
     ]
    }
   ],
   "source": [
    "print(bs.bootstrap(temperarr, stat_func=bs_stats.std))"
   ]
  },
  {
   "cell_type": "code",
   "execution_count": 71,
   "metadata": {},
   "outputs": [
    {
     "name": "stdout",
     "output_type": "stream",
     "text": [
      "98.12319411222852 98.37526742623304\n"
     ]
    }
   ],
   "source": [
    "sample_mean = np.mean(df.temperature)\n",
    "sample_95 = 1.96*sem(df.temperature)\n",
    "sample_min = sample_mean - sample_95\n",
    "sample_max = sample_mean + sample_95\n",
    "print(sample_min,sample_max)\n",
    "# ci not very large "
   ]
  },
  {
   "cell_type": "code",
   "execution_count": 72,
   "metadata": {},
   "outputs": [],
   "source": [
    "# 6. Is there a significant difference between males and females in normal temperature?\n",
    "# What testing approach did you use and why?\n",
    "# Write a story with your conclusion in the context of the original problem.\n"
   ]
  },
  {
   "cell_type": "code",
   "execution_count": 73,
   "metadata": {
    "scrolled": true
   },
   "outputs": [
    {
     "data": {
      "text/plain": [
       "98.1046153846154"
      ]
     },
     "execution_count": 73,
     "metadata": {},
     "output_type": "execute_result"
    }
   ],
   "source": [
    "male = df[df['gender']== 'M']\n",
    "np.mean(male.temperature)"
   ]
  },
  {
   "cell_type": "code",
   "execution_count": 74,
   "metadata": {},
   "outputs": [
    {
     "data": {
      "text/plain": [
       "65"
      ]
     },
     "execution_count": 74,
     "metadata": {},
     "output_type": "execute_result"
    }
   ],
   "source": [
    "len(male.temperature)"
   ]
  },
  {
   "cell_type": "code",
   "execution_count": 75,
   "metadata": {
    "scrolled": true
   },
   "outputs": [
    {
     "data": {
      "text/plain": [
       "98.39384615384613"
      ]
     },
     "execution_count": 75,
     "metadata": {},
     "output_type": "execute_result"
    }
   ],
   "source": [
    "female = df[df['gender']== 'F']\n",
    "np.mean(female.temperature)"
   ]
  },
  {
   "cell_type": "code",
   "execution_count": 76,
   "metadata": {},
   "outputs": [
    {
     "data": {
      "text/plain": [
       "65"
      ]
     },
     "execution_count": 76,
     "metadata": {},
     "output_type": "execute_result"
    }
   ],
   "source": [
    "len(female.temperature)"
   ]
  },
  {
   "cell_type": "markdown",
   "metadata": {},
   "source": [
    "CORRECTION T Test"
   ]
  },
  {
   "cell_type": "code",
   "execution_count": 77,
   "metadata": {},
   "outputs": [
    {
     "name": "stdout",
     "output_type": "stream",
     "text": [
      "-2.285434538165611 0.023938264182934196\n"
     ]
    }
   ],
   "source": [
    "t,p = ttest_ind(male.temperature,female.temperature,equal_var=False)\n",
    "print(t,p)\n",
    "# ANSWER: p val tells us to reject the null hyp, their means\n",
    "# are not identical\n",
    "# my use of t tests is justified earlier, it's a standard \n",
    "# you don't have to worry about size n > 30 samples "
   ]
  }
 ],
 "metadata": {
  "kernelspec": {
   "display_name": "Python 3",
   "language": "python",
   "name": "python3"
  },
  "language_info": {
   "codemirror_mode": {
    "name": "ipython",
    "version": 3
   },
   "file_extension": ".py",
   "mimetype": "text/x-python",
   "name": "python",
   "nbconvert_exporter": "python",
   "pygments_lexer": "ipython3",
   "version": "3.7.3"
  }
 },
 "nbformat": 4,
 "nbformat_minor": 2
}
