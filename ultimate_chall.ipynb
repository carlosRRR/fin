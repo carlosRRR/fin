{
  "nbformat": 4,
  "nbformat_minor": 0,
  "metadata": {
    "colab": {
      "name": "ultimate_chall.ipynb",
      "provenance": [],
      "collapsed_sections": []
    },
    "kernelspec": {
      "name": "python3",
      "display_name": "Python 3"
    }
  },
  "cells": [
    {
      "cell_type": "code",
      "metadata": {
        "id": "1N1w5gk_I43e",
        "colab_type": "code",
        "colab": {}
      },
      "source": [
        "import numpy as np\n",
        "import pandas as pd\n",
        "import matplotlib.pyplot as plt"
      ],
      "execution_count": 0,
      "outputs": []
    },
    {
      "cell_type": "code",
      "metadata": {
        "id": "sO9RHlJgrfZh",
        "colab_type": "code",
        "outputId": "08503bec-6c4e-4dea-c024-0c46479d9320",
        "colab": {
          "base_uri": "https://localhost:8080/",
          "height": 125
        }
      },
      "source": [
        "from google.colab import drive\n",
        "drive.mount('/content/drive')"
      ],
      "execution_count": 4,
      "outputs": [
        {
          "output_type": "stream",
          "text": [
            "Go to this URL in a browser: https://accounts.google.com/o/oauth2/auth?client_id=947318989803-6bn6qk8qdgf4n4g3pfee6491hc0brc4i.apps.googleusercontent.com&redirect_uri=urn%3aietf%3awg%3aoauth%3a2.0%3aoob&response_type=code&scope=email%20https%3a%2f%2fwww.googleapis.com%2fauth%2fdocs.test%20https%3a%2f%2fwww.googleapis.com%2fauth%2fdrive%20https%3a%2f%2fwww.googleapis.com%2fauth%2fdrive.photos.readonly%20https%3a%2f%2fwww.googleapis.com%2fauth%2fpeopleapi.readonly\n",
            "\n",
            "Enter your authorization code:\n",
            "··········\n",
            "Mounted at /content/drive\n"
          ],
          "name": "stdout"
        }
      ]
    },
    {
      "cell_type": "code",
      "metadata": {
        "id": "UjJ49UEbNE2S",
        "colab_type": "code",
        "outputId": "788e5a6d-d6fe-4be8-b6df-40bafeab1db9",
        "colab": {
          "base_uri": "https://localhost:8080/",
          "height": 34
        }
      },
      "source": [
        "cd /content/drive/My Drive/Colab Notebooks"
      ],
      "execution_count": 5,
      "outputs": [
        {
          "output_type": "stream",
          "text": [
            "/content/drive/My Drive/Colab Notebooks\n"
          ],
          "name": "stdout"
        }
      ]
    },
    {
      "cell_type": "code",
      "metadata": {
        "id": "O-96Z_BhNO5n",
        "colab_type": "code",
        "outputId": "d30634b3-35c9-4197-df0f-ddd2c95d165c",
        "colab": {
          "base_uri": "https://localhost:8080/",
          "height": 197
        }
      },
      "source": [
        "logins  = pd.read_json('logins.json')\n",
        "logins[:5]"
      ],
      "execution_count": 6,
      "outputs": [
        {
          "output_type": "execute_result",
          "data": {
            "text/html": [
              "<div>\n",
              "<style scoped>\n",
              "    .dataframe tbody tr th:only-of-type {\n",
              "        vertical-align: middle;\n",
              "    }\n",
              "\n",
              "    .dataframe tbody tr th {\n",
              "        vertical-align: top;\n",
              "    }\n",
              "\n",
              "    .dataframe thead th {\n",
              "        text-align: right;\n",
              "    }\n",
              "</style>\n",
              "<table border=\"1\" class=\"dataframe\">\n",
              "  <thead>\n",
              "    <tr style=\"text-align: right;\">\n",
              "      <th></th>\n",
              "      <th>login_time</th>\n",
              "    </tr>\n",
              "  </thead>\n",
              "  <tbody>\n",
              "    <tr>\n",
              "      <th>0</th>\n",
              "      <td>1970-01-01 20:13:18</td>\n",
              "    </tr>\n",
              "    <tr>\n",
              "      <th>1</th>\n",
              "      <td>1970-01-01 20:16:10</td>\n",
              "    </tr>\n",
              "    <tr>\n",
              "      <th>2</th>\n",
              "      <td>1970-01-01 20:16:37</td>\n",
              "    </tr>\n",
              "    <tr>\n",
              "      <th>3</th>\n",
              "      <td>1970-01-01 20:16:36</td>\n",
              "    </tr>\n",
              "    <tr>\n",
              "      <th>4</th>\n",
              "      <td>1970-01-01 20:26:21</td>\n",
              "    </tr>\n",
              "  </tbody>\n",
              "</table>\n",
              "</div>"
            ],
            "text/plain": [
              "           login_time\n",
              "0 1970-01-01 20:13:18\n",
              "1 1970-01-01 20:16:10\n",
              "2 1970-01-01 20:16:37\n",
              "3 1970-01-01 20:16:36\n",
              "4 1970-01-01 20:26:21"
            ]
          },
          "metadata": {
            "tags": []
          },
          "execution_count": 6
        }
      ]
    },
    {
      "cell_type": "code",
      "metadata": {
        "id": "HLl2E6jBXgdf",
        "colab_type": "code",
        "outputId": "cf805ced-d69b-4165-eeaf-b644c9d4220d",
        "colab": {
          "base_uri": "https://localhost:8080/",
          "height": 123
        }
      },
      "source": [
        "logins.login_time[:5]"
      ],
      "execution_count": 7,
      "outputs": [
        {
          "output_type": "execute_result",
          "data": {
            "text/plain": [
              "0   1970-01-01 20:13:18\n",
              "1   1970-01-01 20:16:10\n",
              "2   1970-01-01 20:16:37\n",
              "3   1970-01-01 20:16:36\n",
              "4   1970-01-01 20:26:21\n",
              "Name: login_time, dtype: datetime64[ns]"
            ]
          },
          "metadata": {
            "tags": []
          },
          "execution_count": 7
        }
      ]
    },
    {
      "cell_type": "code",
      "metadata": {
        "id": "dI7ND8ECNSJn",
        "colab_type": "code",
        "colab": {}
      },
      "source": [
        "logins['log_time'] = pd.to_datetime(logins['login_time'])"
      ],
      "execution_count": 0,
      "outputs": []
    },
    {
      "cell_type": "code",
      "metadata": {
        "id": "6FDVsbMMSXMB",
        "colab_type": "code",
        "outputId": "707f3815-66be-449c-fcbb-89a42667e304",
        "colab": {
          "base_uri": "https://localhost:8080/",
          "height": 227
        }
      },
      "source": [
        "logs=logins.set_index(logins.columns[0])\n",
        "logs[:5]"
      ],
      "execution_count": 9,
      "outputs": [
        {
          "output_type": "execute_result",
          "data": {
            "text/html": [
              "<div>\n",
              "<style scoped>\n",
              "    .dataframe tbody tr th:only-of-type {\n",
              "        vertical-align: middle;\n",
              "    }\n",
              "\n",
              "    .dataframe tbody tr th {\n",
              "        vertical-align: top;\n",
              "    }\n",
              "\n",
              "    .dataframe thead th {\n",
              "        text-align: right;\n",
              "    }\n",
              "</style>\n",
              "<table border=\"1\" class=\"dataframe\">\n",
              "  <thead>\n",
              "    <tr style=\"text-align: right;\">\n",
              "      <th></th>\n",
              "      <th>log_time</th>\n",
              "    </tr>\n",
              "    <tr>\n",
              "      <th>login_time</th>\n",
              "      <th></th>\n",
              "    </tr>\n",
              "  </thead>\n",
              "  <tbody>\n",
              "    <tr>\n",
              "      <th>1970-01-01 20:13:18</th>\n",
              "      <td>1970-01-01 20:13:18</td>\n",
              "    </tr>\n",
              "    <tr>\n",
              "      <th>1970-01-01 20:16:10</th>\n",
              "      <td>1970-01-01 20:16:10</td>\n",
              "    </tr>\n",
              "    <tr>\n",
              "      <th>1970-01-01 20:16:37</th>\n",
              "      <td>1970-01-01 20:16:37</td>\n",
              "    </tr>\n",
              "    <tr>\n",
              "      <th>1970-01-01 20:16:36</th>\n",
              "      <td>1970-01-01 20:16:36</td>\n",
              "    </tr>\n",
              "    <tr>\n",
              "      <th>1970-01-01 20:26:21</th>\n",
              "      <td>1970-01-01 20:26:21</td>\n",
              "    </tr>\n",
              "  </tbody>\n",
              "</table>\n",
              "</div>"
            ],
            "text/plain": [
              "                               log_time\n",
              "login_time                             \n",
              "1970-01-01 20:13:18 1970-01-01 20:13:18\n",
              "1970-01-01 20:16:10 1970-01-01 20:16:10\n",
              "1970-01-01 20:16:37 1970-01-01 20:16:37\n",
              "1970-01-01 20:16:36 1970-01-01 20:16:36\n",
              "1970-01-01 20:26:21 1970-01-01 20:26:21"
            ]
          },
          "metadata": {
            "tags": []
          },
          "execution_count": 9
        }
      ]
    },
    {
      "cell_type": "code",
      "metadata": {
        "id": "IZZWMno3OD2h",
        "colab_type": "code",
        "outputId": "c7de18c1-104c-4816-a585-851ec0894367",
        "colab": {
          "base_uri": "https://localhost:8080/",
          "height": 227
        }
      },
      "source": [
        "logs['counts'] = 1\n",
        "logs[:5]"
      ],
      "execution_count": 10,
      "outputs": [
        {
          "output_type": "execute_result",
          "data": {
            "text/html": [
              "<div>\n",
              "<style scoped>\n",
              "    .dataframe tbody tr th:only-of-type {\n",
              "        vertical-align: middle;\n",
              "    }\n",
              "\n",
              "    .dataframe tbody tr th {\n",
              "        vertical-align: top;\n",
              "    }\n",
              "\n",
              "    .dataframe thead th {\n",
              "        text-align: right;\n",
              "    }\n",
              "</style>\n",
              "<table border=\"1\" class=\"dataframe\">\n",
              "  <thead>\n",
              "    <tr style=\"text-align: right;\">\n",
              "      <th></th>\n",
              "      <th>log_time</th>\n",
              "      <th>counts</th>\n",
              "    </tr>\n",
              "    <tr>\n",
              "      <th>login_time</th>\n",
              "      <th></th>\n",
              "      <th></th>\n",
              "    </tr>\n",
              "  </thead>\n",
              "  <tbody>\n",
              "    <tr>\n",
              "      <th>1970-01-01 20:13:18</th>\n",
              "      <td>1970-01-01 20:13:18</td>\n",
              "      <td>1</td>\n",
              "    </tr>\n",
              "    <tr>\n",
              "      <th>1970-01-01 20:16:10</th>\n",
              "      <td>1970-01-01 20:16:10</td>\n",
              "      <td>1</td>\n",
              "    </tr>\n",
              "    <tr>\n",
              "      <th>1970-01-01 20:16:37</th>\n",
              "      <td>1970-01-01 20:16:37</td>\n",
              "      <td>1</td>\n",
              "    </tr>\n",
              "    <tr>\n",
              "      <th>1970-01-01 20:16:36</th>\n",
              "      <td>1970-01-01 20:16:36</td>\n",
              "      <td>1</td>\n",
              "    </tr>\n",
              "    <tr>\n",
              "      <th>1970-01-01 20:26:21</th>\n",
              "      <td>1970-01-01 20:26:21</td>\n",
              "      <td>1</td>\n",
              "    </tr>\n",
              "  </tbody>\n",
              "</table>\n",
              "</div>"
            ],
            "text/plain": [
              "                               log_time  counts\n",
              "login_time                                     \n",
              "1970-01-01 20:13:18 1970-01-01 20:13:18       1\n",
              "1970-01-01 20:16:10 1970-01-01 20:16:10       1\n",
              "1970-01-01 20:16:37 1970-01-01 20:16:37       1\n",
              "1970-01-01 20:16:36 1970-01-01 20:16:36       1\n",
              "1970-01-01 20:26:21 1970-01-01 20:26:21       1"
            ]
          },
          "metadata": {
            "tags": []
          },
          "execution_count": 10
        }
      ]
    },
    {
      "cell_type": "code",
      "metadata": {
        "id": "X1CVfNcASEQ0",
        "colab_type": "code",
        "outputId": "a43aa833-8e2a-45bf-f3bd-25545f86b186",
        "colab": {
          "base_uri": "https://localhost:8080/",
          "height": 227
        }
      },
      "source": [
        "# counts every 15 min\n",
        "ct_sum = logs.resample('15T').sum()\n",
        "ct_sum[:5]"
      ],
      "execution_count": 11,
      "outputs": [
        {
          "output_type": "execute_result",
          "data": {
            "text/html": [
              "<div>\n",
              "<style scoped>\n",
              "    .dataframe tbody tr th:only-of-type {\n",
              "        vertical-align: middle;\n",
              "    }\n",
              "\n",
              "    .dataframe tbody tr th {\n",
              "        vertical-align: top;\n",
              "    }\n",
              "\n",
              "    .dataframe thead th {\n",
              "        text-align: right;\n",
              "    }\n",
              "</style>\n",
              "<table border=\"1\" class=\"dataframe\">\n",
              "  <thead>\n",
              "    <tr style=\"text-align: right;\">\n",
              "      <th></th>\n",
              "      <th>counts</th>\n",
              "    </tr>\n",
              "    <tr>\n",
              "      <th>login_time</th>\n",
              "      <th></th>\n",
              "    </tr>\n",
              "  </thead>\n",
              "  <tbody>\n",
              "    <tr>\n",
              "      <th>1970-01-01 20:00:00</th>\n",
              "      <td>2</td>\n",
              "    </tr>\n",
              "    <tr>\n",
              "      <th>1970-01-01 20:15:00</th>\n",
              "      <td>6</td>\n",
              "    </tr>\n",
              "    <tr>\n",
              "      <th>1970-01-01 20:30:00</th>\n",
              "      <td>9</td>\n",
              "    </tr>\n",
              "    <tr>\n",
              "      <th>1970-01-01 20:45:00</th>\n",
              "      <td>7</td>\n",
              "    </tr>\n",
              "    <tr>\n",
              "      <th>1970-01-01 21:00:00</th>\n",
              "      <td>1</td>\n",
              "    </tr>\n",
              "  </tbody>\n",
              "</table>\n",
              "</div>"
            ],
            "text/plain": [
              "                     counts\n",
              "login_time                 \n",
              "1970-01-01 20:00:00       2\n",
              "1970-01-01 20:15:00       6\n",
              "1970-01-01 20:30:00       9\n",
              "1970-01-01 20:45:00       7\n",
              "1970-01-01 21:00:00       1"
            ]
          },
          "metadata": {
            "tags": []
          },
          "execution_count": 11
        }
      ]
    },
    {
      "cell_type": "markdown",
      "metadata": {
        "id": "ooBUR0H5u_Hl",
        "colab_type": "text"
      },
      "source": [
        "# CHECK/GRAPH COUNTS AT VARIOUS TIME INTERVALS"
      ]
    },
    {
      "cell_type": "code",
      "metadata": {
        "id": "-V76RpR3aPRJ",
        "colab_type": "code",
        "outputId": "12196ab4-26b5-49ba-cffc-cdbc55f41a24",
        "colab": {
          "base_uri": "https://localhost:8080/",
          "height": 627
        }
      },
      "source": [
        "plt.figure(figsize=(10,7))\n",
        "plt.xticks(rotation=45)\n",
        "plt.ylabel('log freq')\n",
        "plt.title('logs with 15 minute intervals')\n",
        "plt.plot(ct_sum)"
      ],
      "execution_count": 12,
      "outputs": [
        {
          "output_type": "stream",
          "text": [
            "/usr/local/lib/python3.6/dist-packages/pandas/plotting/_matplotlib/converter.py:103: FutureWarning: Using an implicitly registered datetime converter for a matplotlib plotting method. The converter was registered by pandas on import. Future versions of pandas will require you to explicitly register matplotlib converters.\n",
            "\n",
            "To register the converters:\n",
            "\t>>> from pandas.plotting import register_matplotlib_converters\n",
            "\t>>> register_matplotlib_converters()\n",
            "  warnings.warn(msg, FutureWarning)\n"
          ],
          "name": "stderr"
        },
        {
          "output_type": "execute_result",
          "data": {
            "text/plain": [
              "[<matplotlib.lines.Line2D at 0x7fb55eacb6d8>]"
            ]
          },
          "metadata": {
            "tags": []
          },
          "execution_count": 12
        },
        {
          "output_type": "display_data",
          "data": {
            "image/png": "[encoded data removed]",
            "text/plain": [
              "<Figure size 720x504 with 1 Axes>"
            ]
          },
          "metadata": {
            "tags": []
          }
        }
      ]
    },
    {
      "cell_type": "code",
      "metadata": {
        "id": "KJJTYVDcMRKM",
        "colab_type": "code",
        "colab": {}
      },
      "source": [
        "ct_sum['dt'] = ct_sum.index\n",
        "ct_sum['dt'] = pd.to_datetime(ct_sum.dt)"
      ],
      "execution_count": 0,
      "outputs": []
    },
    {
      "cell_type": "code",
      "metadata": {
        "id": "BIFnr1zkRXOq",
        "colab_type": "code",
        "colab": {}
      },
      "source": [
        "ct_sum['day'] = ct_sum.index.dayofweek"
      ],
      "execution_count": 0,
      "outputs": []
    },
    {
      "cell_type": "code",
      "metadata": {
        "id": "1CHsYyM_K75g",
        "colab_type": "code",
        "outputId": "07e565c8-7b23-43cf-c2f6-8b3e56aaf533",
        "colab": {
          "base_uri": "https://localhost:8080/",
          "height": 387
        }
      },
      "source": [
        "#logins on a daily basis\n",
        "plt.figure(figsize=(8,5))\n",
        "ct_sum.groupby('day')['counts'].sum().plot(kind='bar')\n",
        "plt.xticks([0,1,2,3,4,5,6], \n",
        "           ['Monday', 'Tuesday', 'Wednesday', 'Thursday', 'Friday', 'Saturday', 'Sunday'], rotation=45)\n",
        "plt.ylabel('log freq')\n",
        "plt.title('daily logs aggregated over 15 minute intervals')\n",
        "plt.show()\n",
        "# a demand cycle emerges as the graph may indicate a strong \n",
        "# preference during customer availability\n",
        "# given the amount of data, there is indication of a product\n",
        "# while customers spend more time with the product on weekends"
      ],
      "execution_count": 15,
      "outputs": [
        {
          "output_type": "display_data",
          "data": {
            "image/png": "[encoded data removed]",
            "text/plain": [
              "<Figure size 576x360 with 1 Axes>"
            ]
          },
          "metadata": {
            "tags": []
          }
        }
      ]
    },
    {
      "cell_type": "code",
      "metadata": {
        "id": "OdAHRD4cZ6Wb",
        "colab_type": "code",
        "colab": {}
      },
      "source": [
        "ct_sum['month'] = ct_sum.index.month"
      ],
      "execution_count": 0,
      "outputs": []
    },
    {
      "cell_type": "code",
      "metadata": {
        "id": "ZelFhquSZ5a5",
        "colab_type": "code",
        "outputId": "7679846b-ef4c-424b-d634-e2759fa7c3f9",
        "colab": {
          "base_uri": "https://localhost:8080/",
          "height": 292
        }
      },
      "source": [
        "ct_sum.groupby('month')['counts'].sum().plot(kind='bar')\n",
        "plt.ylabel('log freq')\n",
        "plt.title('month logs over 15 minute intervals')\n",
        "plt.show()\n",
        "\n",
        "# march demand is highest\n",
        "# 4 month data is not much to conclude about an online product\n",
        "# except that there exists demand for it"
      ],
      "execution_count": 17,
      "outputs": [
        {
          "output_type": "display_data",
          "data": {
            "image/png": "[encoded data removed]",
            "text/plain": [
              "<Figure size 432x288 with 1 Axes>"
            ]
          },
          "metadata": {
            "tags": []
          }
        }
      ]
    },
    {
      "cell_type": "code",
      "metadata": {
        "id": "m94Zup5vaXHE",
        "colab_type": "code",
        "colab": {}
      },
      "source": [
        "ct_sum['hour'] = ct_sum.index.hour"
      ],
      "execution_count": 0,
      "outputs": []
    },
    {
      "cell_type": "code",
      "metadata": {
        "id": "_Hv3wC3GaW9d",
        "colab_type": "code",
        "outputId": "e46b442c-f205-4929-fae2-52b1809b0e3c",
        "colab": {
          "base_uri": "https://localhost:8080/",
          "height": 297
        }
      },
      "source": [
        "ct_sum.groupby('hour')['counts'].sum().plot(kind='bar')\n",
        "plt.ylabel('log freq')\n",
        "plt.title('hour logs over 15 minute intervals')\n",
        "plt.show()\n",
        "\n",
        "# demand is multimodal, at least, within the given time period\n",
        "# of 4 months, this distribution may indicate\n",
        "# a product with some recurring cycle \n",
        "# the ebbs and flows may it quite evident that the product\n",
        "# is not a complete flop"
      ],
      "execution_count": 19,
      "outputs": [
        {
          "output_type": "display_data",
          "data": {
            "image/png": "[encoded data removed]",
            "text/plain": [
              "<Figure size 432x288 with 1 Axes>"
            ]
          },
          "metadata": {
            "tags": []
          }
        }
      ]
    },
    {
      "cell_type": "markdown",
      "metadata": {
        "id": "Q6s4RfurBUDP",
        "colab_type": "text"
      },
      "source": [
        "## THE END "
      ]
    },
    {
      "cell_type": "code",
      "metadata": {
        "id": "bi_mqgRYoCej",
        "colab_type": "code",
        "colab": {}
      },
      "source": [
        "import json"
      ],
      "execution_count": 0,
      "outputs": []
    },
    {
      "cell_type": "code",
      "metadata": {
        "id": "ywL1UnWqfsGX",
        "colab_type": "code",
        "colab": {}
      },
      "source": [
        "# list of dictionaries, reason why read_json doesn't work \n",
        "\n",
        "with open('ultimate_data_challenge.json') as dta:\n",
        "  dt = json.load(dta)\n",
        "dta.close()"
      ],
      "execution_count": 0,
      "outputs": []
    },
    {
      "cell_type": "code",
      "metadata": {
        "id": "At4IqVrhmMeD",
        "colab_type": "code",
        "outputId": "8ee8d9c3-b5be-494d-9502-129fb6eabd1e",
        "colab": {
          "base_uri": "https://localhost:8080/",
          "height": 318
        }
      },
      "source": [
        "df = pd.DataFrame(dt)\n",
        "df.info()"
      ],
      "execution_count": 22,
      "outputs": [
        {
          "output_type": "stream",
          "text": [
            "<class 'pandas.core.frame.DataFrame'>\n",
            "RangeIndex: 50000 entries, 0 to 49999\n",
            "Data columns (total 12 columns):\n",
            "city                      50000 non-null object\n",
            "trips_in_first_30_days    50000 non-null int64\n",
            "signup_date               50000 non-null object\n",
            "avg_rating_of_driver      41878 non-null float64\n",
            "avg_surge                 50000 non-null float64\n",
            "last_trip_date            50000 non-null object\n",
            "phone                     49604 non-null object\n",
            "surge_pct                 50000 non-null float64\n",
            "ultimate_black_user       50000 non-null bool\n",
            "weekday_pct               50000 non-null float64\n",
            "avg_dist                  50000 non-null float64\n",
            "avg_rating_by_driver      49799 non-null float64\n",
            "dtypes: bool(1), float64(6), int64(1), object(4)\n",
            "memory usage: 4.2+ MB\n"
          ],
          "name": "stdout"
        }
      ]
    },
    {
      "cell_type": "code",
      "metadata": {
        "id": "erQED4R8CNm7",
        "colab_type": "code",
        "outputId": "ef671991-d09b-4b32-d79d-4fe285a86259",
        "colab": {
          "base_uri": "https://localhost:8080/",
          "height": 247
        }
      },
      "source": [
        "df.loc[134]"
      ],
      "execution_count": 23,
      "outputs": [
        {
          "output_type": "execute_result",
          "data": {
            "text/plain": [
              "city                      King's Landing\n",
              "trips_in_first_30_days                 0\n",
              "signup_date                   2014-01-10\n",
              "avg_rating_of_driver                   5\n",
              "avg_surge                              1\n",
              "last_trip_date                2014-06-11\n",
              "phone                               None\n",
              "surge_pct                              0\n",
              "ultimate_black_user                False\n",
              "weekday_pct                          100\n",
              "avg_dist                            2.88\n",
              "avg_rating_by_driver                   5\n",
              "Name: 134, dtype: object"
            ]
          },
          "metadata": {
            "tags": []
          },
          "execution_count": 23
        }
      ]
    },
    {
      "cell_type": "code",
      "metadata": {
        "id": "xKty8wA_oth9",
        "colab_type": "code",
        "outputId": "ba22bc06-3f66-4c2d-a33f-02cb3e27ea6b",
        "colab": {
          "base_uri": "https://localhost:8080/",
          "height": 34
        }
      },
      "source": [
        "df.city.unique()"
      ],
      "execution_count": 24,
      "outputs": [
        {
          "output_type": "execute_result",
          "data": {
            "text/plain": [
              "array([\"King's Landing\", 'Astapor', 'Winterfell'], dtype=object)"
            ]
          },
          "metadata": {
            "tags": []
          },
          "execution_count": 24
        }
      ]
    },
    {
      "cell_type": "code",
      "metadata": {
        "id": "ShEpI3zzHxC0",
        "colab_type": "code",
        "outputId": "fa973fa9-73ea-45b3-8795-0abec6945522",
        "colab": {
          "base_uri": "https://localhost:8080/",
          "height": 34
        }
      },
      "source": [
        "pd.isna(df.loc[134][6])"
      ],
      "execution_count": 25,
      "outputs": [
        {
          "output_type": "execute_result",
          "data": {
            "text/plain": [
              "True"
            ]
          },
          "metadata": {
            "tags": []
          },
          "execution_count": 25
        }
      ]
    },
    {
      "cell_type": "code",
      "metadata": {
        "id": "jkSRcQR4K6_T",
        "colab_type": "code",
        "colab": {}
      },
      "source": [
        "#cp = df.copy()"
      ],
      "execution_count": 0,
      "outputs": []
    },
    {
      "cell_type": "code",
      "metadata": {
        "id": "LTZGu5_ZH15T",
        "colab_type": "code",
        "colab": {}
      },
      "source": [
        "# reassigning values of None type to 'unknown'\n",
        "mask = df.applymap(lambda x: x is None)\n",
        "cols = df.columns[(mask).any()]\n",
        "for col in df[cols]:\n",
        "    df.loc[mask[col], col] = 'unknown'"
      ],
      "execution_count": 0,
      "outputs": []
    },
    {
      "cell_type": "code",
      "metadata": {
        "id": "-5Hz0NBnQRcY",
        "colab_type": "code",
        "colab": {}
      },
      "source": [
        "# reassigning nans \n",
        "\n",
        "#string = cp.fillna('unknown')\n",
        "df = df.fillna('unknown')"
      ],
      "execution_count": 0,
      "outputs": []
    },
    {
      "cell_type": "code",
      "metadata": {
        "id": "BPT_yrT7r37p",
        "colab_type": "code",
        "colab": {}
      },
      "source": [
        "# round ratings to act more like classifiers \n",
        "\n",
        "known = []\n",
        "for i in df['avg_rating_of_driver']: \n",
        "  try:\n",
        "    x = round(i)\n",
        "    known.append(x)\n",
        "  except Exception as e:\n",
        "    known.append(i)"
      ],
      "execution_count": 0,
      "outputs": []
    },
    {
      "cell_type": "code",
      "metadata": {
        "id": "pqIFoVz1tCc8",
        "colab_type": "code",
        "colab": {}
      },
      "source": [
        "df['avg_rating_of_driver'] = pd.Series(known)"
      ],
      "execution_count": 0,
      "outputs": []
    },
    {
      "cell_type": "code",
      "metadata": {
        "id": "vkf63HZ_sxiD",
        "colab_type": "code",
        "outputId": "39ef288a-11c4-4e73-9432-e71663f334cb",
        "colab": {
          "base_uri": "https://localhost:8080/",
          "height": 34
        }
      },
      "source": [
        "# true, false, wk_pct objects will take too much time and labor for data exploration\n",
        "# but if time could afford, there is certainly much knowledge to \n",
        "# discover in this data set\n",
        "\n",
        "true = df[df.ultimate_black_user == True]\n",
        "true.shape"
      ],
      "execution_count": 31,
      "outputs": [
        {
          "output_type": "execute_result",
          "data": {
            "text/plain": [
              "(18854, 12)"
            ]
          },
          "metadata": {
            "tags": []
          },
          "execution_count": 31
        }
      ]
    },
    {
      "cell_type": "code",
      "metadata": {
        "id": "fqGVaOg-v_Sy",
        "colab_type": "code",
        "outputId": "3359e5bd-9739-4228-de97-6993ef1b567b",
        "colab": {
          "base_uri": "https://localhost:8080/",
          "height": 34
        }
      },
      "source": [
        "false = df[df.ultimate_black_user == False]\n",
        "false.shape"
      ],
      "execution_count": 32,
      "outputs": [
        {
          "output_type": "execute_result",
          "data": {
            "text/plain": [
              "(31146, 12)"
            ]
          },
          "metadata": {
            "tags": []
          },
          "execution_count": 32
        }
      ]
    },
    {
      "cell_type": "code",
      "metadata": {
        "id": "wpbOfrUnwEgJ",
        "colab_type": "code",
        "outputId": "d37e9cd1-f2fd-4c1d-fe1e-773179181119",
        "colab": {
          "base_uri": "https://localhost:8080/",
          "height": 234
        }
      },
      "source": [
        "wk_pct = true[true.weekday_pct == 0]\n",
        "wk_pct.head()\n",
        "# .08 are an ultimate_black_user when weekday_pct == 0"
      ],
      "execution_count": 33,
      "outputs": [
        {
          "output_type": "execute_result",
          "data": {
            "text/html": [
              "<div>\n",
              "<style scoped>\n",
              "    .dataframe tbody tr th:only-of-type {\n",
              "        vertical-align: middle;\n",
              "    }\n",
              "\n",
              "    .dataframe tbody tr th {\n",
              "        vertical-align: top;\n",
              "    }\n",
              "\n",
              "    .dataframe thead th {\n",
              "        text-align: right;\n",
              "    }\n",
              "</style>\n",
              "<table border=\"1\" class=\"dataframe\">\n",
              "  <thead>\n",
              "    <tr style=\"text-align: right;\">\n",
              "      <th></th>\n",
              "      <th>city</th>\n",
              "      <th>trips_in_first_30_days</th>\n",
              "      <th>signup_date</th>\n",
              "      <th>avg_rating_of_driver</th>\n",
              "      <th>avg_surge</th>\n",
              "      <th>last_trip_date</th>\n",
              "      <th>phone</th>\n",
              "      <th>surge_pct</th>\n",
              "      <th>ultimate_black_user</th>\n",
              "      <th>weekday_pct</th>\n",
              "      <th>avg_dist</th>\n",
              "      <th>avg_rating_by_driver</th>\n",
              "    </tr>\n",
              "  </thead>\n",
              "  <tbody>\n",
              "    <tr>\n",
              "      <th>60</th>\n",
              "      <td>Astapor</td>\n",
              "      <td>1</td>\n",
              "      <td>2014-01-04</td>\n",
              "      <td>unknown</td>\n",
              "      <td>1.00</td>\n",
              "      <td>2014-01-05</td>\n",
              "      <td>iPhone</td>\n",
              "      <td>0.0</td>\n",
              "      <td>True</td>\n",
              "      <td>0.0</td>\n",
              "      <td>3.01</td>\n",
              "      <td>5</td>\n",
              "    </tr>\n",
              "    <tr>\n",
              "      <th>68</th>\n",
              "      <td>King's Landing</td>\n",
              "      <td>0</td>\n",
              "      <td>2014-01-01</td>\n",
              "      <td>5</td>\n",
              "      <td>1.00</td>\n",
              "      <td>2014-06-15</td>\n",
              "      <td>iPhone</td>\n",
              "      <td>0.0</td>\n",
              "      <td>True</td>\n",
              "      <td>0.0</td>\n",
              "      <td>4.44</td>\n",
              "      <td>5</td>\n",
              "    </tr>\n",
              "    <tr>\n",
              "      <th>89</th>\n",
              "      <td>Astapor</td>\n",
              "      <td>0</td>\n",
              "      <td>2014-01-19</td>\n",
              "      <td>5</td>\n",
              "      <td>1.00</td>\n",
              "      <td>2014-05-18</td>\n",
              "      <td>iPhone</td>\n",
              "      <td>0.0</td>\n",
              "      <td>True</td>\n",
              "      <td>0.0</td>\n",
              "      <td>4.67</td>\n",
              "      <td>5</td>\n",
              "    </tr>\n",
              "    <tr>\n",
              "      <th>94</th>\n",
              "      <td>Astapor</td>\n",
              "      <td>1</td>\n",
              "      <td>2014-01-17</td>\n",
              "      <td>1</td>\n",
              "      <td>1.00</td>\n",
              "      <td>2014-01-18</td>\n",
              "      <td>iPhone</td>\n",
              "      <td>0.0</td>\n",
              "      <td>True</td>\n",
              "      <td>0.0</td>\n",
              "      <td>23.34</td>\n",
              "      <td>4</td>\n",
              "    </tr>\n",
              "    <tr>\n",
              "      <th>127</th>\n",
              "      <td>Winterfell</td>\n",
              "      <td>2</td>\n",
              "      <td>2014-01-19</td>\n",
              "      <td>4</td>\n",
              "      <td>1.38</td>\n",
              "      <td>2014-06-28</td>\n",
              "      <td>Android</td>\n",
              "      <td>50.0</td>\n",
              "      <td>True</td>\n",
              "      <td>0.0</td>\n",
              "      <td>2.92</td>\n",
              "      <td>5</td>\n",
              "    </tr>\n",
              "  </tbody>\n",
              "</table>\n",
              "</div>"
            ],
            "text/plain": [
              "               city  trips_in_first_30_days  ... avg_dist avg_rating_by_driver\n",
              "60          Astapor                       1  ...     3.01                    5\n",
              "68   King's Landing                       0  ...     4.44                    5\n",
              "89          Astapor                       0  ...     4.67                    5\n",
              "94          Astapor                       1  ...    23.34                    4\n",
              "127      Winterfell                       2  ...     2.92                    5\n",
              "\n",
              "[5 rows x 12 columns]"
            ]
          },
          "metadata": {
            "tags": []
          },
          "execution_count": 33
        }
      ]
    },
    {
      "cell_type": "code",
      "metadata": {
        "id": "6lErZBc2wxPJ",
        "colab_type": "code",
        "colab": {}
      },
      "source": [
        "# convert to datetime \n",
        "\n",
        "df.last_trip_date = pd.to_datetime(df.last_trip_date)\n",
        "df.signup_date = pd.to_datetime(df.signup_date)"
      ],
      "execution_count": 0,
      "outputs": []
    },
    {
      "cell_type": "code",
      "metadata": {
        "id": "gKnrYHCsryG_",
        "colab_type": "code",
        "colab": {}
      },
      "source": [
        "# boolean defined column. active users w/ last trip date '2014-05-17'\n",
        "\n",
        "df['active'] = (df.last_trip_date > '2014-05-17').astype(int)\n",
        "#df['active'].head(10)"
      ],
      "execution_count": 0,
      "outputs": []
    },
    {
      "cell_type": "code",
      "metadata": {
        "id": "bn-0LD1VSVLC",
        "colab_type": "code",
        "colab": {}
      },
      "source": [
        "# feature generation of a var defined the following difference\n",
        "# this var actually proved to be important in modeling thus \n",
        "# diminishing importance of all other feautures\n",
        "# but when removed performance was better\n",
        "\n",
        "df['t_delta'] = pd.Series(df['last_trip_date'] - df['signup_date']).dt.days"
      ],
      "execution_count": 0,
      "outputs": []
    },
    {
      "cell_type": "code",
      "metadata": {
        "colab_type": "code",
        "outputId": "0de7a320-e5f8-429f-94d9-8ff6b760386b",
        "id": "-i9VISgufULA",
        "colab": {
          "base_uri": "https://localhost:8080/",
          "height": 34
        }
      },
      "source": [
        "len(df[(df['active']==1) & (df['t_delta'] < 108)])\n",
        "# days >=108, 25 users who are active with 108 days activity\n",
        "# no active users exist with < 108 days activity ~ 3.6 months"
      ],
      "execution_count": 37,
      "outputs": [
        {
          "output_type": "execute_result",
          "data": {
            "text/plain": [
              "25"
            ]
          },
          "metadata": {
            "tags": []
          },
          "execution_count": 37
        }
      ]
    },
    {
      "cell_type": "code",
      "metadata": {
        "id": "IJOJEGHQuVNq",
        "colab_type": "code",
        "outputId": "0b6558ff-1dd1-4d13-e708-f19e41f4b2b1",
        "colab": {
          "base_uri": "https://localhost:8080/",
          "height": 87
        }
      },
      "source": [
        "# objects of graphing exploration\n",
        "\n",
        "act = df[df['active'] ==1]\n",
        "inact = df[df['active']==0]\n",
        "# 22745 rows 'active' ==1\n",
        "act.city.value_counts()"
      ],
      "execution_count": 38,
      "outputs": [
        {
          "output_type": "execute_result",
          "data": {
            "text/plain": [
              "Winterfell        10050\n",
              "King's Landing     6832\n",
              "Astapor            5863\n",
              "Name: city, dtype: int64"
            ]
          },
          "metadata": {
            "tags": []
          },
          "execution_count": 38
        }
      ]
    },
    {
      "cell_type": "code",
      "metadata": {
        "id": "HSMoPYZe1zju",
        "colab_type": "code",
        "colab": {}
      },
      "source": [
        "import seaborn as sns"
      ],
      "execution_count": 0,
      "outputs": []
    },
    {
      "cell_type": "code",
      "metadata": {
        "id": "fLZt_bsmxXib",
        "colab_type": "code",
        "outputId": "f9e5b0a3-3db4-4c91-c1ee-e158ff5e177b",
        "colab": {
          "base_uri": "https://localhost:8080/",
          "height": 312
        }
      },
      "source": [
        "sns.countplot(x='city', data=act)\n",
        "plt.title('active users in all 3 cities')"
      ],
      "execution_count": 41,
      "outputs": [
        {
          "output_type": "execute_result",
          "data": {
            "text/plain": [
              "Text(0.5, 1.0, 'active users in all 3 cities')"
            ]
          },
          "metadata": {
            "tags": []
          },
          "execution_count": 41
        },
        {
          "output_type": "display_data",
          "data": {
            "image/png": "[encoded data removed]",
            "text/plain": [
              "<Figure size 432x288 with 1 Axes>"
            ]
          },
          "metadata": {
            "tags": []
          }
        }
      ]
    },
    {
      "cell_type": "code",
      "metadata": {
        "id": "gNzsgg5_1Rnz",
        "colab_type": "code",
        "outputId": "fffed119-3aa4-47c8-949b-935f465fd2dc",
        "colab": {
          "base_uri": "https://localhost:8080/",
          "height": 312
        }
      },
      "source": [
        "sns.countplot(x = 'city', hue='phone', data=act)\n",
        "plt.title('active users phone brand in all 3 cities')"
      ],
      "execution_count": 44,
      "outputs": [
        {
          "output_type": "execute_result",
          "data": {
            "text/plain": [
              "Text(0.5, 1.0, 'active users phone brand in all 3 cities')"
            ]
          },
          "metadata": {
            "tags": []
          },
          "execution_count": 44
        },
        {
          "output_type": "display_data",
          "data": {
            "image/png": "[encoded data removed]",
            "text/plain": [
              "<Figure size 432x288 with 1 Axes>"
            ]
          },
          "metadata": {
            "tags": []
          }
        }
      ]
    },
    {
      "cell_type": "code",
      "metadata": {
        "id": "G0o46bPz2W7M",
        "colab_type": "code",
        "outputId": "c0b7e5e8-f290-4299-fbed-2be27fab5ccc",
        "colab": {
          "base_uri": "https://localhost:8080/",
          "height": 312
        }
      },
      "source": [
        "sns.countplot(x = 'city', hue='phone', data=inact)\n",
        "plt.title('inactive users phone brand in all 3 cities')"
      ],
      "execution_count": 45,
      "outputs": [
        {
          "output_type": "execute_result",
          "data": {
            "text/plain": [
              "Text(0.5, 1.0, 'inactive users phone brand in all 3 cities')"
            ]
          },
          "metadata": {
            "tags": []
          },
          "execution_count": 45
        },
        {
          "output_type": "display_data",
          "data": {
            "image/png": "[encoded data removed]",
            "text/plain": [
              "<Figure size 432x288 with 1 Axes>"
            ]
          },
          "metadata": {
            "tags": []
          }
        }
      ]
    },
    {
      "cell_type": "code",
      "metadata": {
        "id": "5tPPZnst58pS",
        "colab_type": "code",
        "colab": {}
      },
      "source": [
        "# phone should be a good predictor, android is not much of a competitor \n",
        "# with iphone because they win in all 3 cities but the iphone\n",
        "# seems to be a defining characteristic of active users \n",
        "\n",
        "# things to do, check collinearity"
      ],
      "execution_count": 0,
      "outputs": []
    },
    {
      "cell_type": "markdown",
      "metadata": {
        "id": "eOAvd8LE5a3I",
        "colab_type": "text"
      },
      "source": [
        "#LABEL ENCODING"
      ]
    },
    {
      "cell_type": "code",
      "metadata": {
        "id": "mELk3q9OBg4I",
        "colab_type": "code",
        "colab": {}
      },
      "source": [
        "from sklearn import preprocessing as pp"
      ],
      "execution_count": 0,
      "outputs": []
    },
    {
      "cell_type": "code",
      "metadata": {
        "id": "Q_wQMg61DvKw",
        "colab_type": "code",
        "colab": {}
      },
      "source": [
        "encoder = pp.LabelEncoder()"
      ],
      "execution_count": 0,
      "outputs": []
    },
    {
      "cell_type": "code",
      "metadata": {
        "id": "tcZK-H2ZD9Fn",
        "colab_type": "code",
        "colab": {}
      },
      "source": [
        "##string['city_labs'] = encoder.fit_transform(string['city'])\n",
        "df['city_labs'] = encoder.fit_transform(df['city'])"
      ],
      "execution_count": 0,
      "outputs": []
    },
    {
      "cell_type": "code",
      "metadata": {
        "id": "xWHpWUOHEPl0",
        "colab_type": "code",
        "outputId": "a00dc55c-5ca6-4f6a-ab5f-993c4e631829",
        "colab": {
          "base_uri": "https://localhost:8080/",
          "height": 34
        }
      },
      "source": [
        "encoder.classes_"
      ],
      "execution_count": 49,
      "outputs": [
        {
          "output_type": "execute_result",
          "data": {
            "text/plain": [
              "array(['Astapor', \"King's Landing\", 'Winterfell'], dtype=object)"
            ]
          },
          "metadata": {
            "tags": []
          },
          "execution_count": 49
        }
      ]
    },
    {
      "cell_type": "code",
      "metadata": {
        "id": "fVWYHm91GpqZ",
        "colab_type": "code",
        "outputId": "6fdad817-df0b-402b-a96e-b8857197ecbf",
        "colab": {
          "base_uri": "https://localhost:8080/",
          "height": 251
        }
      },
      "source": [
        "df.head()"
      ],
      "execution_count": 50,
      "outputs": [
        {
          "output_type": "execute_result",
          "data": {
            "text/html": [
              "<div>\n",
              "<style scoped>\n",
              "    .dataframe tbody tr th:only-of-type {\n",
              "        vertical-align: middle;\n",
              "    }\n",
              "\n",
              "    .dataframe tbody tr th {\n",
              "        vertical-align: top;\n",
              "    }\n",
              "\n",
              "    .dataframe thead th {\n",
              "        text-align: right;\n",
              "    }\n",
              "</style>\n",
              "<table border=\"1\" class=\"dataframe\">\n",
              "  <thead>\n",
              "    <tr style=\"text-align: right;\">\n",
              "      <th></th>\n",
              "      <th>city</th>\n",
              "      <th>trips_in_first_30_days</th>\n",
              "      <th>signup_date</th>\n",
              "      <th>avg_rating_of_driver</th>\n",
              "      <th>avg_surge</th>\n",
              "      <th>last_trip_date</th>\n",
              "      <th>phone</th>\n",
              "      <th>surge_pct</th>\n",
              "      <th>ultimate_black_user</th>\n",
              "      <th>weekday_pct</th>\n",
              "      <th>avg_dist</th>\n",
              "      <th>avg_rating_by_driver</th>\n",
              "      <th>active</th>\n",
              "      <th>t_delta</th>\n",
              "      <th>city_labs</th>\n",
              "    </tr>\n",
              "  </thead>\n",
              "  <tbody>\n",
              "    <tr>\n",
              "      <th>0</th>\n",
              "      <td>King's Landing</td>\n",
              "      <td>4</td>\n",
              "      <td>2014-01-25</td>\n",
              "      <td>5</td>\n",
              "      <td>1.10</td>\n",
              "      <td>2014-06-17</td>\n",
              "      <td>iPhone</td>\n",
              "      <td>15.4</td>\n",
              "      <td>True</td>\n",
              "      <td>46.2</td>\n",
              "      <td>3.67</td>\n",
              "      <td>5</td>\n",
              "      <td>1</td>\n",
              "      <td>143</td>\n",
              "      <td>1</td>\n",
              "    </tr>\n",
              "    <tr>\n",
              "      <th>1</th>\n",
              "      <td>Astapor</td>\n",
              "      <td>0</td>\n",
              "      <td>2014-01-29</td>\n",
              "      <td>5</td>\n",
              "      <td>1.00</td>\n",
              "      <td>2014-05-05</td>\n",
              "      <td>Android</td>\n",
              "      <td>0.0</td>\n",
              "      <td>False</td>\n",
              "      <td>50.0</td>\n",
              "      <td>8.26</td>\n",
              "      <td>5</td>\n",
              "      <td>0</td>\n",
              "      <td>96</td>\n",
              "      <td>0</td>\n",
              "    </tr>\n",
              "    <tr>\n",
              "      <th>2</th>\n",
              "      <td>Astapor</td>\n",
              "      <td>3</td>\n",
              "      <td>2014-01-06</td>\n",
              "      <td>4</td>\n",
              "      <td>1.00</td>\n",
              "      <td>2014-01-07</td>\n",
              "      <td>iPhone</td>\n",
              "      <td>0.0</td>\n",
              "      <td>False</td>\n",
              "      <td>100.0</td>\n",
              "      <td>0.77</td>\n",
              "      <td>5</td>\n",
              "      <td>0</td>\n",
              "      <td>1</td>\n",
              "      <td>0</td>\n",
              "    </tr>\n",
              "    <tr>\n",
              "      <th>3</th>\n",
              "      <td>King's Landing</td>\n",
              "      <td>9</td>\n",
              "      <td>2014-01-10</td>\n",
              "      <td>5</td>\n",
              "      <td>1.14</td>\n",
              "      <td>2014-06-29</td>\n",
              "      <td>iPhone</td>\n",
              "      <td>20.0</td>\n",
              "      <td>True</td>\n",
              "      <td>80.0</td>\n",
              "      <td>2.36</td>\n",
              "      <td>4.9</td>\n",
              "      <td>1</td>\n",
              "      <td>170</td>\n",
              "      <td>1</td>\n",
              "    </tr>\n",
              "    <tr>\n",
              "      <th>4</th>\n",
              "      <td>Winterfell</td>\n",
              "      <td>14</td>\n",
              "      <td>2014-01-27</td>\n",
              "      <td>4</td>\n",
              "      <td>1.19</td>\n",
              "      <td>2014-03-15</td>\n",
              "      <td>Android</td>\n",
              "      <td>11.8</td>\n",
              "      <td>False</td>\n",
              "      <td>82.4</td>\n",
              "      <td>3.13</td>\n",
              "      <td>4.9</td>\n",
              "      <td>0</td>\n",
              "      <td>47</td>\n",
              "      <td>2</td>\n",
              "    </tr>\n",
              "  </tbody>\n",
              "</table>\n",
              "</div>"
            ],
            "text/plain": [
              "             city  trips_in_first_30_days  ... t_delta city_labs\n",
              "0  King's Landing                       4  ...     143         1\n",
              "1         Astapor                       0  ...      96         0\n",
              "2         Astapor                       3  ...       1         0\n",
              "3  King's Landing                       9  ...     170         1\n",
              "4      Winterfell                      14  ...      47         2\n",
              "\n",
              "[5 rows x 15 columns]"
            ]
          },
          "metadata": {
            "tags": []
          },
          "execution_count": 50
        }
      ]
    },
    {
      "cell_type": "code",
      "metadata": {
        "id": "J-Ja5RTiKBjf",
        "colab_type": "code",
        "colab": {}
      },
      "source": [
        "df['binary_ultimate'] = df['ultimate_black_user'].astype('int')"
      ],
      "execution_count": 0,
      "outputs": []
    },
    {
      "cell_type": "code",
      "metadata": {
        "id": "xKmz7fggKzm7",
        "colab_type": "code",
        "outputId": "09f05618-0271-43b2-daa6-35b8ba077fc5",
        "colab": {
          "base_uri": "https://localhost:8080/",
          "height": 251
        }
      },
      "source": [
        "df.head()"
      ],
      "execution_count": 52,
      "outputs": [
        {
          "output_type": "execute_result",
          "data": {
            "text/html": [
              "<div>\n",
              "<style scoped>\n",
              "    .dataframe tbody tr th:only-of-type {\n",
              "        vertical-align: middle;\n",
              "    }\n",
              "\n",
              "    .dataframe tbody tr th {\n",
              "        vertical-align: top;\n",
              "    }\n",
              "\n",
              "    .dataframe thead th {\n",
              "        text-align: right;\n",
              "    }\n",
              "</style>\n",
              "<table border=\"1\" class=\"dataframe\">\n",
              "  <thead>\n",
              "    <tr style=\"text-align: right;\">\n",
              "      <th></th>\n",
              "      <th>city</th>\n",
              "      <th>trips_in_first_30_days</th>\n",
              "      <th>signup_date</th>\n",
              "      <th>avg_rating_of_driver</th>\n",
              "      <th>avg_surge</th>\n",
              "      <th>last_trip_date</th>\n",
              "      <th>phone</th>\n",
              "      <th>surge_pct</th>\n",
              "      <th>ultimate_black_user</th>\n",
              "      <th>weekday_pct</th>\n",
              "      <th>avg_dist</th>\n",
              "      <th>avg_rating_by_driver</th>\n",
              "      <th>active</th>\n",
              "      <th>t_delta</th>\n",
              "      <th>city_labs</th>\n",
              "      <th>binary_ultimate</th>\n",
              "    </tr>\n",
              "  </thead>\n",
              "  <tbody>\n",
              "    <tr>\n",
              "      <th>0</th>\n",
              "      <td>King's Landing</td>\n",
              "      <td>4</td>\n",
              "      <td>2014-01-25</td>\n",
              "      <td>5</td>\n",
              "      <td>1.10</td>\n",
              "      <td>2014-06-17</td>\n",
              "      <td>iPhone</td>\n",
              "      <td>15.4</td>\n",
              "      <td>True</td>\n",
              "      <td>46.2</td>\n",
              "      <td>3.67</td>\n",
              "      <td>5</td>\n",
              "      <td>1</td>\n",
              "      <td>143</td>\n",
              "      <td>1</td>\n",
              "      <td>1</td>\n",
              "    </tr>\n",
              "    <tr>\n",
              "      <th>1</th>\n",
              "      <td>Astapor</td>\n",
              "      <td>0</td>\n",
              "      <td>2014-01-29</td>\n",
              "      <td>5</td>\n",
              "      <td>1.00</td>\n",
              "      <td>2014-05-05</td>\n",
              "      <td>Android</td>\n",
              "      <td>0.0</td>\n",
              "      <td>False</td>\n",
              "      <td>50.0</td>\n",
              "      <td>8.26</td>\n",
              "      <td>5</td>\n",
              "      <td>0</td>\n",
              "      <td>96</td>\n",
              "      <td>0</td>\n",
              "      <td>0</td>\n",
              "    </tr>\n",
              "    <tr>\n",
              "      <th>2</th>\n",
              "      <td>Astapor</td>\n",
              "      <td>3</td>\n",
              "      <td>2014-01-06</td>\n",
              "      <td>4</td>\n",
              "      <td>1.00</td>\n",
              "      <td>2014-01-07</td>\n",
              "      <td>iPhone</td>\n",
              "      <td>0.0</td>\n",
              "      <td>False</td>\n",
              "      <td>100.0</td>\n",
              "      <td>0.77</td>\n",
              "      <td>5</td>\n",
              "      <td>0</td>\n",
              "      <td>1</td>\n",
              "      <td>0</td>\n",
              "      <td>0</td>\n",
              "    </tr>\n",
              "    <tr>\n",
              "      <th>3</th>\n",
              "      <td>King's Landing</td>\n",
              "      <td>9</td>\n",
              "      <td>2014-01-10</td>\n",
              "      <td>5</td>\n",
              "      <td>1.14</td>\n",
              "      <td>2014-06-29</td>\n",
              "      <td>iPhone</td>\n",
              "      <td>20.0</td>\n",
              "      <td>True</td>\n",
              "      <td>80.0</td>\n",
              "      <td>2.36</td>\n",
              "      <td>4.9</td>\n",
              "      <td>1</td>\n",
              "      <td>170</td>\n",
              "      <td>1</td>\n",
              "      <td>1</td>\n",
              "    </tr>\n",
              "    <tr>\n",
              "      <th>4</th>\n",
              "      <td>Winterfell</td>\n",
              "      <td>14</td>\n",
              "      <td>2014-01-27</td>\n",
              "      <td>4</td>\n",
              "      <td>1.19</td>\n",
              "      <td>2014-03-15</td>\n",
              "      <td>Android</td>\n",
              "      <td>11.8</td>\n",
              "      <td>False</td>\n",
              "      <td>82.4</td>\n",
              "      <td>3.13</td>\n",
              "      <td>4.9</td>\n",
              "      <td>0</td>\n",
              "      <td>47</td>\n",
              "      <td>2</td>\n",
              "      <td>0</td>\n",
              "    </tr>\n",
              "  </tbody>\n",
              "</table>\n",
              "</div>"
            ],
            "text/plain": [
              "             city  trips_in_first_30_days  ... city_labs binary_ultimate\n",
              "0  King's Landing                       4  ...         1               1\n",
              "1         Astapor                       0  ...         0               0\n",
              "2         Astapor                       3  ...         0               0\n",
              "3  King's Landing                       9  ...         1               1\n",
              "4      Winterfell                      14  ...         2               0\n",
              "\n",
              "[5 rows x 16 columns]"
            ]
          },
          "metadata": {
            "tags": []
          },
          "execution_count": 52
        }
      ]
    },
    {
      "cell_type": "code",
      "metadata": {
        "id": "uENyZMgtMHfQ",
        "colab_type": "code",
        "colab": {}
      },
      "source": [
        "enc = pp.LabelEncoder()"
      ],
      "execution_count": 0,
      "outputs": []
    },
    {
      "cell_type": "code",
      "metadata": {
        "id": "Immn2jrFRPbh",
        "colab_type": "code",
        "colab": {}
      },
      "source": [
        "df['phone_labs'] = enc.fit_transform(df['phone'])"
      ],
      "execution_count": 0,
      "outputs": []
    },
    {
      "cell_type": "code",
      "metadata": {
        "id": "Xrn0XB3PRkqw",
        "colab_type": "code",
        "outputId": "e7ef3ab6-0115-405b-d4f7-54bd8893c0b8",
        "colab": {
          "base_uri": "https://localhost:8080/",
          "height": 34
        }
      },
      "source": [
        "enc.classes_"
      ],
      "execution_count": 55,
      "outputs": [
        {
          "output_type": "execute_result",
          "data": {
            "text/plain": [
              "array(['Android', 'iPhone', 'unknown'], dtype=object)"
            ]
          },
          "metadata": {
            "tags": []
          },
          "execution_count": 55
        }
      ]
    },
    {
      "cell_type": "code",
      "metadata": {
        "id": "yU-ZVaa2RgW8",
        "colab_type": "code",
        "outputId": "1fc7f66f-2d32-479d-bd4c-82b8d1ad8295",
        "colab": {
          "base_uri": "https://localhost:8080/",
          "height": 251
        }
      },
      "source": [
        "df.head()"
      ],
      "execution_count": 56,
      "outputs": [
        {
          "output_type": "execute_result",
          "data": {
            "text/html": [
              "<div>\n",
              "<style scoped>\n",
              "    .dataframe tbody tr th:only-of-type {\n",
              "        vertical-align: middle;\n",
              "    }\n",
              "\n",
              "    .dataframe tbody tr th {\n",
              "        vertical-align: top;\n",
              "    }\n",
              "\n",
              "    .dataframe thead th {\n",
              "        text-align: right;\n",
              "    }\n",
              "</style>\n",
              "<table border=\"1\" class=\"dataframe\">\n",
              "  <thead>\n",
              "    <tr style=\"text-align: right;\">\n",
              "      <th></th>\n",
              "      <th>city</th>\n",
              "      <th>trips_in_first_30_days</th>\n",
              "      <th>signup_date</th>\n",
              "      <th>avg_rating_of_driver</th>\n",
              "      <th>avg_surge</th>\n",
              "      <th>last_trip_date</th>\n",
              "      <th>phone</th>\n",
              "      <th>surge_pct</th>\n",
              "      <th>ultimate_black_user</th>\n",
              "      <th>weekday_pct</th>\n",
              "      <th>avg_dist</th>\n",
              "      <th>avg_rating_by_driver</th>\n",
              "      <th>active</th>\n",
              "      <th>t_delta</th>\n",
              "      <th>city_labs</th>\n",
              "      <th>binary_ultimate</th>\n",
              "      <th>phone_labs</th>\n",
              "    </tr>\n",
              "  </thead>\n",
              "  <tbody>\n",
              "    <tr>\n",
              "      <th>0</th>\n",
              "      <td>King's Landing</td>\n",
              "      <td>4</td>\n",
              "      <td>2014-01-25</td>\n",
              "      <td>5</td>\n",
              "      <td>1.10</td>\n",
              "      <td>2014-06-17</td>\n",
              "      <td>iPhone</td>\n",
              "      <td>15.4</td>\n",
              "      <td>True</td>\n",
              "      <td>46.2</td>\n",
              "      <td>3.67</td>\n",
              "      <td>5</td>\n",
              "      <td>1</td>\n",
              "      <td>143</td>\n",
              "      <td>1</td>\n",
              "      <td>1</td>\n",
              "      <td>1</td>\n",
              "    </tr>\n",
              "    <tr>\n",
              "      <th>1</th>\n",
              "      <td>Astapor</td>\n",
              "      <td>0</td>\n",
              "      <td>2014-01-29</td>\n",
              "      <td>5</td>\n",
              "      <td>1.00</td>\n",
              "      <td>2014-05-05</td>\n",
              "      <td>Android</td>\n",
              "      <td>0.0</td>\n",
              "      <td>False</td>\n",
              "      <td>50.0</td>\n",
              "      <td>8.26</td>\n",
              "      <td>5</td>\n",
              "      <td>0</td>\n",
              "      <td>96</td>\n",
              "      <td>0</td>\n",
              "      <td>0</td>\n",
              "      <td>0</td>\n",
              "    </tr>\n",
              "    <tr>\n",
              "      <th>2</th>\n",
              "      <td>Astapor</td>\n",
              "      <td>3</td>\n",
              "      <td>2014-01-06</td>\n",
              "      <td>4</td>\n",
              "      <td>1.00</td>\n",
              "      <td>2014-01-07</td>\n",
              "      <td>iPhone</td>\n",
              "      <td>0.0</td>\n",
              "      <td>False</td>\n",
              "      <td>100.0</td>\n",
              "      <td>0.77</td>\n",
              "      <td>5</td>\n",
              "      <td>0</td>\n",
              "      <td>1</td>\n",
              "      <td>0</td>\n",
              "      <td>0</td>\n",
              "      <td>1</td>\n",
              "    </tr>\n",
              "    <tr>\n",
              "      <th>3</th>\n",
              "      <td>King's Landing</td>\n",
              "      <td>9</td>\n",
              "      <td>2014-01-10</td>\n",
              "      <td>5</td>\n",
              "      <td>1.14</td>\n",
              "      <td>2014-06-29</td>\n",
              "      <td>iPhone</td>\n",
              "      <td>20.0</td>\n",
              "      <td>True</td>\n",
              "      <td>80.0</td>\n",
              "      <td>2.36</td>\n",
              "      <td>4.9</td>\n",
              "      <td>1</td>\n",
              "      <td>170</td>\n",
              "      <td>1</td>\n",
              "      <td>1</td>\n",
              "      <td>1</td>\n",
              "    </tr>\n",
              "    <tr>\n",
              "      <th>4</th>\n",
              "      <td>Winterfell</td>\n",
              "      <td>14</td>\n",
              "      <td>2014-01-27</td>\n",
              "      <td>4</td>\n",
              "      <td>1.19</td>\n",
              "      <td>2014-03-15</td>\n",
              "      <td>Android</td>\n",
              "      <td>11.8</td>\n",
              "      <td>False</td>\n",
              "      <td>82.4</td>\n",
              "      <td>3.13</td>\n",
              "      <td>4.9</td>\n",
              "      <td>0</td>\n",
              "      <td>47</td>\n",
              "      <td>2</td>\n",
              "      <td>0</td>\n",
              "      <td>0</td>\n",
              "    </tr>\n",
              "  </tbody>\n",
              "</table>\n",
              "</div>"
            ],
            "text/plain": [
              "             city  trips_in_first_30_days  ... binary_ultimate phone_labs\n",
              "0  King's Landing                       4  ...               1          1\n",
              "1         Astapor                       0  ...               0          0\n",
              "2         Astapor                       3  ...               0          1\n",
              "3  King's Landing                       9  ...               1          1\n",
              "4      Winterfell                      14  ...               0          0\n",
              "\n",
              "[5 rows x 17 columns]"
            ]
          },
          "metadata": {
            "tags": []
          },
          "execution_count": 56
        }
      ]
    },
    {
      "cell_type": "code",
      "metadata": {
        "id": "mofggobMu_zS",
        "colab_type": "code",
        "colab": {}
      },
      "source": [
        "encode = pp.LabelEncoder()"
      ],
      "execution_count": 0,
      "outputs": []
    },
    {
      "cell_type": "code",
      "metadata": {
        "id": "sap-fp6Jvypo",
        "colab_type": "code",
        "colab": {}
      },
      "source": [
        "df.loc[df['avg_rating_of_driver']== 'unknown', 'avg_rating_of_driver'] = 0"
      ],
      "execution_count": 0,
      "outputs": []
    },
    {
      "cell_type": "code",
      "metadata": {
        "id": "AWOdR-ki01u5",
        "colab_type": "code",
        "outputId": "601b5b0f-14b2-46d1-9473-fcdd6b5d2510",
        "colab": {
          "base_uri": "https://localhost:8080/",
          "height": 401
        }
      },
      "source": [
        "df[100:110]"
      ],
      "execution_count": 59,
      "outputs": [
        {
          "output_type": "execute_result",
          "data": {
            "text/html": [
              "<div>\n",
              "<style scoped>\n",
              "    .dataframe tbody tr th:only-of-type {\n",
              "        vertical-align: middle;\n",
              "    }\n",
              "\n",
              "    .dataframe tbody tr th {\n",
              "        vertical-align: top;\n",
              "    }\n",
              "\n",
              "    .dataframe thead th {\n",
              "        text-align: right;\n",
              "    }\n",
              "</style>\n",
              "<table border=\"1\" class=\"dataframe\">\n",
              "  <thead>\n",
              "    <tr style=\"text-align: right;\">\n",
              "      <th></th>\n",
              "      <th>city</th>\n",
              "      <th>trips_in_first_30_days</th>\n",
              "      <th>signup_date</th>\n",
              "      <th>avg_rating_of_driver</th>\n",
              "      <th>avg_surge</th>\n",
              "      <th>last_trip_date</th>\n",
              "      <th>phone</th>\n",
              "      <th>surge_pct</th>\n",
              "      <th>ultimate_black_user</th>\n",
              "      <th>weekday_pct</th>\n",
              "      <th>avg_dist</th>\n",
              "      <th>avg_rating_by_driver</th>\n",
              "      <th>active</th>\n",
              "      <th>t_delta</th>\n",
              "      <th>city_labs</th>\n",
              "      <th>binary_ultimate</th>\n",
              "      <th>phone_labs</th>\n",
              "    </tr>\n",
              "  </thead>\n",
              "  <tbody>\n",
              "    <tr>\n",
              "      <th>100</th>\n",
              "      <td>Astapor</td>\n",
              "      <td>0</td>\n",
              "      <td>2014-01-17</td>\n",
              "      <td>0</td>\n",
              "      <td>1.00</td>\n",
              "      <td>2014-06-02</td>\n",
              "      <td>iPhone</td>\n",
              "      <td>0.0</td>\n",
              "      <td>False</td>\n",
              "      <td>100.0</td>\n",
              "      <td>8.30</td>\n",
              "      <td>5</td>\n",
              "      <td>1</td>\n",
              "      <td>136</td>\n",
              "      <td>0</td>\n",
              "      <td>0</td>\n",
              "      <td>1</td>\n",
              "    </tr>\n",
              "    <tr>\n",
              "      <th>101</th>\n",
              "      <td>Astapor</td>\n",
              "      <td>1</td>\n",
              "      <td>2014-01-18</td>\n",
              "      <td>5</td>\n",
              "      <td>1.17</td>\n",
              "      <td>2014-05-25</td>\n",
              "      <td>Android</td>\n",
              "      <td>16.7</td>\n",
              "      <td>False</td>\n",
              "      <td>33.3</td>\n",
              "      <td>6.08</td>\n",
              "      <td>5</td>\n",
              "      <td>1</td>\n",
              "      <td>127</td>\n",
              "      <td>0</td>\n",
              "      <td>0</td>\n",
              "      <td>0</td>\n",
              "    </tr>\n",
              "    <tr>\n",
              "      <th>102</th>\n",
              "      <td>King's Landing</td>\n",
              "      <td>8</td>\n",
              "      <td>2014-01-31</td>\n",
              "      <td>4</td>\n",
              "      <td>1.00</td>\n",
              "      <td>2014-06-25</td>\n",
              "      <td>iPhone</td>\n",
              "      <td>0.0</td>\n",
              "      <td>True</td>\n",
              "      <td>50.0</td>\n",
              "      <td>2.15</td>\n",
              "      <td>4.9</td>\n",
              "      <td>1</td>\n",
              "      <td>145</td>\n",
              "      <td>1</td>\n",
              "      <td>1</td>\n",
              "      <td>1</td>\n",
              "    </tr>\n",
              "    <tr>\n",
              "      <th>103</th>\n",
              "      <td>Winterfell</td>\n",
              "      <td>2</td>\n",
              "      <td>2014-01-30</td>\n",
              "      <td>4</td>\n",
              "      <td>1.00</td>\n",
              "      <td>2014-06-22</td>\n",
              "      <td>iPhone</td>\n",
              "      <td>0.0</td>\n",
              "      <td>True</td>\n",
              "      <td>50.0</td>\n",
              "      <td>6.86</td>\n",
              "      <td>4.9</td>\n",
              "      <td>1</td>\n",
              "      <td>143</td>\n",
              "      <td>2</td>\n",
              "      <td>1</td>\n",
              "      <td>1</td>\n",
              "    </tr>\n",
              "    <tr>\n",
              "      <th>104</th>\n",
              "      <td>Winterfell</td>\n",
              "      <td>3</td>\n",
              "      <td>2014-01-01</td>\n",
              "      <td>3</td>\n",
              "      <td>1.00</td>\n",
              "      <td>2014-06-28</td>\n",
              "      <td>iPhone</td>\n",
              "      <td>0.0</td>\n",
              "      <td>True</td>\n",
              "      <td>63.6</td>\n",
              "      <td>4.08</td>\n",
              "      <td>4.9</td>\n",
              "      <td>1</td>\n",
              "      <td>178</td>\n",
              "      <td>2</td>\n",
              "      <td>1</td>\n",
              "      <td>1</td>\n",
              "    </tr>\n",
              "    <tr>\n",
              "      <th>105</th>\n",
              "      <td>Winterfell</td>\n",
              "      <td>0</td>\n",
              "      <td>2014-01-20</td>\n",
              "      <td>5</td>\n",
              "      <td>1.00</td>\n",
              "      <td>2014-06-23</td>\n",
              "      <td>Android</td>\n",
              "      <td>0.0</td>\n",
              "      <td>False</td>\n",
              "      <td>0.0</td>\n",
              "      <td>4.99</td>\n",
              "      <td>5</td>\n",
              "      <td>1</td>\n",
              "      <td>154</td>\n",
              "      <td>2</td>\n",
              "      <td>0</td>\n",
              "      <td>0</td>\n",
              "    </tr>\n",
              "    <tr>\n",
              "      <th>106</th>\n",
              "      <td>Astapor</td>\n",
              "      <td>0</td>\n",
              "      <td>2014-01-04</td>\n",
              "      <td>0</td>\n",
              "      <td>1.00</td>\n",
              "      <td>2014-04-06</td>\n",
              "      <td>Android</td>\n",
              "      <td>0.0</td>\n",
              "      <td>False</td>\n",
              "      <td>0.0</td>\n",
              "      <td>1.63</td>\n",
              "      <td>5</td>\n",
              "      <td>0</td>\n",
              "      <td>92</td>\n",
              "      <td>0</td>\n",
              "      <td>0</td>\n",
              "      <td>0</td>\n",
              "    </tr>\n",
              "    <tr>\n",
              "      <th>107</th>\n",
              "      <td>King's Landing</td>\n",
              "      <td>14</td>\n",
              "      <td>2014-01-07</td>\n",
              "      <td>5</td>\n",
              "      <td>1.09</td>\n",
              "      <td>2014-06-29</td>\n",
              "      <td>iPhone</td>\n",
              "      <td>15.9</td>\n",
              "      <td>False</td>\n",
              "      <td>50.0</td>\n",
              "      <td>10.79</td>\n",
              "      <td>4.9</td>\n",
              "      <td>1</td>\n",
              "      <td>173</td>\n",
              "      <td>1</td>\n",
              "      <td>0</td>\n",
              "      <td>1</td>\n",
              "    </tr>\n",
              "    <tr>\n",
              "      <th>108</th>\n",
              "      <td>Astapor</td>\n",
              "      <td>1</td>\n",
              "      <td>2014-01-03</td>\n",
              "      <td>3</td>\n",
              "      <td>1.00</td>\n",
              "      <td>2014-01-08</td>\n",
              "      <td>iPhone</td>\n",
              "      <td>0.0</td>\n",
              "      <td>False</td>\n",
              "      <td>100.0</td>\n",
              "      <td>9.14</td>\n",
              "      <td>5</td>\n",
              "      <td>0</td>\n",
              "      <td>5</td>\n",
              "      <td>0</td>\n",
              "      <td>0</td>\n",
              "      <td>1</td>\n",
              "    </tr>\n",
              "    <tr>\n",
              "      <th>109</th>\n",
              "      <td>Astapor</td>\n",
              "      <td>1</td>\n",
              "      <td>2014-01-19</td>\n",
              "      <td>0</td>\n",
              "      <td>1.00</td>\n",
              "      <td>2014-04-14</td>\n",
              "      <td>Android</td>\n",
              "      <td>0.0</td>\n",
              "      <td>False</td>\n",
              "      <td>66.7</td>\n",
              "      <td>3.07</td>\n",
              "      <td>5</td>\n",
              "      <td>0</td>\n",
              "      <td>85</td>\n",
              "      <td>0</td>\n",
              "      <td>0</td>\n",
              "      <td>0</td>\n",
              "    </tr>\n",
              "  </tbody>\n",
              "</table>\n",
              "</div>"
            ],
            "text/plain": [
              "               city  trips_in_first_30_days  ... binary_ultimate  phone_labs\n",
              "100         Astapor                       0  ...               0           1\n",
              "101         Astapor                       1  ...               0           0\n",
              "102  King's Landing                       8  ...               1           1\n",
              "103      Winterfell                       2  ...               1           1\n",
              "104      Winterfell                       3  ...               1           1\n",
              "105      Winterfell                       0  ...               0           0\n",
              "106         Astapor                       0  ...               0           0\n",
              "107  King's Landing                      14  ...               0           1\n",
              "108         Astapor                       1  ...               0           1\n",
              "109         Astapor                       1  ...               0           0\n",
              "\n",
              "[10 rows x 17 columns]"
            ]
          },
          "metadata": {
            "tags": []
          },
          "execution_count": 59
        }
      ]
    },
    {
      "cell_type": "code",
      "metadata": {
        "id": "LWpM9YUGvKIt",
        "colab_type": "code",
        "colab": {}
      },
      "source": [
        "df['avg_rating_of_driver_labs'] = encode.fit_transform(df['avg_rating_of_driver'])"
      ],
      "execution_count": 0,
      "outputs": []
    },
    {
      "cell_type": "code",
      "metadata": {
        "id": "bQAd_IOC1YR1",
        "colab_type": "code",
        "outputId": "18dc300e-9a69-480c-8c3d-3bcca319e9f6",
        "colab": {
          "base_uri": "https://localhost:8080/",
          "height": 401
        }
      },
      "source": [
        "df[100:110]"
      ],
      "execution_count": 61,
      "outputs": [
        {
          "output_type": "execute_result",
          "data": {
            "text/html": [
              "<div>\n",
              "<style scoped>\n",
              "    .dataframe tbody tr th:only-of-type {\n",
              "        vertical-align: middle;\n",
              "    }\n",
              "\n",
              "    .dataframe tbody tr th {\n",
              "        vertical-align: top;\n",
              "    }\n",
              "\n",
              "    .dataframe thead th {\n",
              "        text-align: right;\n",
              "    }\n",
              "</style>\n",
              "<table border=\"1\" class=\"dataframe\">\n",
              "  <thead>\n",
              "    <tr style=\"text-align: right;\">\n",
              "      <th></th>\n",
              "      <th>city</th>\n",
              "      <th>trips_in_first_30_days</th>\n",
              "      <th>signup_date</th>\n",
              "      <th>avg_rating_of_driver</th>\n",
              "      <th>avg_surge</th>\n",
              "      <th>last_trip_date</th>\n",
              "      <th>phone</th>\n",
              "      <th>surge_pct</th>\n",
              "      <th>ultimate_black_user</th>\n",
              "      <th>weekday_pct</th>\n",
              "      <th>avg_dist</th>\n",
              "      <th>avg_rating_by_driver</th>\n",
              "      <th>active</th>\n",
              "      <th>t_delta</th>\n",
              "      <th>city_labs</th>\n",
              "      <th>binary_ultimate</th>\n",
              "      <th>phone_labs</th>\n",
              "      <th>avg_rating_of_driver_labs</th>\n",
              "    </tr>\n",
              "  </thead>\n",
              "  <tbody>\n",
              "    <tr>\n",
              "      <th>100</th>\n",
              "      <td>Astapor</td>\n",
              "      <td>0</td>\n",
              "      <td>2014-01-17</td>\n",
              "      <td>0</td>\n",
              "      <td>1.00</td>\n",
              "      <td>2014-06-02</td>\n",
              "      <td>iPhone</td>\n",
              "      <td>0.0</td>\n",
              "      <td>False</td>\n",
              "      <td>100.0</td>\n",
              "      <td>8.30</td>\n",
              "      <td>5</td>\n",
              "      <td>1</td>\n",
              "      <td>136</td>\n",
              "      <td>0</td>\n",
              "      <td>0</td>\n",
              "      <td>1</td>\n",
              "      <td>0</td>\n",
              "    </tr>\n",
              "    <tr>\n",
              "      <th>101</th>\n",
              "      <td>Astapor</td>\n",
              "      <td>1</td>\n",
              "      <td>2014-01-18</td>\n",
              "      <td>5</td>\n",
              "      <td>1.17</td>\n",
              "      <td>2014-05-25</td>\n",
              "      <td>Android</td>\n",
              "      <td>16.7</td>\n",
              "      <td>False</td>\n",
              "      <td>33.3</td>\n",
              "      <td>6.08</td>\n",
              "      <td>5</td>\n",
              "      <td>1</td>\n",
              "      <td>127</td>\n",
              "      <td>0</td>\n",
              "      <td>0</td>\n",
              "      <td>0</td>\n",
              "      <td>5</td>\n",
              "    </tr>\n",
              "    <tr>\n",
              "      <th>102</th>\n",
              "      <td>King's Landing</td>\n",
              "      <td>8</td>\n",
              "      <td>2014-01-31</td>\n",
              "      <td>4</td>\n",
              "      <td>1.00</td>\n",
              "      <td>2014-06-25</td>\n",
              "      <td>iPhone</td>\n",
              "      <td>0.0</td>\n",
              "      <td>True</td>\n",
              "      <td>50.0</td>\n",
              "      <td>2.15</td>\n",
              "      <td>4.9</td>\n",
              "      <td>1</td>\n",
              "      <td>145</td>\n",
              "      <td>1</td>\n",
              "      <td>1</td>\n",
              "      <td>1</td>\n",
              "      <td>4</td>\n",
              "    </tr>\n",
              "    <tr>\n",
              "      <th>103</th>\n",
              "      <td>Winterfell</td>\n",
              "      <td>2</td>\n",
              "      <td>2014-01-30</td>\n",
              "      <td>4</td>\n",
              "      <td>1.00</td>\n",
              "      <td>2014-06-22</td>\n",
              "      <td>iPhone</td>\n",
              "      <td>0.0</td>\n",
              "      <td>True</td>\n",
              "      <td>50.0</td>\n",
              "      <td>6.86</td>\n",
              "      <td>4.9</td>\n",
              "      <td>1</td>\n",
              "      <td>143</td>\n",
              "      <td>2</td>\n",
              "      <td>1</td>\n",
              "      <td>1</td>\n",
              "      <td>4</td>\n",
              "    </tr>\n",
              "    <tr>\n",
              "      <th>104</th>\n",
              "      <td>Winterfell</td>\n",
              "      <td>3</td>\n",
              "      <td>2014-01-01</td>\n",
              "      <td>3</td>\n",
              "      <td>1.00</td>\n",
              "      <td>2014-06-28</td>\n",
              "      <td>iPhone</td>\n",
              "      <td>0.0</td>\n",
              "      <td>True</td>\n",
              "      <td>63.6</td>\n",
              "      <td>4.08</td>\n",
              "      <td>4.9</td>\n",
              "      <td>1</td>\n",
              "      <td>178</td>\n",
              "      <td>2</td>\n",
              "      <td>1</td>\n",
              "      <td>1</td>\n",
              "      <td>3</td>\n",
              "    </tr>\n",
              "    <tr>\n",
              "      <th>105</th>\n",
              "      <td>Winterfell</td>\n",
              "      <td>0</td>\n",
              "      <td>2014-01-20</td>\n",
              "      <td>5</td>\n",
              "      <td>1.00</td>\n",
              "      <td>2014-06-23</td>\n",
              "      <td>Android</td>\n",
              "      <td>0.0</td>\n",
              "      <td>False</td>\n",
              "      <td>0.0</td>\n",
              "      <td>4.99</td>\n",
              "      <td>5</td>\n",
              "      <td>1</td>\n",
              "      <td>154</td>\n",
              "      <td>2</td>\n",
              "      <td>0</td>\n",
              "      <td>0</td>\n",
              "      <td>5</td>\n",
              "    </tr>\n",
              "    <tr>\n",
              "      <th>106</th>\n",
              "      <td>Astapor</td>\n",
              "      <td>0</td>\n",
              "      <td>2014-01-04</td>\n",
              "      <td>0</td>\n",
              "      <td>1.00</td>\n",
              "      <td>2014-04-06</td>\n",
              "      <td>Android</td>\n",
              "      <td>0.0</td>\n",
              "      <td>False</td>\n",
              "      <td>0.0</td>\n",
              "      <td>1.63</td>\n",
              "      <td>5</td>\n",
              "      <td>0</td>\n",
              "      <td>92</td>\n",
              "      <td>0</td>\n",
              "      <td>0</td>\n",
              "      <td>0</td>\n",
              "      <td>0</td>\n",
              "    </tr>\n",
              "    <tr>\n",
              "      <th>107</th>\n",
              "      <td>King's Landing</td>\n",
              "      <td>14</td>\n",
              "      <td>2014-01-07</td>\n",
              "      <td>5</td>\n",
              "      <td>1.09</td>\n",
              "      <td>2014-06-29</td>\n",
              "      <td>iPhone</td>\n",
              "      <td>15.9</td>\n",
              "      <td>False</td>\n",
              "      <td>50.0</td>\n",
              "      <td>10.79</td>\n",
              "      <td>4.9</td>\n",
              "      <td>1</td>\n",
              "      <td>173</td>\n",
              "      <td>1</td>\n",
              "      <td>0</td>\n",
              "      <td>1</td>\n",
              "      <td>5</td>\n",
              "    </tr>\n",
              "    <tr>\n",
              "      <th>108</th>\n",
              "      <td>Astapor</td>\n",
              "      <td>1</td>\n",
              "      <td>2014-01-03</td>\n",
              "      <td>3</td>\n",
              "      <td>1.00</td>\n",
              "      <td>2014-01-08</td>\n",
              "      <td>iPhone</td>\n",
              "      <td>0.0</td>\n",
              "      <td>False</td>\n",
              "      <td>100.0</td>\n",
              "      <td>9.14</td>\n",
              "      <td>5</td>\n",
              "      <td>0</td>\n",
              "      <td>5</td>\n",
              "      <td>0</td>\n",
              "      <td>0</td>\n",
              "      <td>1</td>\n",
              "      <td>3</td>\n",
              "    </tr>\n",
              "    <tr>\n",
              "      <th>109</th>\n",
              "      <td>Astapor</td>\n",
              "      <td>1</td>\n",
              "      <td>2014-01-19</td>\n",
              "      <td>0</td>\n",
              "      <td>1.00</td>\n",
              "      <td>2014-04-14</td>\n",
              "      <td>Android</td>\n",
              "      <td>0.0</td>\n",
              "      <td>False</td>\n",
              "      <td>66.7</td>\n",
              "      <td>3.07</td>\n",
              "      <td>5</td>\n",
              "      <td>0</td>\n",
              "      <td>85</td>\n",
              "      <td>0</td>\n",
              "      <td>0</td>\n",
              "      <td>0</td>\n",
              "      <td>0</td>\n",
              "    </tr>\n",
              "  </tbody>\n",
              "</table>\n",
              "</div>"
            ],
            "text/plain": [
              "               city  ...  avg_rating_of_driver_labs\n",
              "100         Astapor  ...                          0\n",
              "101         Astapor  ...                          5\n",
              "102  King's Landing  ...                          4\n",
              "103      Winterfell  ...                          4\n",
              "104      Winterfell  ...                          3\n",
              "105      Winterfell  ...                          5\n",
              "106         Astapor  ...                          0\n",
              "107  King's Landing  ...                          5\n",
              "108         Astapor  ...                          3\n",
              "109         Astapor  ...                          0\n",
              "\n",
              "[10 rows x 18 columns]"
            ]
          },
          "metadata": {
            "tags": []
          },
          "execution_count": 61
        }
      ]
    },
    {
      "cell_type": "code",
      "metadata": {
        "id": "cMaFZ2v08tei",
        "colab_type": "code",
        "colab": {}
      },
      "source": [
        "known2 = []\n",
        "for i in df['avg_rating_by_driver']: \n",
        "  try:\n",
        "    x = round(i)\n",
        "    known2.append(x)\n",
        "  except Exception as e:\n",
        "    known2.append(i)"
      ],
      "execution_count": 0,
      "outputs": []
    },
    {
      "cell_type": "code",
      "metadata": {
        "id": "yJ5loERS87kK",
        "colab_type": "code",
        "colab": {}
      },
      "source": [
        "df['avg_rating_by_driver'] = pd.Series(known2)"
      ],
      "execution_count": 0,
      "outputs": []
    },
    {
      "cell_type": "code",
      "metadata": {
        "id": "gYyhfFbz9ue8",
        "colab_type": "code",
        "colab": {}
      },
      "source": [
        "enr = pp.LabelEncoder()"
      ],
      "execution_count": 0,
      "outputs": []
    },
    {
      "cell_type": "code",
      "metadata": {
        "id": "UtcvbBtp-f_b",
        "colab_type": "code",
        "colab": {}
      },
      "source": [
        "df.loc[df['avg_rating_by_driver']== 'unknown', 'avg_rating_by_driver'] = 0"
      ],
      "execution_count": 0,
      "outputs": []
    },
    {
      "cell_type": "code",
      "metadata": {
        "id": "vdyFKUrA-Exl",
        "colab_type": "code",
        "colab": {}
      },
      "source": [
        "df['avg_rating_by_driver_labs'] = enr.fit_transform(df['avg_rating_by_driver'])"
      ],
      "execution_count": 0,
      "outputs": []
    },
    {
      "cell_type": "code",
      "metadata": {
        "id": "0zQBwinn-sm5",
        "colab_type": "code",
        "outputId": "2b5b33d6-f626-44cc-9e13-aaddf855fd95",
        "colab": {
          "base_uri": "https://localhost:8080/",
          "height": 34
        }
      },
      "source": [
        "enr.classes_"
      ],
      "execution_count": 67,
      "outputs": [
        {
          "output_type": "execute_result",
          "data": {
            "text/plain": [
              "array([0, 1, 2, 3, 4, 5])"
            ]
          },
          "metadata": {
            "tags": []
          },
          "execution_count": 67
        }
      ]
    },
    {
      "cell_type": "code",
      "metadata": {
        "id": "gMQJHGkaRi0F",
        "colab_type": "code",
        "colab": {}
      },
      "source": [
        "data = df.drop(['phone','city','ultimate_black_user','avg_rating_of_driver','avg_rating_by_driver'],axis=1)"
      ],
      "execution_count": 0,
      "outputs": []
    },
    {
      "cell_type": "code",
      "metadata": {
        "id": "BPvPmmFDSycb",
        "colab_type": "code",
        "outputId": "8e6a87eb-4004-4223-8edb-bfad461e8260",
        "colab": {
          "base_uri": "https://localhost:8080/",
          "height": 217
        }
      },
      "source": [
        "data.head()"
      ],
      "execution_count": 69,
      "outputs": [
        {
          "output_type": "execute_result",
          "data": {
            "text/html": [
              "<div>\n",
              "<style scoped>\n",
              "    .dataframe tbody tr th:only-of-type {\n",
              "        vertical-align: middle;\n",
              "    }\n",
              "\n",
              "    .dataframe tbody tr th {\n",
              "        vertical-align: top;\n",
              "    }\n",
              "\n",
              "    .dataframe thead th {\n",
              "        text-align: right;\n",
              "    }\n",
              "</style>\n",
              "<table border=\"1\" class=\"dataframe\">\n",
              "  <thead>\n",
              "    <tr style=\"text-align: right;\">\n",
              "      <th></th>\n",
              "      <th>trips_in_first_30_days</th>\n",
              "      <th>signup_date</th>\n",
              "      <th>avg_surge</th>\n",
              "      <th>last_trip_date</th>\n",
              "      <th>surge_pct</th>\n",
              "      <th>weekday_pct</th>\n",
              "      <th>avg_dist</th>\n",
              "      <th>active</th>\n",
              "      <th>t_delta</th>\n",
              "      <th>city_labs</th>\n",
              "      <th>binary_ultimate</th>\n",
              "      <th>phone_labs</th>\n",
              "      <th>avg_rating_of_driver_labs</th>\n",
              "      <th>avg_rating_by_driver_labs</th>\n",
              "    </tr>\n",
              "  </thead>\n",
              "  <tbody>\n",
              "    <tr>\n",
              "      <th>0</th>\n",
              "      <td>4</td>\n",
              "      <td>2014-01-25</td>\n",
              "      <td>1.10</td>\n",
              "      <td>2014-06-17</td>\n",
              "      <td>15.4</td>\n",
              "      <td>46.2</td>\n",
              "      <td>3.67</td>\n",
              "      <td>1</td>\n",
              "      <td>143</td>\n",
              "      <td>1</td>\n",
              "      <td>1</td>\n",
              "      <td>1</td>\n",
              "      <td>5</td>\n",
              "      <td>5</td>\n",
              "    </tr>\n",
              "    <tr>\n",
              "      <th>1</th>\n",
              "      <td>0</td>\n",
              "      <td>2014-01-29</td>\n",
              "      <td>1.00</td>\n",
              "      <td>2014-05-05</td>\n",
              "      <td>0.0</td>\n",
              "      <td>50.0</td>\n",
              "      <td>8.26</td>\n",
              "      <td>0</td>\n",
              "      <td>96</td>\n",
              "      <td>0</td>\n",
              "      <td>0</td>\n",
              "      <td>0</td>\n",
              "      <td>5</td>\n",
              "      <td>5</td>\n",
              "    </tr>\n",
              "    <tr>\n",
              "      <th>2</th>\n",
              "      <td>3</td>\n",
              "      <td>2014-01-06</td>\n",
              "      <td>1.00</td>\n",
              "      <td>2014-01-07</td>\n",
              "      <td>0.0</td>\n",
              "      <td>100.0</td>\n",
              "      <td>0.77</td>\n",
              "      <td>0</td>\n",
              "      <td>1</td>\n",
              "      <td>0</td>\n",
              "      <td>0</td>\n",
              "      <td>1</td>\n",
              "      <td>4</td>\n",
              "      <td>5</td>\n",
              "    </tr>\n",
              "    <tr>\n",
              "      <th>3</th>\n",
              "      <td>9</td>\n",
              "      <td>2014-01-10</td>\n",
              "      <td>1.14</td>\n",
              "      <td>2014-06-29</td>\n",
              "      <td>20.0</td>\n",
              "      <td>80.0</td>\n",
              "      <td>2.36</td>\n",
              "      <td>1</td>\n",
              "      <td>170</td>\n",
              "      <td>1</td>\n",
              "      <td>1</td>\n",
              "      <td>1</td>\n",
              "      <td>5</td>\n",
              "      <td>5</td>\n",
              "    </tr>\n",
              "    <tr>\n",
              "      <th>4</th>\n",
              "      <td>14</td>\n",
              "      <td>2014-01-27</td>\n",
              "      <td>1.19</td>\n",
              "      <td>2014-03-15</td>\n",
              "      <td>11.8</td>\n",
              "      <td>82.4</td>\n",
              "      <td>3.13</td>\n",
              "      <td>0</td>\n",
              "      <td>47</td>\n",
              "      <td>2</td>\n",
              "      <td>0</td>\n",
              "      <td>0</td>\n",
              "      <td>4</td>\n",
              "      <td>5</td>\n",
              "    </tr>\n",
              "  </tbody>\n",
              "</table>\n",
              "</div>"
            ],
            "text/plain": [
              "   trips_in_first_30_days  ... avg_rating_by_driver_labs\n",
              "0                       4  ...                         5\n",
              "1                       0  ...                         5\n",
              "2                       3  ...                         5\n",
              "3                       9  ...                         5\n",
              "4                      14  ...                         5\n",
              "\n",
              "[5 rows x 14 columns]"
            ]
          },
          "metadata": {
            "tags": []
          },
          "execution_count": 69
        }
      ]
    },
    {
      "cell_type": "code",
      "metadata": {
        "id": "XsjMJPr3nIeh",
        "colab_type": "code",
        "colab": {}
      },
      "source": [
        "data = data.drop(['signup_date','last_trip_date'],axis=1)"
      ],
      "execution_count": 0,
      "outputs": []
    },
    {
      "cell_type": "code",
      "metadata": {
        "id": "MCfjK1SVq-2x",
        "colab_type": "code",
        "outputId": "aefe3980-141a-4eac-bd94-adffa2dff3ef",
        "colab": {
          "base_uri": "https://localhost:8080/",
          "height": 217
        }
      },
      "source": [
        "data.head()"
      ],
      "execution_count": 71,
      "outputs": [
        {
          "output_type": "execute_result",
          "data": {
            "text/html": [
              "<div>\n",
              "<style scoped>\n",
              "    .dataframe tbody tr th:only-of-type {\n",
              "        vertical-align: middle;\n",
              "    }\n",
              "\n",
              "    .dataframe tbody tr th {\n",
              "        vertical-align: top;\n",
              "    }\n",
              "\n",
              "    .dataframe thead th {\n",
              "        text-align: right;\n",
              "    }\n",
              "</style>\n",
              "<table border=\"1\" class=\"dataframe\">\n",
              "  <thead>\n",
              "    <tr style=\"text-align: right;\">\n",
              "      <th></th>\n",
              "      <th>trips_in_first_30_days</th>\n",
              "      <th>avg_surge</th>\n",
              "      <th>surge_pct</th>\n",
              "      <th>weekday_pct</th>\n",
              "      <th>avg_dist</th>\n",
              "      <th>active</th>\n",
              "      <th>t_delta</th>\n",
              "      <th>city_labs</th>\n",
              "      <th>binary_ultimate</th>\n",
              "      <th>phone_labs</th>\n",
              "      <th>avg_rating_of_driver_labs</th>\n",
              "      <th>avg_rating_by_driver_labs</th>\n",
              "    </tr>\n",
              "  </thead>\n",
              "  <tbody>\n",
              "    <tr>\n",
              "      <th>0</th>\n",
              "      <td>4</td>\n",
              "      <td>1.10</td>\n",
              "      <td>15.4</td>\n",
              "      <td>46.2</td>\n",
              "      <td>3.67</td>\n",
              "      <td>1</td>\n",
              "      <td>143</td>\n",
              "      <td>1</td>\n",
              "      <td>1</td>\n",
              "      <td>1</td>\n",
              "      <td>5</td>\n",
              "      <td>5</td>\n",
              "    </tr>\n",
              "    <tr>\n",
              "      <th>1</th>\n",
              "      <td>0</td>\n",
              "      <td>1.00</td>\n",
              "      <td>0.0</td>\n",
              "      <td>50.0</td>\n",
              "      <td>8.26</td>\n",
              "      <td>0</td>\n",
              "      <td>96</td>\n",
              "      <td>0</td>\n",
              "      <td>0</td>\n",
              "      <td>0</td>\n",
              "      <td>5</td>\n",
              "      <td>5</td>\n",
              "    </tr>\n",
              "    <tr>\n",
              "      <th>2</th>\n",
              "      <td>3</td>\n",
              "      <td>1.00</td>\n",
              "      <td>0.0</td>\n",
              "      <td>100.0</td>\n",
              "      <td>0.77</td>\n",
              "      <td>0</td>\n",
              "      <td>1</td>\n",
              "      <td>0</td>\n",
              "      <td>0</td>\n",
              "      <td>1</td>\n",
              "      <td>4</td>\n",
              "      <td>5</td>\n",
              "    </tr>\n",
              "    <tr>\n",
              "      <th>3</th>\n",
              "      <td>9</td>\n",
              "      <td>1.14</td>\n",
              "      <td>20.0</td>\n",
              "      <td>80.0</td>\n",
              "      <td>2.36</td>\n",
              "      <td>1</td>\n",
              "      <td>170</td>\n",
              "      <td>1</td>\n",
              "      <td>1</td>\n",
              "      <td>1</td>\n",
              "      <td>5</td>\n",
              "      <td>5</td>\n",
              "    </tr>\n",
              "    <tr>\n",
              "      <th>4</th>\n",
              "      <td>14</td>\n",
              "      <td>1.19</td>\n",
              "      <td>11.8</td>\n",
              "      <td>82.4</td>\n",
              "      <td>3.13</td>\n",
              "      <td>0</td>\n",
              "      <td>47</td>\n",
              "      <td>2</td>\n",
              "      <td>0</td>\n",
              "      <td>0</td>\n",
              "      <td>4</td>\n",
              "      <td>5</td>\n",
              "    </tr>\n",
              "  </tbody>\n",
              "</table>\n",
              "</div>"
            ],
            "text/plain": [
              "   trips_in_first_30_days  ...  avg_rating_by_driver_labs\n",
              "0                       4  ...                          5\n",
              "1                       0  ...                          5\n",
              "2                       3  ...                          5\n",
              "3                       9  ...                          5\n",
              "4                      14  ...                          5\n",
              "\n",
              "[5 rows x 12 columns]"
            ]
          },
          "metadata": {
            "tags": []
          },
          "execution_count": 71
        }
      ]
    },
    {
      "cell_type": "markdown",
      "metadata": {
        "id": "tip8tE_65vmR",
        "colab_type": "text"
      },
      "source": [
        "#CHECKING COLLINEARITY WITH CORRELATION"
      ]
    },
    {
      "cell_type": "code",
      "metadata": {
        "id": "B_k29q8Eq99I",
        "colab_type": "code",
        "outputId": "24709780-dd70-4fd6-f751-7643baa8b607",
        "colab": {
          "base_uri": "https://localhost:8080/",
          "height": 712
        }
      },
      "source": [
        "plt.figure(figsize=(15,10))\n",
        "_=sns.heatmap(data.corr().round(2),square=True,annot=True,cmap='RdYlGn',vmin=-1, vmax=1)\n",
        "# everything looks alright except a few reasonable problems\n",
        "# surge_pct, avg_pct w/ each other and t_delta, active(target)"
      ],
      "execution_count": 74,
      "outputs": [
        {
          "output_type": "display_data",
          "data": {
            "image/png": "[encoded data removed]",
            "text/plain": [
              "<Figure size 1080x720 with 2 Axes>"
            ]
          },
          "metadata": {
            "tags": []
          }
        }
      ]
    },
    {
      "cell_type": "code",
      "metadata": {
        "id": "6Om38a9mtGBg",
        "colab_type": "code",
        "colab": {}
      },
      "source": [
        "from statsmodels.stats.outliers_influence import variance_inflation_factor"
      ],
      "execution_count": 0,
      "outputs": []
    },
    {
      "cell_type": "code",
      "metadata": {
        "id": "4X6fh41Osgpe",
        "colab_type": "code",
        "outputId": "f7b3e896-ad63-490b-b230-925886db88fc",
        "colab": {
          "base_uri": "https://localhost:8080/",
          "height": 377
        }
      },
      "source": [
        "x = data.drop(['active'],axis=1)\n",
        "\n",
        "# features to float arrays\n",
        "arr = np.array(x, dtype=float)\n",
        "\n",
        "# vif dataframe\n",
        "vif = pd.DataFrame()\n",
        "vif[\"VIF\"] = [variance_inflation_factor(arr, i) for i in range(arr.shape[1])]\n",
        "vif[\"features\"] = x.columns\n",
        "vif.sort_values(by='VIF',ascending=False)\n",
        "\n",
        "# < 10-15 is the keep threshold, drop surge and rating"
      ],
      "execution_count": 77,
      "outputs": [
        {
          "output_type": "execute_result",
          "data": {
            "text/html": [
              "<div>\n",
              "<style scoped>\n",
              "    .dataframe tbody tr th:only-of-type {\n",
              "        vertical-align: middle;\n",
              "    }\n",
              "\n",
              "    .dataframe tbody tr th {\n",
              "        vertical-align: top;\n",
              "    }\n",
              "\n",
              "    .dataframe thead th {\n",
              "        text-align: right;\n",
              "    }\n",
              "</style>\n",
              "<table border=\"1\" class=\"dataframe\">\n",
              "  <thead>\n",
              "    <tr style=\"text-align: right;\">\n",
              "      <th></th>\n",
              "      <th>VIF</th>\n",
              "      <th>features</th>\n",
              "    </tr>\n",
              "  </thead>\n",
              "  <tbody>\n",
              "    <tr>\n",
              "      <th>1</th>\n",
              "      <td>38.672672</td>\n",
              "      <td>avg_surge</td>\n",
              "    </tr>\n",
              "    <tr>\n",
              "      <th>10</th>\n",
              "      <td>35.496028</td>\n",
              "      <td>avg_rating_by_driver_labs</td>\n",
              "    </tr>\n",
              "    <tr>\n",
              "      <th>9</th>\n",
              "      <td>5.847699</td>\n",
              "      <td>avg_rating_of_driver_labs</td>\n",
              "    </tr>\n",
              "    <tr>\n",
              "      <th>3</th>\n",
              "      <td>3.783888</td>\n",
              "      <td>weekday_pct</td>\n",
              "    </tr>\n",
              "    <tr>\n",
              "      <th>5</th>\n",
              "      <td>3.584935</td>\n",
              "      <td>t_delta</td>\n",
              "    </tr>\n",
              "    <tr>\n",
              "      <th>8</th>\n",
              "      <td>3.325558</td>\n",
              "      <td>phone_labs</td>\n",
              "    </tr>\n",
              "    <tr>\n",
              "      <th>6</th>\n",
              "      <td>2.654599</td>\n",
              "      <td>city_labs</td>\n",
              "    </tr>\n",
              "    <tr>\n",
              "      <th>2</th>\n",
              "      <td>2.586760</td>\n",
              "      <td>surge_pct</td>\n",
              "    </tr>\n",
              "    <tr>\n",
              "      <th>4</th>\n",
              "      <td>2.153739</td>\n",
              "      <td>avg_dist</td>\n",
              "    </tr>\n",
              "    <tr>\n",
              "      <th>7</th>\n",
              "      <td>1.700058</td>\n",
              "      <td>binary_ultimate</td>\n",
              "    </tr>\n",
              "    <tr>\n",
              "      <th>0</th>\n",
              "      <td>1.478748</td>\n",
              "      <td>trips_in_first_30_days</td>\n",
              "    </tr>\n",
              "  </tbody>\n",
              "</table>\n",
              "</div>"
            ],
            "text/plain": [
              "          VIF                   features\n",
              "1   38.672672                  avg_surge\n",
              "10  35.496028  avg_rating_by_driver_labs\n",
              "9    5.847699  avg_rating_of_driver_labs\n",
              "3    3.783888                weekday_pct\n",
              "5    3.584935                    t_delta\n",
              "8    3.325558                 phone_labs\n",
              "6    2.654599                  city_labs\n",
              "2    2.586760                  surge_pct\n",
              "4    2.153739                   avg_dist\n",
              "7    1.700058            binary_ultimate\n",
              "0    1.478748     trips_in_first_30_days"
            ]
          },
          "metadata": {
            "tags": []
          },
          "execution_count": 77
        }
      ]
    },
    {
      "cell_type": "code",
      "metadata": {
        "id": "FnSfbQjEsgmr",
        "colab_type": "code",
        "colab": {}
      },
      "source": [
        "ult = data.drop(columns=['avg_rating_by_driver_labs', 'avg_surge'])"
      ],
      "execution_count": 0,
      "outputs": []
    },
    {
      "cell_type": "code",
      "metadata": {
        "id": "sn8Pl7p-sgk8",
        "colab_type": "code",
        "outputId": "c5071361-8d93-4778-82b7-02d138a2b165",
        "colab": {
          "base_uri": "https://localhost:8080/",
          "height": 317
        }
      },
      "source": [
        "# redo vif\n",
        "\n",
        "x = ult.drop(['active'],axis=1)\n",
        "arr = np.array(x, dtype=float)\n",
        "\n",
        "# vif df\n",
        "vif = pd.DataFrame()\n",
        "vif[\"VIF\"] = [variance_inflation_factor(arr, i) for i in range(arr.shape[1])]\n",
        "vif[\"features\"] = x.columns\n",
        "vif.sort_values(by='VIF',ascending=False)"
      ],
      "execution_count": 80,
      "outputs": [
        {
          "output_type": "execute_result",
          "data": {
            "text/html": [
              "<div>\n",
              "<style scoped>\n",
              "    .dataframe tbody tr th:only-of-type {\n",
              "        vertical-align: middle;\n",
              "    }\n",
              "\n",
              "    .dataframe tbody tr th {\n",
              "        vertical-align: top;\n",
              "    }\n",
              "\n",
              "    .dataframe thead th {\n",
              "        text-align: right;\n",
              "    }\n",
              "</style>\n",
              "<table border=\"1\" class=\"dataframe\">\n",
              "  <thead>\n",
              "    <tr style=\"text-align: right;\">\n",
              "      <th></th>\n",
              "      <th>VIF</th>\n",
              "      <th>features</th>\n",
              "    </tr>\n",
              "  </thead>\n",
              "  <tbody>\n",
              "    <tr>\n",
              "      <th>8</th>\n",
              "      <td>4.378926</td>\n",
              "      <td>avg_rating_of_driver_labs</td>\n",
              "    </tr>\n",
              "    <tr>\n",
              "      <th>4</th>\n",
              "      <td>3.420342</td>\n",
              "      <td>t_delta</td>\n",
              "    </tr>\n",
              "    <tr>\n",
              "      <th>2</th>\n",
              "      <td>3.229461</td>\n",
              "      <td>weekday_pct</td>\n",
              "    </tr>\n",
              "    <tr>\n",
              "      <th>7</th>\n",
              "      <td>3.036660</td>\n",
              "      <td>phone_labs</td>\n",
              "    </tr>\n",
              "    <tr>\n",
              "      <th>5</th>\n",
              "      <td>2.382737</td>\n",
              "      <td>city_labs</td>\n",
              "    </tr>\n",
              "    <tr>\n",
              "      <th>3</th>\n",
              "      <td>1.947549</td>\n",
              "      <td>avg_dist</td>\n",
              "    </tr>\n",
              "    <tr>\n",
              "      <th>6</th>\n",
              "      <td>1.669928</td>\n",
              "      <td>binary_ultimate</td>\n",
              "    </tr>\n",
              "    <tr>\n",
              "      <th>0</th>\n",
              "      <td>1.478017</td>\n",
              "      <td>trips_in_first_30_days</td>\n",
              "    </tr>\n",
              "    <tr>\n",
              "      <th>1</th>\n",
              "      <td>1.184248</td>\n",
              "      <td>surge_pct</td>\n",
              "    </tr>\n",
              "  </tbody>\n",
              "</table>\n",
              "</div>"
            ],
            "text/plain": [
              "        VIF                   features\n",
              "8  4.378926  avg_rating_of_driver_labs\n",
              "4  3.420342                    t_delta\n",
              "2  3.229461                weekday_pct\n",
              "7  3.036660                 phone_labs\n",
              "5  2.382737                  city_labs\n",
              "3  1.947549                   avg_dist\n",
              "6  1.669928            binary_ultimate\n",
              "0  1.478017     trips_in_first_30_days\n",
              "1  1.184248                  surge_pct"
            ]
          },
          "metadata": {
            "tags": []
          },
          "execution_count": 80
        }
      ]
    },
    {
      "cell_type": "code",
      "metadata": {
        "id": "3ZOAyKrgsgfw",
        "colab_type": "code",
        "outputId": "1f6ced5e-8cdb-4f0d-d2da-c712f2923331",
        "colab": {
          "base_uri": "https://localhost:8080/",
          "height": 253
        }
      },
      "source": [
        "# the distribution does not require resampling \n",
        "\n",
        "_ = ult.active.value_counts().plot(kind='pie',labels=['inactive','active'],autopct='%1.1f%%')\n",
        "_ = plt.axis('equal')\n",
        "# no need for smote resampling"
      ],
      "execution_count": 81,
      "outputs": [
        {
          "output_type": "display_data",
          "data": {
            "image/png": "[encoded data removed]",
            "text/plain": [
              "<Figure size 432x288 with 1 Axes>"
            ]
          },
          "metadata": {
            "tags": []
          }
        }
      ]
    },
    {
      "cell_type": "code",
      "metadata": {
        "id": "YGKTbMHCsgeA",
        "colab_type": "code",
        "outputId": "e3c1e345-af1f-4c41-f7e7-fbc859164748",
        "colab": {
          "base_uri": "https://localhost:8080/",
          "height": 307
        }
      },
      "source": [
        "ult.describe()"
      ],
      "execution_count": 82,
      "outputs": [
        {
          "output_type": "execute_result",
          "data": {
            "text/html": [
              "<div>\n",
              "<style scoped>\n",
              "    .dataframe tbody tr th:only-of-type {\n",
              "        vertical-align: middle;\n",
              "    }\n",
              "\n",
              "    .dataframe tbody tr th {\n",
              "        vertical-align: top;\n",
              "    }\n",
              "\n",
              "    .dataframe thead th {\n",
              "        text-align: right;\n",
              "    }\n",
              "</style>\n",
              "<table border=\"1\" class=\"dataframe\">\n",
              "  <thead>\n",
              "    <tr style=\"text-align: right;\">\n",
              "      <th></th>\n",
              "      <th>trips_in_first_30_days</th>\n",
              "      <th>surge_pct</th>\n",
              "      <th>weekday_pct</th>\n",
              "      <th>avg_dist</th>\n",
              "      <th>active</th>\n",
              "      <th>t_delta</th>\n",
              "      <th>city_labs</th>\n",
              "      <th>binary_ultimate</th>\n",
              "      <th>phone_labs</th>\n",
              "      <th>avg_rating_of_driver_labs</th>\n",
              "    </tr>\n",
              "  </thead>\n",
              "  <tbody>\n",
              "    <tr>\n",
              "      <th>count</th>\n",
              "      <td>50000.000000</td>\n",
              "      <td>50000.000000</td>\n",
              "      <td>50000.000000</td>\n",
              "      <td>50000.000000</td>\n",
              "      <td>50000.000000</td>\n",
              "      <td>50000.000000</td>\n",
              "      <td>50000.000000</td>\n",
              "      <td>50000.00000</td>\n",
              "      <td>50000.000000</td>\n",
              "      <td>50000.000000</td>\n",
              "    </tr>\n",
              "    <tr>\n",
              "      <th>mean</th>\n",
              "      <td>2.278200</td>\n",
              "      <td>8.849536</td>\n",
              "      <td>60.926084</td>\n",
              "      <td>5.796827</td>\n",
              "      <td>0.454900</td>\n",
              "      <td>92.790100</td>\n",
              "      <td>1.136040</td>\n",
              "      <td>0.37708</td>\n",
              "      <td>0.707480</td>\n",
              "      <td>3.852200</td>\n",
              "    </tr>\n",
              "    <tr>\n",
              "      <th>std</th>\n",
              "      <td>3.792684</td>\n",
              "      <td>19.958811</td>\n",
              "      <td>37.081503</td>\n",
              "      <td>5.707357</td>\n",
              "      <td>0.497967</td>\n",
              "      <td>62.129822</td>\n",
              "      <td>0.882558</td>\n",
              "      <td>0.48466</td>\n",
              "      <td>0.472013</td>\n",
              "      <td>1.800617</td>\n",
              "    </tr>\n",
              "    <tr>\n",
              "      <th>min</th>\n",
              "      <td>0.000000</td>\n",
              "      <td>0.000000</td>\n",
              "      <td>0.000000</td>\n",
              "      <td>0.000000</td>\n",
              "      <td>0.000000</td>\n",
              "      <td>0.000000</td>\n",
              "      <td>0.000000</td>\n",
              "      <td>0.00000</td>\n",
              "      <td>0.000000</td>\n",
              "      <td>0.000000</td>\n",
              "    </tr>\n",
              "    <tr>\n",
              "      <th>25%</th>\n",
              "      <td>0.000000</td>\n",
              "      <td>0.000000</td>\n",
              "      <td>33.300000</td>\n",
              "      <td>2.420000</td>\n",
              "      <td>0.000000</td>\n",
              "      <td>27.000000</td>\n",
              "      <td>0.000000</td>\n",
              "      <td>0.00000</td>\n",
              "      <td>0.000000</td>\n",
              "      <td>4.000000</td>\n",
              "    </tr>\n",
              "    <tr>\n",
              "      <th>50%</th>\n",
              "      <td>1.000000</td>\n",
              "      <td>0.000000</td>\n",
              "      <td>66.700000</td>\n",
              "      <td>3.880000</td>\n",
              "      <td>0.000000</td>\n",
              "      <td>110.000000</td>\n",
              "      <td>1.000000</td>\n",
              "      <td>0.00000</td>\n",
              "      <td>1.000000</td>\n",
              "      <td>5.000000</td>\n",
              "    </tr>\n",
              "    <tr>\n",
              "      <th>75%</th>\n",
              "      <td>3.000000</td>\n",
              "      <td>8.600000</td>\n",
              "      <td>100.000000</td>\n",
              "      <td>6.940000</td>\n",
              "      <td>1.000000</td>\n",
              "      <td>150.000000</td>\n",
              "      <td>2.000000</td>\n",
              "      <td>1.00000</td>\n",
              "      <td>1.000000</td>\n",
              "      <td>5.000000</td>\n",
              "    </tr>\n",
              "    <tr>\n",
              "      <th>max</th>\n",
              "      <td>125.000000</td>\n",
              "      <td>100.000000</td>\n",
              "      <td>100.000000</td>\n",
              "      <td>160.960000</td>\n",
              "      <td>1.000000</td>\n",
              "      <td>181.000000</td>\n",
              "      <td>2.000000</td>\n",
              "      <td>1.00000</td>\n",
              "      <td>2.000000</td>\n",
              "      <td>5.000000</td>\n",
              "    </tr>\n",
              "  </tbody>\n",
              "</table>\n",
              "</div>"
            ],
            "text/plain": [
              "       trips_in_first_30_days  ...  avg_rating_of_driver_labs\n",
              "count            50000.000000  ...               50000.000000\n",
              "mean                 2.278200  ...                   3.852200\n",
              "std                  3.792684  ...                   1.800617\n",
              "min                  0.000000  ...                   0.000000\n",
              "25%                  0.000000  ...                   4.000000\n",
              "50%                  1.000000  ...                   5.000000\n",
              "75%                  3.000000  ...                   5.000000\n",
              "max                125.000000  ...                   5.000000\n",
              "\n",
              "[8 rows x 10 columns]"
            ]
          },
          "metadata": {
            "tags": []
          },
          "execution_count": 82
        }
      ]
    },
    {
      "cell_type": "code",
      "metadata": {
        "id": "bJDk6yJksgcX",
        "colab_type": "code",
        "colab": {}
      },
      "source": [
        "from sklearn.model_selection import train_test_split\n",
        "from sklearn.model_selection import cross_val_score\n",
        "from sklearn.model_selection import RandomizedSearchCV\n",
        "from sklearn.ensemble import RandomForestClassifier\n",
        "\n",
        "from sklearn.model_selection import GridSearchCV\n",
        "import statsmodels.formula.api as smf\n",
        "import statsmodels.api as sm\n",
        "from sklearn import metrics\n",
        "from sklearn.metrics import classification_report, confusion_matrix"
      ],
      "execution_count": 0,
      "outputs": []
    },
    {
      "cell_type": "markdown",
      "metadata": {
        "id": "JopllZAq7huj",
        "colab_type": "text"
      },
      "source": [
        "#Modeling w/ Random Forest"
      ]
    },
    {
      "cell_type": "code",
      "metadata": {
        "id": "6jiUYXF5xZL8",
        "colab_type": "code",
        "colab": {}
      },
      "source": [
        "X = ult.drop(['active'],axis=1)\n",
        "y = ult['active']"
      ],
      "execution_count": 0,
      "outputs": []
    },
    {
      "cell_type": "code",
      "metadata": {
        "id": "SYaGPUWD7Wh7",
        "colab_type": "code",
        "outputId": "0cf9d3cf-711a-418b-e6ef-01d96319f171",
        "colab": {
          "base_uri": "https://localhost:8080/",
          "height": 87
        }
      },
      "source": [
        "X.columns"
      ],
      "execution_count": 102,
      "outputs": [
        {
          "output_type": "execute_result",
          "data": {
            "text/plain": [
              "Index(['trips_in_first_30_days', 'surge_pct', 'weekday_pct', 'avg_dist',\n",
              "       't_delta', 'city_labs', 'binary_ultimate', 'phone_labs',\n",
              "       'avg_rating_of_driver_labs'],\n",
              "      dtype='object')"
            ]
          },
          "metadata": {
            "tags": []
          },
          "execution_count": 102
        }
      ]
    },
    {
      "cell_type": "code",
      "metadata": {
        "id": "hbNdLwKXxRvA",
        "colab_type": "code",
        "colab": {}
      },
      "source": [
        "X_train,X_test,y_train,y_test = train_test_split(X,y,test_size=0.2,random_state=17)"
      ],
      "execution_count": 0,
      "outputs": []
    },
    {
      "cell_type": "code",
      "metadata": {
        "id": "hDVUjoHSsgYg",
        "colab_type": "code",
        "colab": {}
      },
      "source": [
        "# instantiate w/ 30-60 estimators \n",
        "rf = RandomForestClassifier(n_estimators=40, random_state=10)\n",
        "\n",
        "# cross-validation \n",
        "cv_rf = cross_val_score(rf, X_train, y_train, cv=5,scoring='accuracy')\n",
        "\n",
        "# train model\n",
        "rf.fit(X_train, y_train)\n",
        "\n",
        "# predict on test data\n",
        "y_pred = rf.predict(X_test)"
      ],
      "execution_count": 0,
      "outputs": []
    },
    {
      "cell_type": "code",
      "metadata": {
        "id": "xkQ5KRKWsgUY",
        "colab_type": "code",
        "outputId": "749aee58-91e7-409d-cb08-f38af21b5f37",
        "colab": {
          "base_uri": "https://localhost:8080/",
          "height": 52
        }
      },
      "source": [
        "print(\"train accuracy:\",format(np.mean(cv_rf),'.5f'))\n",
        "print(\"test accuracy:\",format(metrics.accuracy_score(y_test, y_pred),'.5f'))"
      ],
      "execution_count": 105,
      "outputs": [
        {
          "output_type": "stream",
          "text": [
            "train accuracy: 0.96203\n",
            "test accuracy: 0.96200\n"
          ],
          "name": "stdout"
        }
      ]
    },
    {
      "cell_type": "code",
      "metadata": {
        "id": "MTrhAt4-sgR5",
        "colab_type": "code",
        "outputId": "f81b1e77-6321-4fd2-9fe5-53666a0abd00",
        "colab": {
          "base_uri": "https://localhost:8080/",
          "height": 176
        }
      },
      "source": [
        "print(classification_report(y_test, y_pred))"
      ],
      "execution_count": 106,
      "outputs": [
        {
          "output_type": "stream",
          "text": [
            "              precision    recall  f1-score   support\n",
            "\n",
            "           0       0.97      0.96      0.97      5448\n",
            "           1       0.96      0.96      0.96      4552\n",
            "\n",
            "    accuracy                           0.96     10000\n",
            "   macro avg       0.96      0.96      0.96     10000\n",
            "weighted avg       0.96      0.96      0.96     10000\n",
            "\n"
          ],
          "name": "stdout"
        }
      ]
    },
    {
      "cell_type": "code",
      "metadata": {
        "id": "qsjO9wS_3GEM",
        "colab_type": "code",
        "colab": {}
      },
      "source": [
        "from sklearn.metrics import roc_curve"
      ],
      "execution_count": 0,
      "outputs": []
    },
    {
      "cell_type": "code",
      "metadata": {
        "id": "DMl_RTozsgNC",
        "colab_type": "code",
        "outputId": "988b465a-feb6-4715-df2f-ac3086c13f8f",
        "colab": {
          "base_uri": "https://localhost:8080/",
          "height": 294
        }
      },
      "source": [
        "# compute predicted probabilities\n",
        "y_pred_prob = rf.predict_proba(X_test)[:,1]\n",
        "\n",
        "# generate rox curve w/ thresholds\n",
        "fpr, tpr, thresholds = roc_curve(y_test, y_pred_prob)\n",
        "\n",
        "# plot roc\n",
        "plt.plot([0, 1], [0, 1], 'k--')\n",
        "plt.plot(fpr, tpr)\n",
        "plt.xlabel('false positive rate')\n",
        "plt.ylabel('true positive rate')\n",
        "plt.title('roc curve')\n",
        "plt.show()"
      ],
      "execution_count": 108,
      "outputs": [
        {
          "output_type": "display_data",
          "data": {
            "image/png": "[encoded data removed]",
            "text/plain": [
              "<Figure size 432x288 with 1 Axes>"
            ]
          },
          "metadata": {
            "tags": []
          }
        }
      ]
    },
    {
      "cell_type": "code",
      "metadata": {
        "id": "jgPKH7h236fO",
        "colab_type": "code",
        "outputId": "2a3d5a74-370a-47b6-b16a-8097891f03cb",
        "colab": {
          "base_uri": "https://localhost:8080/",
          "height": 264
        }
      },
      "source": [
        "feature_imp_rf = pd.DataFrame(rf.feature_importances_,\n",
        "                                      index = X_train.columns,\n",
        "                                      columns=['importance']).sort_values('importance',\n",
        "                                                                          ascending=True)\n",
        "\n",
        "feature_imp_rf.plot(kind='barh')\n",
        "plt.show()\n",
        "\n",
        "# remove t_delta and see what happens"
      ],
      "execution_count": 109,
      "outputs": [
        {
          "output_type": "display_data",
          "data": {
            "image/png": "[encoded data removed]",
            "text/plain": [
              "<Figure size 432x288 with 1 Axes>"
            ]
          },
          "metadata": {
            "tags": []
          }
        }
      ]
    },
    {
      "cell_type": "code",
      "metadata": {
        "id": "cMmxlIGV5c0e",
        "colab_type": "code",
        "colab": {}
      },
      "source": [
        "X = ult.drop(['t_delta','active'],axis=1)\n",
        "y = ult['active']"
      ],
      "execution_count": 0,
      "outputs": []
    },
    {
      "cell_type": "code",
      "metadata": {
        "id": "oHHCZn-K7PRH",
        "colab_type": "code",
        "outputId": "438005db-3eac-42a6-d14b-48a0e541b10d",
        "colab": {
          "base_uri": "https://localhost:8080/",
          "height": 87
        }
      },
      "source": [
        "X.columns"
      ],
      "execution_count": 111,
      "outputs": [
        {
          "output_type": "execute_result",
          "data": {
            "text/plain": [
              "Index(['trips_in_first_30_days', 'surge_pct', 'weekday_pct', 'avg_dist',\n",
              "       'city_labs', 'binary_ultimate', 'phone_labs',\n",
              "       'avg_rating_of_driver_labs'],\n",
              "      dtype='object')"
            ]
          },
          "metadata": {
            "tags": []
          },
          "execution_count": 111
        }
      ]
    },
    {
      "cell_type": "code",
      "metadata": {
        "id": "DiY8It2_5UA7",
        "colab_type": "code",
        "colab": {}
      },
      "source": [
        "X_train,X_test,y_train,y_test = train_test_split(X,y,test_size=0.3,random_state=17)"
      ],
      "execution_count": 0,
      "outputs": []
    },
    {
      "cell_type": "code",
      "metadata": {
        "id": "BYffALYH5T-S",
        "colab_type": "code",
        "colab": {}
      },
      "source": [
        "# instantiate model to run 50 estimators on all processors\n",
        "rf = RandomForestClassifier(n_estimators=40, random_state=14)\n",
        "\n",
        "#Cross-validate on training se=-809\\p\n",
        "cv_rf = cross_val_score(rf, X_train, y_train, cv=5,scoring='accuracy')\n",
        "\n",
        "# train model\n",
        "rf.fit(X_train, y_train)\n",
        "\n",
        "# predict on test data\n",
        "y_pred = rf.predict(X_test)"
      ],
      "execution_count": 0,
      "outputs": []
    },
    {
      "cell_type": "code",
      "metadata": {
        "id": "1MUZ0hCt5T8n",
        "colab_type": "code",
        "outputId": "4216ab6c-0d23-460c-e770-4a8730d8f399",
        "colab": {
          "base_uri": "https://localhost:8080/",
          "height": 52
        }
      },
      "source": [
        "print(\"train accuracy:\",format(np.mean(cv_rf),'.5f'))\n",
        "print(\"test accuracy:\",format(metrics.accuracy_score(y_test, y_pred),'.5f'))"
      ],
      "execution_count": 114,
      "outputs": [
        {
          "output_type": "stream",
          "text": [
            "train accuracy: 0.71497\n",
            "test accuracy: 0.71153\n"
          ],
          "name": "stdout"
        }
      ]
    },
    {
      "cell_type": "code",
      "metadata": {
        "id": "46PfLirC5T2f",
        "colab_type": "code",
        "outputId": "ed2d9c88-6f65-4ab2-e583-6b0d2354c1f2",
        "colab": {
          "base_uri": "https://localhost:8080/",
          "height": 294
        }
      },
      "source": [
        "# Compute predicted probabilities: y_pred_prob\n",
        "y_pred_prob = rf.predict_proba(X_test)[:,1]\n",
        "\n",
        "# Generate ROC curve values: fpr, tpr, thresholds\n",
        "fpr, tpr, thresholds = roc_curve(y_test, y_pred_prob)\n",
        "\n",
        "# Plot ROC curve\n",
        "plt.plot([0, 1], [0, 1], 'k--')\n",
        "plt.plot(fpr, tpr)\n",
        "plt.xlabel('false positive rate')\n",
        "plt.ylabel('true positive rate')\n",
        "plt.title('roc curve')\n",
        "plt.show()"
      ],
      "execution_count": 115,
      "outputs": [
        {
          "output_type": "display_data",
          "data": {
            "image/png": "[encoded data removed]",
            "text/plain": [
              "<Figure size 432x288 with 1 Axes>"
            ]
          },
          "metadata": {
            "tags": []
          }
        }
      ]
    },
    {
      "cell_type": "code",
      "metadata": {
        "id": "JSE0-gHj5Tyv",
        "colab_type": "code",
        "outputId": "5bf5603f-209a-4a54-e4f1-92c4903dea7f",
        "colab": {
          "base_uri": "https://localhost:8080/",
          "height": 264
        }
      },
      "source": [
        "feature_imp_rf = pd.DataFrame(rf.feature_importances_,\n",
        "                                      index = X_train.columns,\n",
        "                                      columns=['importance']).sort_values('importance',\n",
        "                                                                          ascending=True)\n",
        "\n",
        "feature_imp_rf.plot(kind='barh')\n",
        "plt.show()"
      ],
      "execution_count": 116,
      "outputs": [
        {
          "output_type": "display_data",
          "data": {
            "image/png": "[encoded data removed]",
            "text/plain": [
              "<Figure size 432x288 with 1 Axes>"
            ]
          },
          "metadata": {
            "tags": []
          }
        }
      ]
    },
    {
      "cell_type": "code",
      "metadata": {
        "id": "-0wPC005A8Xn",
        "colab_type": "code",
        "outputId": "ba381463-fdaa-4e60-95c8-b27183d3d63a",
        "colab": {
          "base_uri": "https://localhost:8080/",
          "height": 320
        }
      },
      "source": [
        "_ = ult.groupby('active')['avg_dist'].mean().plot(kind='bar')\n",
        "_ = plt.title('avg distance')\n",
        "_ = plt.xticks([0,1],['inactive','active'],rotation=45)"
      ],
      "execution_count": 117,
      "outputs": [
        {
          "output_type": "display_data",
          "data": {
            "image/png": "[encoded data removed]",
            "text/plain": [
              "<Figure size 432x288 with 1 Axes>"
            ]
          },
          "metadata": {
            "tags": []
          }
        }
      ]
    },
    {
      "cell_type": "code",
      "metadata": {
        "id": "UOr0EtO3A8NP",
        "colab_type": "code",
        "outputId": "6b297cee-1932-44fb-f896-54b90d77ca3a",
        "colab": {
          "base_uri": "https://localhost:8080/",
          "height": 320
        }
      },
      "source": [
        "_ = ult.groupby('active')['trips_in_first_30_days'].mean().plot(kind='bar')\n",
        "_ = plt.title('trips in first 30 days')\n",
        "_ = plt.xticks([0,1],['inactive','active'],rotation=45)"
      ],
      "execution_count": 118,
      "outputs": [
        {
          "output_type": "display_data",
          "data": {
            "image/png": "[encoded data removed]",
            "text/plain": [
              "<Figure size 432x288 with 1 Axes>"
            ]
          },
          "metadata": {
            "tags": []
          }
        }
      ]
    },
    {
      "cell_type": "markdown",
      "metadata": {
        "id": "HfPVYP15s2Pl",
        "colab_type": "text"
      },
      "source": [
        "#PART 3"
      ]
    },
    {
      "cell_type": "code",
      "metadata": {
        "id": "28lk7-GVCOcQ",
        "colab_type": "code",
        "colab": {
          "base_uri": "https://localhost:8080/",
          "height": 34
        },
        "outputId": "f60e89bf-ff38-4991-a5fb-31c302eee97e"
      },
      "source": [
        "'''\n",
        "active users take more trips in the first 30 days\n",
        "active users take short trips \n",
        "conversely inactive users take long trips less often \n",
        "'''"
      ],
      "execution_count": 119,
      "outputs": [
        {
          "output_type": "execute_result",
          "data": {
            "text/plain": [
              "'\\nactive users take more trips in the first 30 days\\nactive users take short trips \\nconversely inactive users take long trips less often \\n'"
            ]
          },
          "metadata": {
            "tags": []
          },
          "execution_count": 119
        }
      ]
    },
    {
      "cell_type": "markdown",
      "metadata": {
        "id": "FoxzyFD_sz-K",
        "colab_type": "text"
      },
      "source": [
        "#PART 2"
      ]
    },
    {
      "cell_type": "code",
      "metadata": {
        "id": "hIlwKeF3rMcz",
        "colab_type": "code",
        "outputId": "98dd0231-8aa0-4cc3-a9f4-5596b0190838",
        "colab": {
          "base_uri": "https://localhost:8080/",
          "height": 54
        }
      },
      "source": [
        "'''\n",
        "The neighboring cities of Gotham and Metropolis have complementary circadian rhythms: \n",
        "on weekdays, Ultimate Gotham is most active at night, and Ultimate Metropolis is most active\n",
        "during the day. On weekends, there is reasonable activity in both cities. However, a toll \n",
        "bridge, with a two way toll, between the two cities causes driver partners to tend to be \n",
        "exclusive to each city. The Ultimate managers of city operations for the two cities have\n",
        "proposed an experiment to encourage driver partners to be available in both cities, by\n",
        "reimbursing all toll costs.\n",
        "\n",
        "\n",
        "1. What would you choose as the key measure of success of this experiment in encouraging driver partners \n",
        "to serve both cities, and why would you choose this metric?\n",
        "the key measure of success would be that the hypothesis of the experiment was correct. driver's \n",
        "preferences between cities are indistinguishable. so the metric would have to be targeted at \n",
        "driving frequency between cities and reimbursments costs. \n",
        "\n",
        "2. Describe a practical experiment you would design to compare the effectiveness of the proposed change in \n",
        "relation to the key measure of success. Please provide details on:\n",
        "a. how you will implement the experiment?\n",
        "two immediate methods come to mind. provide funds to the test group apriori or aposteriori. \n",
        "let the control group continue to pay their toll fees. \n",
        "b. what statistical test(s) you will conduct to verify the significance of the observation?\n",
        "t-tests \n",
        "c. how you would interpret the results and provide recommendations to the city operations \n",
        "team along with any caveats?\n",
        "the null hypothesis would be that the test control group are indistinguishable. do a two\n",
        "sample t test with a .95 ci. if p <= .05, reject the null. drivers will have to be reimbursed.\n",
        "\n",
        "'''\n"
      ],
      "execution_count": 120,
      "outputs": [
        {
          "output_type": "execute_result",
          "data": {
            "text/plain": [
              "\"\\nThe neighboring cities of Gotham and Metropolis have complementary circadian rhythms: \\non weekdays, Ultimate Gotham is most active at night, and Ultimate Metropolis is most active\\nduring the day. On weekends, there is reasonable activity in both cities. However, a toll \\nbridge, with a two way toll, between the two cities causes driver partners to tend to be \\nexclusive to each city. The Ultimate managers of city operations for the two cities have\\nproposed an experiment to encourage driver partners to be available in both cities, by\\nreimbursing all toll costs.\\n\\n\\n1. What would you choose as the key measure of success of this experiment in encouraging driver partners \\nto serve both cities, and why would you choose this metric?\\nthe key measure of success would be that the hypothesis of the experiment was correct. driver's \\npreferences between cities are indistinguishable. so the metric would have to be targeted at \\ndriving frequency between cities and reimbursments costs. \\n\\n2. Describe a practical experiment you would design to compare the effectiveness of the proposed change in \\nrelation to the key measure of success. Please provide details on:\\na. how you will implement the experiment?\\ntwo immediate methods come to mind. provide funds to the test group apriori or aposteriori. \\nlet the control group continue to pay their toll fees. \\nb. what statistical test(s) you will conduct to verify the significance of the observation?\\nt-tests \\nc. how you would interpret the results and provide recommendations to the city operations \\nteam along with any caveats?\\nthe null hypothesis would be that the test control group are indistinguishable. do a two\\nsample t test with a .95 ci. if p <= .05, reject the null. drivers will have to be reimbursed.\\n\\n\""
            ]
          },
          "metadata": {
            "tags": []
          },
          "execution_count": 120
        }
      ]
    }
  ]
}