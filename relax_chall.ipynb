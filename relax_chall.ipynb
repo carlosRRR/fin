{
  "nbformat": 4,
  "nbformat_minor": 0,
  "metadata": {
    "colab": {
      "name": "relax_chall.ipynb",
      "provenance": [],
      "collapsed_sections": []
    },
    "kernelspec": {
      "name": "python3",
      "display_name": "Python 3"
    }
  },
  "cells": [
    {
      "cell_type": "code",
      "metadata": {
        "id": "oIdKTqWnXEY4",
        "colab_type": "code",
        "colab": {}
      },
      "source": [
        "import pandas as pd\n",
        "import numpy as np\n",
        "import matplotlib.pyplot as plt\n",
        "import seaborn as sns"
      ],
      "execution_count": 0,
      "outputs": []
    },
    {
      "cell_type": "code",
      "metadata": {
        "id": "EBCDM9peXEXT",
        "colab_type": "code",
        "outputId": "01aba914-9d48-4785-8a08-041d8409540d",
        "colab": {
          "base_uri": "https://localhost:8080/",
          "height": 54
        }
      },
      "source": [
        "from google.colab import drive\n",
        "drive.mount('/content/drive')"
      ],
      "execution_count": 0,
      "outputs": [
        {
          "output_type": "stream",
          "text": [
            "Drive already mounted at /content/drive; to attempt to forcibly remount, call drive.mount(\"/content/drive\", force_remount=True).\n"
          ],
          "name": "stdout"
        }
      ]
    },
    {
      "cell_type": "code",
      "metadata": {
        "id": "zqFRa5TaZikS",
        "colab_type": "code",
        "outputId": "530f1abe-b8af-4fe5-eec2-a949d7ea53a5",
        "colab": {
          "base_uri": "https://localhost:8080/",
          "height": 34
        }
      },
      "source": [
        "cd /content/drive/My Drive/Colab Notebooks"
      ],
      "execution_count": 0,
      "outputs": [
        {
          "output_type": "stream",
          "text": [
            "/content/drive/My Drive/Colab Notebooks\n"
          ],
          "name": "stdout"
        }
      ]
    },
    {
      "cell_type": "code",
      "metadata": {
        "id": "91gDODHVXEWD",
        "colab_type": "code",
        "colab": {}
      },
      "source": [
        "urs = pd.read_csv('takehome_users.csv',encoding='latin-1')\n",
        "eng = pd.read_csv('takehome_user_engagement.csv',encoding='latin-1')"
      ],
      "execution_count": 0,
      "outputs": []
    },
    {
      "cell_type": "code",
      "metadata": {
        "id": "KDXzfYsQXETS",
        "colab_type": "code",
        "outputId": "75fad977-af37-4d69-ac2c-45376b869e5d",
        "colab": {
          "base_uri": "https://localhost:8080/",
          "height": 301
        }
      },
      "source": [
        "# name, email not quantifiable, drop them\n",
        "urs = urs.drop(['name','email'],axis=1)\n",
        "urs.head()"
      ],
      "execution_count": 0,
      "outputs": [
        {
          "output_type": "execute_result",
          "data": {
            "text/html": [
              "<div>\n",
              "<style scoped>\n",
              "    .dataframe tbody tr th:only-of-type {\n",
              "        vertical-align: middle;\n",
              "    }\n",
              "\n",
              "    .dataframe tbody tr th {\n",
              "        vertical-align: top;\n",
              "    }\n",
              "\n",
              "    .dataframe thead th {\n",
              "        text-align: right;\n",
              "    }\n",
              "</style>\n",
              "<table border=\"1\" class=\"dataframe\">\n",
              "  <thead>\n",
              "    <tr style=\"text-align: right;\">\n",
              "      <th></th>\n",
              "      <th>object_id</th>\n",
              "      <th>creation_time</th>\n",
              "      <th>creation_source</th>\n",
              "      <th>last_session_creation_time</th>\n",
              "      <th>opted_in_to_mailing_list</th>\n",
              "      <th>enabled_for_marketing_drip</th>\n",
              "      <th>org_id</th>\n",
              "      <th>invited_by_user_id</th>\n",
              "    </tr>\n",
              "  </thead>\n",
              "  <tbody>\n",
              "    <tr>\n",
              "      <th>0</th>\n",
              "      <td>1</td>\n",
              "      <td>2014-04-22 03:53:30</td>\n",
              "      <td>GUEST_INVITE</td>\n",
              "      <td>1.398139e+09</td>\n",
              "      <td>1</td>\n",
              "      <td>0</td>\n",
              "      <td>11</td>\n",
              "      <td>10803.0</td>\n",
              "    </tr>\n",
              "    <tr>\n",
              "      <th>1</th>\n",
              "      <td>2</td>\n",
              "      <td>2013-11-15 03:45:04</td>\n",
              "      <td>ORG_INVITE</td>\n",
              "      <td>1.396238e+09</td>\n",
              "      <td>0</td>\n",
              "      <td>0</td>\n",
              "      <td>1</td>\n",
              "      <td>316.0</td>\n",
              "    </tr>\n",
              "    <tr>\n",
              "      <th>2</th>\n",
              "      <td>3</td>\n",
              "      <td>2013-03-19 23:14:52</td>\n",
              "      <td>ORG_INVITE</td>\n",
              "      <td>1.363735e+09</td>\n",
              "      <td>0</td>\n",
              "      <td>0</td>\n",
              "      <td>94</td>\n",
              "      <td>1525.0</td>\n",
              "    </tr>\n",
              "    <tr>\n",
              "      <th>3</th>\n",
              "      <td>4</td>\n",
              "      <td>2013-05-21 08:09:28</td>\n",
              "      <td>GUEST_INVITE</td>\n",
              "      <td>1.369210e+09</td>\n",
              "      <td>0</td>\n",
              "      <td>0</td>\n",
              "      <td>1</td>\n",
              "      <td>5151.0</td>\n",
              "    </tr>\n",
              "    <tr>\n",
              "      <th>4</th>\n",
              "      <td>5</td>\n",
              "      <td>2013-01-17 10:14:20</td>\n",
              "      <td>GUEST_INVITE</td>\n",
              "      <td>1.358850e+09</td>\n",
              "      <td>0</td>\n",
              "      <td>0</td>\n",
              "      <td>193</td>\n",
              "      <td>5240.0</td>\n",
              "    </tr>\n",
              "  </tbody>\n",
              "</table>\n",
              "</div>"
            ],
            "text/plain": [
              "   object_id        creation_time  ... org_id  invited_by_user_id\n",
              "0          1  2014-04-22 03:53:30  ...     11             10803.0\n",
              "1          2  2013-11-15 03:45:04  ...      1               316.0\n",
              "2          3  2013-03-19 23:14:52  ...     94              1525.0\n",
              "3          4  2013-05-21 08:09:28  ...      1              5151.0\n",
              "4          5  2013-01-17 10:14:20  ...    193              5240.0\n",
              "\n",
              "[5 rows x 8 columns]"
            ]
          },
          "metadata": {
            "tags": []
          },
          "execution_count": 121
        }
      ]
    },
    {
      "cell_type": "code",
      "metadata": {
        "id": "pnMOdR3Lmjmt",
        "colab_type": "code",
        "colab": {}
      },
      "source": [
        "# convert strings to timestamps \n",
        "urs.creation_time = pd.to_datetime(urs.creation_time)\n",
        "urs.last_session_creation_time = pd.to_datetime(urs.last_session_creation_time, unit='s')"
      ],
      "execution_count": 0,
      "outputs": []
    },
    {
      "cell_type": "code",
      "metadata": {
        "id": "gEqf0bXC9CtD",
        "colab_type": "code",
        "outputId": "a5e764d3-272c-41fa-ca44-c2f4d22f83e4",
        "colab": {
          "base_uri": "https://localhost:8080/",
          "height": 212
        }
      },
      "source": [
        "urs.last_session_creation_time[:10]"
      ],
      "execution_count": 0,
      "outputs": [
        {
          "output_type": "execute_result",
          "data": {
            "text/plain": [
              "0   2014-04-22 03:53:30\n",
              "1   2014-03-31 03:45:04\n",
              "2   2013-03-19 23:14:52\n",
              "3   2013-05-22 08:09:28\n",
              "4   2013-01-22 10:14:20\n",
              "5   2013-12-19 03:37:06\n",
              "6   2012-12-20 13:24:32\n",
              "7                   NaT\n",
              "8                   NaT\n",
              "9   2014-06-03 22:08:03\n",
              "Name: last_session_creation_time, dtype: datetime64[ns]"
            ]
          },
          "metadata": {
            "tags": []
          },
          "execution_count": 123
        }
      ]
    },
    {
      "cell_type": "code",
      "metadata": {
        "id": "LvNIV-PYrZeR",
        "colab_type": "code",
        "outputId": "dfec346c-965a-4228-a9df-1a2e7ff519b8",
        "colab": {
          "base_uri": "https://localhost:8080/",
          "height": 34
        }
      },
      "source": [
        "type(urs.creation_time[1])"
      ],
      "execution_count": 0,
      "outputs": [
        {
          "output_type": "execute_result",
          "data": {
            "text/plain": [
              "pandas._libs.tslibs.timestamps.Timestamp"
            ]
          },
          "metadata": {
            "tags": []
          },
          "execution_count": 124
        }
      ]
    },
    {
      "cell_type": "code",
      "metadata": {
        "id": "J-PdCA9qXEMv",
        "colab_type": "code",
        "outputId": "4005f32b-fcef-4276-c6ea-cd6eeacdd855",
        "colab": {
          "base_uri": "https://localhost:8080/",
          "height": 197
        }
      },
      "source": [
        "eng.head()"
      ],
      "execution_count": 0,
      "outputs": [
        {
          "output_type": "execute_result",
          "data": {
            "text/html": [
              "<div>\n",
              "<style scoped>\n",
              "    .dataframe tbody tr th:only-of-type {\n",
              "        vertical-align: middle;\n",
              "    }\n",
              "\n",
              "    .dataframe tbody tr th {\n",
              "        vertical-align: top;\n",
              "    }\n",
              "\n",
              "    .dataframe thead th {\n",
              "        text-align: right;\n",
              "    }\n",
              "</style>\n",
              "<table border=\"1\" class=\"dataframe\">\n",
              "  <thead>\n",
              "    <tr style=\"text-align: right;\">\n",
              "      <th></th>\n",
              "      <th>time_stamp</th>\n",
              "      <th>user_id</th>\n",
              "      <th>visited</th>\n",
              "    </tr>\n",
              "  </thead>\n",
              "  <tbody>\n",
              "    <tr>\n",
              "      <th>0</th>\n",
              "      <td>2014-04-22 03:53:30</td>\n",
              "      <td>1</td>\n",
              "      <td>1</td>\n",
              "    </tr>\n",
              "    <tr>\n",
              "      <th>1</th>\n",
              "      <td>2013-11-15 03:45:04</td>\n",
              "      <td>2</td>\n",
              "      <td>1</td>\n",
              "    </tr>\n",
              "    <tr>\n",
              "      <th>2</th>\n",
              "      <td>2013-11-29 03:45:04</td>\n",
              "      <td>2</td>\n",
              "      <td>1</td>\n",
              "    </tr>\n",
              "    <tr>\n",
              "      <th>3</th>\n",
              "      <td>2013-12-09 03:45:04</td>\n",
              "      <td>2</td>\n",
              "      <td>1</td>\n",
              "    </tr>\n",
              "    <tr>\n",
              "      <th>4</th>\n",
              "      <td>2013-12-25 03:45:04</td>\n",
              "      <td>2</td>\n",
              "      <td>1</td>\n",
              "    </tr>\n",
              "  </tbody>\n",
              "</table>\n",
              "</div>"
            ],
            "text/plain": [
              "            time_stamp  user_id  visited\n",
              "0  2014-04-22 03:53:30        1        1\n",
              "1  2013-11-15 03:45:04        2        1\n",
              "2  2013-11-29 03:45:04        2        1\n",
              "3  2013-12-09 03:45:04        2        1\n",
              "4  2013-12-25 03:45:04        2        1"
            ]
          },
          "metadata": {
            "tags": []
          },
          "execution_count": 125
        }
      ]
    },
    {
      "cell_type": "code",
      "metadata": {
        "id": "33paWf4lrcGR",
        "colab_type": "code",
        "colab": {}
      },
      "source": [
        "eng.time_stamp = pd.to_datetime(eng.time_stamp)"
      ],
      "execution_count": 0,
      "outputs": []
    },
    {
      "cell_type": "code",
      "metadata": {
        "id": "FQga2ZYKXEJ0",
        "colab_type": "code",
        "outputId": "77ac4235-b7e0-43b8-99b7-e2353f909d5c",
        "colab": {
          "base_uri": "https://localhost:8080/",
          "height": 247
        }
      },
      "source": [
        "urs.info()\n",
        "# missing values: last_session_creation_time, invited_by_user_id"
      ],
      "execution_count": 0,
      "outputs": [
        {
          "output_type": "stream",
          "text": [
            "<class 'pandas.core.frame.DataFrame'>\n",
            "RangeIndex: 12000 entries, 0 to 11999\n",
            "Data columns (total 8 columns):\n",
            "object_id                     12000 non-null int64\n",
            "creation_time                 12000 non-null datetime64[ns]\n",
            "creation_source               12000 non-null object\n",
            "last_session_creation_time    8823 non-null datetime64[ns]\n",
            "opted_in_to_mailing_list      12000 non-null int64\n",
            "enabled_for_marketing_drip    12000 non-null int64\n",
            "org_id                        12000 non-null int64\n",
            "invited_by_user_id            6417 non-null float64\n",
            "dtypes: datetime64[ns](2), float64(1), int64(4), object(1)\n",
            "memory usage: 750.1+ KB\n"
          ],
          "name": "stdout"
        }
      ]
    },
    {
      "cell_type": "code",
      "metadata": {
        "id": "PvsaipHRXD-f",
        "colab_type": "code",
        "outputId": "6c73b2fb-30f1-48dc-a0b0-d1ce36182f39",
        "colab": {
          "base_uri": "https://localhost:8080/",
          "height": 158
        }
      },
      "source": [
        "eng.info()"
      ],
      "execution_count": 0,
      "outputs": [
        {
          "output_type": "stream",
          "text": [
            "<class 'pandas.core.frame.DataFrame'>\n",
            "RangeIndex: 207917 entries, 0 to 207916\n",
            "Data columns (total 3 columns):\n",
            "time_stamp    207917 non-null datetime64[ns]\n",
            "user_id       207917 non-null int64\n",
            "visited       207917 non-null int64\n",
            "dtypes: datetime64[ns](1), int64(2)\n",
            "memory usage: 4.8 MB\n"
          ],
          "name": "stdout"
        }
      ]
    },
    {
      "cell_type": "code",
      "metadata": {
        "id": "B1fdacp3VEHb",
        "colab_type": "code",
        "colab": {}
      },
      "source": [
        "# extract week and year\n",
        "eng['week_id'] = eng['time_stamp'].dt.strftime('%U-%Y')"
      ],
      "execution_count": 0,
      "outputs": []
    },
    {
      "cell_type": "code",
      "metadata": {
        "id": "HqHLI4kIswJF",
        "colab_type": "code",
        "outputId": "c4355e85-3e53-49ac-ae2b-a5fc953d8a0d",
        "colab": {
          "base_uri": "https://localhost:8080/",
          "height": 197
        }
      },
      "source": [
        "eng.head()"
      ],
      "execution_count": 0,
      "outputs": [
        {
          "output_type": "execute_result",
          "data": {
            "text/html": [
              "<div>\n",
              "<style scoped>\n",
              "    .dataframe tbody tr th:only-of-type {\n",
              "        vertical-align: middle;\n",
              "    }\n",
              "\n",
              "    .dataframe tbody tr th {\n",
              "        vertical-align: top;\n",
              "    }\n",
              "\n",
              "    .dataframe thead th {\n",
              "        text-align: right;\n",
              "    }\n",
              "</style>\n",
              "<table border=\"1\" class=\"dataframe\">\n",
              "  <thead>\n",
              "    <tr style=\"text-align: right;\">\n",
              "      <th></th>\n",
              "      <th>time_stamp</th>\n",
              "      <th>user_id</th>\n",
              "      <th>visited</th>\n",
              "      <th>week_id</th>\n",
              "    </tr>\n",
              "  </thead>\n",
              "  <tbody>\n",
              "    <tr>\n",
              "      <th>0</th>\n",
              "      <td>2014-04-22 03:53:30</td>\n",
              "      <td>1</td>\n",
              "      <td>1</td>\n",
              "      <td>16-2014</td>\n",
              "    </tr>\n",
              "    <tr>\n",
              "      <th>1</th>\n",
              "      <td>2013-11-15 03:45:04</td>\n",
              "      <td>2</td>\n",
              "      <td>1</td>\n",
              "      <td>45-2013</td>\n",
              "    </tr>\n",
              "    <tr>\n",
              "      <th>2</th>\n",
              "      <td>2013-11-29 03:45:04</td>\n",
              "      <td>2</td>\n",
              "      <td>1</td>\n",
              "      <td>47-2013</td>\n",
              "    </tr>\n",
              "    <tr>\n",
              "      <th>3</th>\n",
              "      <td>2013-12-09 03:45:04</td>\n",
              "      <td>2</td>\n",
              "      <td>1</td>\n",
              "      <td>49-2013</td>\n",
              "    </tr>\n",
              "    <tr>\n",
              "      <th>4</th>\n",
              "      <td>2013-12-25 03:45:04</td>\n",
              "      <td>2</td>\n",
              "      <td>1</td>\n",
              "      <td>51-2013</td>\n",
              "    </tr>\n",
              "  </tbody>\n",
              "</table>\n",
              "</div>"
            ],
            "text/plain": [
              "           time_stamp  user_id  visited  week_id\n",
              "0 2014-04-22 03:53:30        1        1  16-2014\n",
              "1 2013-11-15 03:45:04        2        1  45-2013\n",
              "2 2013-11-29 03:45:04        2        1  47-2013\n",
              "3 2013-12-09 03:45:04        2        1  49-2013\n",
              "4 2013-12-25 03:45:04        2        1  51-2013"
            ]
          },
          "metadata": {
            "tags": []
          },
          "execution_count": 130
        }
      ]
    },
    {
      "cell_type": "code",
      "metadata": {
        "id": "_pm3qK9vtQJ_",
        "colab_type": "code",
        "outputId": "f639fd0a-0f18-44d0-f682-74b08438437c",
        "colab": {
          "base_uri": "https://localhost:8080/",
          "height": 197
        }
      },
      "source": [
        "# number of visits per week, grouped by user_id and week_id\n",
        "cts = eng.groupby(['user_id', 'week_id']).size().reset_index().rename(columns={0:'count'})\n",
        "cts.head()"
      ],
      "execution_count": 0,
      "outputs": [
        {
          "output_type": "execute_result",
          "data": {
            "text/html": [
              "<div>\n",
              "<style scoped>\n",
              "    .dataframe tbody tr th:only-of-type {\n",
              "        vertical-align: middle;\n",
              "    }\n",
              "\n",
              "    .dataframe tbody tr th {\n",
              "        vertical-align: top;\n",
              "    }\n",
              "\n",
              "    .dataframe thead th {\n",
              "        text-align: right;\n",
              "    }\n",
              "</style>\n",
              "<table border=\"1\" class=\"dataframe\">\n",
              "  <thead>\n",
              "    <tr style=\"text-align: right;\">\n",
              "      <th></th>\n",
              "      <th>user_id</th>\n",
              "      <th>week_id</th>\n",
              "      <th>count</th>\n",
              "    </tr>\n",
              "  </thead>\n",
              "  <tbody>\n",
              "    <tr>\n",
              "      <th>0</th>\n",
              "      <td>1</td>\n",
              "      <td>16-2014</td>\n",
              "      <td>1</td>\n",
              "    </tr>\n",
              "    <tr>\n",
              "      <th>1</th>\n",
              "      <td>2</td>\n",
              "      <td>01-2014</td>\n",
              "      <td>1</td>\n",
              "    </tr>\n",
              "    <tr>\n",
              "      <th>2</th>\n",
              "      <td>2</td>\n",
              "      <td>05-2014</td>\n",
              "      <td>2</td>\n",
              "    </tr>\n",
              "    <tr>\n",
              "      <th>3</th>\n",
              "      <td>2</td>\n",
              "      <td>06-2014</td>\n",
              "      <td>2</td>\n",
              "    </tr>\n",
              "    <tr>\n",
              "      <th>4</th>\n",
              "      <td>2</td>\n",
              "      <td>07-2014</td>\n",
              "      <td>1</td>\n",
              "    </tr>\n",
              "  </tbody>\n",
              "</table>\n",
              "</div>"
            ],
            "text/plain": [
              "   user_id  week_id  count\n",
              "0        1  16-2014      1\n",
              "1        2  01-2014      1\n",
              "2        2  05-2014      2\n",
              "3        2  06-2014      2\n",
              "4        2  07-2014      1"
            ]
          },
          "metadata": {
            "tags": []
          },
          "execution_count": 131
        }
      ]
    },
    {
      "cell_type": "code",
      "metadata": {
        "id": "huw7YiC4wA5L",
        "colab_type": "code",
        "outputId": "7751d32d-20c3-4092-cece-d2c121ae0adf",
        "colab": {
          "base_uri": "https://localhost:8080/",
          "height": 197
        }
      },
      "source": [
        "# convert boolean to integer series\n",
        "cts['adopted'] = pd.Series(cts['count'] >= 3).astype(int)\n",
        "cts.head()"
      ],
      "execution_count": 0,
      "outputs": [
        {
          "output_type": "execute_result",
          "data": {
            "text/html": [
              "<div>\n",
              "<style scoped>\n",
              "    .dataframe tbody tr th:only-of-type {\n",
              "        vertical-align: middle;\n",
              "    }\n",
              "\n",
              "    .dataframe tbody tr th {\n",
              "        vertical-align: top;\n",
              "    }\n",
              "\n",
              "    .dataframe thead th {\n",
              "        text-align: right;\n",
              "    }\n",
              "</style>\n",
              "<table border=\"1\" class=\"dataframe\">\n",
              "  <thead>\n",
              "    <tr style=\"text-align: right;\">\n",
              "      <th></th>\n",
              "      <th>user_id</th>\n",
              "      <th>week_id</th>\n",
              "      <th>count</th>\n",
              "      <th>adopted</th>\n",
              "    </tr>\n",
              "  </thead>\n",
              "  <tbody>\n",
              "    <tr>\n",
              "      <th>0</th>\n",
              "      <td>1</td>\n",
              "      <td>16-2014</td>\n",
              "      <td>1</td>\n",
              "      <td>0</td>\n",
              "    </tr>\n",
              "    <tr>\n",
              "      <th>1</th>\n",
              "      <td>2</td>\n",
              "      <td>01-2014</td>\n",
              "      <td>1</td>\n",
              "      <td>0</td>\n",
              "    </tr>\n",
              "    <tr>\n",
              "      <th>2</th>\n",
              "      <td>2</td>\n",
              "      <td>05-2014</td>\n",
              "      <td>2</td>\n",
              "      <td>0</td>\n",
              "    </tr>\n",
              "    <tr>\n",
              "      <th>3</th>\n",
              "      <td>2</td>\n",
              "      <td>06-2014</td>\n",
              "      <td>2</td>\n",
              "      <td>0</td>\n",
              "    </tr>\n",
              "    <tr>\n",
              "      <th>4</th>\n",
              "      <td>2</td>\n",
              "      <td>07-2014</td>\n",
              "      <td>1</td>\n",
              "      <td>0</td>\n",
              "    </tr>\n",
              "  </tbody>\n",
              "</table>\n",
              "</div>"
            ],
            "text/plain": [
              "   user_id  week_id  count  adopted\n",
              "0        1  16-2014      1        0\n",
              "1        2  01-2014      1        0\n",
              "2        2  05-2014      2        0\n",
              "3        2  06-2014      2        0\n",
              "4        2  07-2014      1        0"
            ]
          },
          "metadata": {
            "tags": []
          },
          "execution_count": 132
        }
      ]
    },
    {
      "cell_type": "code",
      "metadata": {
        "id": "eVwDTVPpwuHD",
        "colab_type": "code",
        "outputId": "d946cf5c-60ef-488a-b7c6-1a94e062d357",
        "colab": {
          "base_uri": "https://localhost:8080/",
          "height": 301
        }
      },
      "source": [
        "urs.head()"
      ],
      "execution_count": 0,
      "outputs": [
        {
          "output_type": "execute_result",
          "data": {
            "text/html": [
              "<div>\n",
              "<style scoped>\n",
              "    .dataframe tbody tr th:only-of-type {\n",
              "        vertical-align: middle;\n",
              "    }\n",
              "\n",
              "    .dataframe tbody tr th {\n",
              "        vertical-align: top;\n",
              "    }\n",
              "\n",
              "    .dataframe thead th {\n",
              "        text-align: right;\n",
              "    }\n",
              "</style>\n",
              "<table border=\"1\" class=\"dataframe\">\n",
              "  <thead>\n",
              "    <tr style=\"text-align: right;\">\n",
              "      <th></th>\n",
              "      <th>object_id</th>\n",
              "      <th>creation_time</th>\n",
              "      <th>creation_source</th>\n",
              "      <th>last_session_creation_time</th>\n",
              "      <th>opted_in_to_mailing_list</th>\n",
              "      <th>enabled_for_marketing_drip</th>\n",
              "      <th>org_id</th>\n",
              "      <th>invited_by_user_id</th>\n",
              "    </tr>\n",
              "  </thead>\n",
              "  <tbody>\n",
              "    <tr>\n",
              "      <th>0</th>\n",
              "      <td>1</td>\n",
              "      <td>2014-04-22 03:53:30</td>\n",
              "      <td>GUEST_INVITE</td>\n",
              "      <td>2014-04-22 03:53:30</td>\n",
              "      <td>1</td>\n",
              "      <td>0</td>\n",
              "      <td>11</td>\n",
              "      <td>10803.0</td>\n",
              "    </tr>\n",
              "    <tr>\n",
              "      <th>1</th>\n",
              "      <td>2</td>\n",
              "      <td>2013-11-15 03:45:04</td>\n",
              "      <td>ORG_INVITE</td>\n",
              "      <td>2014-03-31 03:45:04</td>\n",
              "      <td>0</td>\n",
              "      <td>0</td>\n",
              "      <td>1</td>\n",
              "      <td>316.0</td>\n",
              "    </tr>\n",
              "    <tr>\n",
              "      <th>2</th>\n",
              "      <td>3</td>\n",
              "      <td>2013-03-19 23:14:52</td>\n",
              "      <td>ORG_INVITE</td>\n",
              "      <td>2013-03-19 23:14:52</td>\n",
              "      <td>0</td>\n",
              "      <td>0</td>\n",
              "      <td>94</td>\n",
              "      <td>1525.0</td>\n",
              "    </tr>\n",
              "    <tr>\n",
              "      <th>3</th>\n",
              "      <td>4</td>\n",
              "      <td>2013-05-21 08:09:28</td>\n",
              "      <td>GUEST_INVITE</td>\n",
              "      <td>2013-05-22 08:09:28</td>\n",
              "      <td>0</td>\n",
              "      <td>0</td>\n",
              "      <td>1</td>\n",
              "      <td>5151.0</td>\n",
              "    </tr>\n",
              "    <tr>\n",
              "      <th>4</th>\n",
              "      <td>5</td>\n",
              "      <td>2013-01-17 10:14:20</td>\n",
              "      <td>GUEST_INVITE</td>\n",
              "      <td>2013-01-22 10:14:20</td>\n",
              "      <td>0</td>\n",
              "      <td>0</td>\n",
              "      <td>193</td>\n",
              "      <td>5240.0</td>\n",
              "    </tr>\n",
              "  </tbody>\n",
              "</table>\n",
              "</div>"
            ],
            "text/plain": [
              "   object_id       creation_time  ... org_id invited_by_user_id\n",
              "0          1 2014-04-22 03:53:30  ...     11            10803.0\n",
              "1          2 2013-11-15 03:45:04  ...      1              316.0\n",
              "2          3 2013-03-19 23:14:52  ...     94             1525.0\n",
              "3          4 2013-05-21 08:09:28  ...      1             5151.0\n",
              "4          5 2013-01-17 10:14:20  ...    193             5240.0\n",
              "\n",
              "[5 rows x 8 columns]"
            ]
          },
          "metadata": {
            "tags": []
          },
          "execution_count": 133
        }
      ]
    },
    {
      "cell_type": "code",
      "metadata": {
        "id": "kDMTUW7izyw7",
        "colab_type": "code",
        "colab": {}
      },
      "source": [
        "# collect subset of adoption ids\n",
        "adopted = list(cts[cts.adopted==True].user_id.unique())"
      ],
      "execution_count": 0,
      "outputs": []
    },
    {
      "cell_type": "code",
      "metadata": {
        "id": "91K-8NgL5luC",
        "colab_type": "code",
        "colab": {}
      },
      "source": [
        "# map subset list (adopted) from cts df to users df adopted column using object_id, since\n",
        "# the list is boolean, mapping only to a subset of elmts in object_id will make elmts\n",
        "# with a successful mapping True and all other elmts False\n",
        "urs['adopted'] = urs.object_id.apply(lambda x: x in adopted).astype(int)"
      ],
      "execution_count": 0,
      "outputs": []
    },
    {
      "cell_type": "code",
      "metadata": {
        "id": "DD2XsYYp54l1",
        "colab_type": "code",
        "outputId": "0e9b9737-3a8b-4f6d-dd01-dee88903b724",
        "colab": {
          "base_uri": "https://localhost:8080/",
          "height": 301
        }
      },
      "source": [
        "urs.head()"
      ],
      "execution_count": 0,
      "outputs": [
        {
          "output_type": "execute_result",
          "data": {
            "text/html": [
              "<div>\n",
              "<style scoped>\n",
              "    .dataframe tbody tr th:only-of-type {\n",
              "        vertical-align: middle;\n",
              "    }\n",
              "\n",
              "    .dataframe tbody tr th {\n",
              "        vertical-align: top;\n",
              "    }\n",
              "\n",
              "    .dataframe thead th {\n",
              "        text-align: right;\n",
              "    }\n",
              "</style>\n",
              "<table border=\"1\" class=\"dataframe\">\n",
              "  <thead>\n",
              "    <tr style=\"text-align: right;\">\n",
              "      <th></th>\n",
              "      <th>object_id</th>\n",
              "      <th>creation_time</th>\n",
              "      <th>creation_source</th>\n",
              "      <th>last_session_creation_time</th>\n",
              "      <th>opted_in_to_mailing_list</th>\n",
              "      <th>enabled_for_marketing_drip</th>\n",
              "      <th>org_id</th>\n",
              "      <th>invited_by_user_id</th>\n",
              "      <th>adopted</th>\n",
              "    </tr>\n",
              "  </thead>\n",
              "  <tbody>\n",
              "    <tr>\n",
              "      <th>0</th>\n",
              "      <td>1</td>\n",
              "      <td>2014-04-22 03:53:30</td>\n",
              "      <td>GUEST_INVITE</td>\n",
              "      <td>2014-04-22 03:53:30</td>\n",
              "      <td>1</td>\n",
              "      <td>0</td>\n",
              "      <td>11</td>\n",
              "      <td>10803.0</td>\n",
              "      <td>0</td>\n",
              "    </tr>\n",
              "    <tr>\n",
              "      <th>1</th>\n",
              "      <td>2</td>\n",
              "      <td>2013-11-15 03:45:04</td>\n",
              "      <td>ORG_INVITE</td>\n",
              "      <td>2014-03-31 03:45:04</td>\n",
              "      <td>0</td>\n",
              "      <td>0</td>\n",
              "      <td>1</td>\n",
              "      <td>316.0</td>\n",
              "      <td>0</td>\n",
              "    </tr>\n",
              "    <tr>\n",
              "      <th>2</th>\n",
              "      <td>3</td>\n",
              "      <td>2013-03-19 23:14:52</td>\n",
              "      <td>ORG_INVITE</td>\n",
              "      <td>2013-03-19 23:14:52</td>\n",
              "      <td>0</td>\n",
              "      <td>0</td>\n",
              "      <td>94</td>\n",
              "      <td>1525.0</td>\n",
              "      <td>0</td>\n",
              "    </tr>\n",
              "    <tr>\n",
              "      <th>3</th>\n",
              "      <td>4</td>\n",
              "      <td>2013-05-21 08:09:28</td>\n",
              "      <td>GUEST_INVITE</td>\n",
              "      <td>2013-05-22 08:09:28</td>\n",
              "      <td>0</td>\n",
              "      <td>0</td>\n",
              "      <td>1</td>\n",
              "      <td>5151.0</td>\n",
              "      <td>0</td>\n",
              "    </tr>\n",
              "    <tr>\n",
              "      <th>4</th>\n",
              "      <td>5</td>\n",
              "      <td>2013-01-17 10:14:20</td>\n",
              "      <td>GUEST_INVITE</td>\n",
              "      <td>2013-01-22 10:14:20</td>\n",
              "      <td>0</td>\n",
              "      <td>0</td>\n",
              "      <td>193</td>\n",
              "      <td>5240.0</td>\n",
              "      <td>0</td>\n",
              "    </tr>\n",
              "  </tbody>\n",
              "</table>\n",
              "</div>"
            ],
            "text/plain": [
              "   object_id       creation_time  ... invited_by_user_id adopted\n",
              "0          1 2014-04-22 03:53:30  ...            10803.0       0\n",
              "1          2 2013-11-15 03:45:04  ...              316.0       0\n",
              "2          3 2013-03-19 23:14:52  ...             1525.0       0\n",
              "3          4 2013-05-21 08:09:28  ...             5151.0       0\n",
              "4          5 2013-01-17 10:14:20  ...             5240.0       0\n",
              "\n",
              "[5 rows x 9 columns]"
            ]
          },
          "metadata": {
            "tags": []
          },
          "execution_count": 136
        }
      ]
    },
    {
      "cell_type": "code",
      "metadata": {
        "id": "tub9jJtjyes7",
        "colab_type": "code",
        "colab": {}
      },
      "source": [
        "df = urs.copy()"
      ],
      "execution_count": 0,
      "outputs": []
    },
    {
      "cell_type": "code",
      "metadata": {
        "id": "jFuFWuD5yNW9",
        "colab_type": "code",
        "colab": {}
      },
      "source": [
        "# let's keep the nans in creation_time and last_session_creation_time\n",
        "\n",
        "df['creation_day'] = df.creation_time.dt.day\n",
        "df['last_session_creation_day'] = df.last_session_creation_time.dt.day\n",
        "\n",
        "df['creation_week'] = df.creation_time.dt.week\n",
        "df['last_session_creation_week'] = df.last_session_creation_time.dt.week\n",
        "\n",
        "df['creation_month'] = df.creation_time.dt.month\n",
        "df['last_session_creation_month'] = df.last_session_creation_time.dt.month"
      ],
      "execution_count": 0,
      "outputs": []
    },
    {
      "cell_type": "code",
      "metadata": {
        "id": "CuISlWX1mO2N",
        "colab_type": "code",
        "colab": {}
      },
      "source": [
        "# vif did not accept nans, so fillna(0), possibly label encode if prediction is poor\n",
        "\n",
        "df['creation_day'] = df['creation_day'].fillna(0)\n",
        "df['last_session_creation_day'] = df['last_session_creation_day'].fillna(0)\n",
        "\n",
        "df['creation_week'] = df['creation_week'].fillna(0)\n",
        "df['last_session_creation_week'] = df['last_session_creation_week'].fillna(0)\n",
        "\n",
        "df['creation_month'] = df['creation_month'].fillna(0)\n",
        "df['last_session_creation_month'] = df['last_session_creation_month'].fillna(0)"
      ],
      "execution_count": 0,
      "outputs": []
    },
    {
      "cell_type": "code",
      "metadata": {
        "id": "7TNRbK9B7_l4",
        "colab_type": "code",
        "outputId": "dafb8a72-efe3-41a6-ce3c-87154dbed3ff",
        "colab": {
          "base_uri": "https://localhost:8080/",
          "height": 34
        }
      },
      "source": [
        "df.last_session_creation_month.unique()"
      ],
      "execution_count": 0,
      "outputs": [
        {
          "output_type": "execute_result",
          "data": {
            "text/plain": [
              "array([ 4.,  3.,  5.,  1., 12.,  0.,  6., 10.,  2.,  8.,  9., 11.,  7.])"
            ]
          },
          "metadata": {
            "tags": []
          },
          "execution_count": 140
        }
      ]
    },
    {
      "cell_type": "code",
      "metadata": {
        "id": "ridWnyKp7P6O",
        "colab_type": "code",
        "colab": {}
      },
      "source": [
        "# add column after converting to boolean integer\n",
        "df['invited'] = df.invited_by_user_id.notnull().astype(int)"
      ],
      "execution_count": 0,
      "outputs": []
    },
    {
      "cell_type": "code",
      "metadata": {
        "id": "HITNT2eT7P2J",
        "colab_type": "code",
        "outputId": "72674dd0-cb6c-43d1-d668-6e55bb4a08a6",
        "colab": {
          "base_uri": "https://localhost:8080/",
          "height": 301
        }
      },
      "source": [
        "df.head()"
      ],
      "execution_count": 0,
      "outputs": [
        {
          "output_type": "execute_result",
          "data": {
            "text/html": [
              "<div>\n",
              "<style scoped>\n",
              "    .dataframe tbody tr th:only-of-type {\n",
              "        vertical-align: middle;\n",
              "    }\n",
              "\n",
              "    .dataframe tbody tr th {\n",
              "        vertical-align: top;\n",
              "    }\n",
              "\n",
              "    .dataframe thead th {\n",
              "        text-align: right;\n",
              "    }\n",
              "</style>\n",
              "<table border=\"1\" class=\"dataframe\">\n",
              "  <thead>\n",
              "    <tr style=\"text-align: right;\">\n",
              "      <th></th>\n",
              "      <th>object_id</th>\n",
              "      <th>creation_time</th>\n",
              "      <th>creation_source</th>\n",
              "      <th>last_session_creation_time</th>\n",
              "      <th>opted_in_to_mailing_list</th>\n",
              "      <th>enabled_for_marketing_drip</th>\n",
              "      <th>org_id</th>\n",
              "      <th>invited_by_user_id</th>\n",
              "      <th>adopted</th>\n",
              "      <th>creation_day</th>\n",
              "      <th>last_session_creation_day</th>\n",
              "      <th>creation_week</th>\n",
              "      <th>last_session_creation_week</th>\n",
              "      <th>creation_month</th>\n",
              "      <th>last_session_creation_month</th>\n",
              "      <th>invited</th>\n",
              "    </tr>\n",
              "  </thead>\n",
              "  <tbody>\n",
              "    <tr>\n",
              "      <th>0</th>\n",
              "      <td>1</td>\n",
              "      <td>2014-04-22 03:53:30</td>\n",
              "      <td>GUEST_INVITE</td>\n",
              "      <td>2014-04-22 03:53:30</td>\n",
              "      <td>1</td>\n",
              "      <td>0</td>\n",
              "      <td>11</td>\n",
              "      <td>10803.0</td>\n",
              "      <td>0</td>\n",
              "      <td>22</td>\n",
              "      <td>22.0</td>\n",
              "      <td>17</td>\n",
              "      <td>17.0</td>\n",
              "      <td>4</td>\n",
              "      <td>4.0</td>\n",
              "      <td>1</td>\n",
              "    </tr>\n",
              "    <tr>\n",
              "      <th>1</th>\n",
              "      <td>2</td>\n",
              "      <td>2013-11-15 03:45:04</td>\n",
              "      <td>ORG_INVITE</td>\n",
              "      <td>2014-03-31 03:45:04</td>\n",
              "      <td>0</td>\n",
              "      <td>0</td>\n",
              "      <td>1</td>\n",
              "      <td>316.0</td>\n",
              "      <td>0</td>\n",
              "      <td>15</td>\n",
              "      <td>31.0</td>\n",
              "      <td>46</td>\n",
              "      <td>14.0</td>\n",
              "      <td>11</td>\n",
              "      <td>3.0</td>\n",
              "      <td>1</td>\n",
              "    </tr>\n",
              "    <tr>\n",
              "      <th>2</th>\n",
              "      <td>3</td>\n",
              "      <td>2013-03-19 23:14:52</td>\n",
              "      <td>ORG_INVITE</td>\n",
              "      <td>2013-03-19 23:14:52</td>\n",
              "      <td>0</td>\n",
              "      <td>0</td>\n",
              "      <td>94</td>\n",
              "      <td>1525.0</td>\n",
              "      <td>0</td>\n",
              "      <td>19</td>\n",
              "      <td>19.0</td>\n",
              "      <td>12</td>\n",
              "      <td>12.0</td>\n",
              "      <td>3</td>\n",
              "      <td>3.0</td>\n",
              "      <td>1</td>\n",
              "    </tr>\n",
              "    <tr>\n",
              "      <th>3</th>\n",
              "      <td>4</td>\n",
              "      <td>2013-05-21 08:09:28</td>\n",
              "      <td>GUEST_INVITE</td>\n",
              "      <td>2013-05-22 08:09:28</td>\n",
              "      <td>0</td>\n",
              "      <td>0</td>\n",
              "      <td>1</td>\n",
              "      <td>5151.0</td>\n",
              "      <td>0</td>\n",
              "      <td>21</td>\n",
              "      <td>22.0</td>\n",
              "      <td>21</td>\n",
              "      <td>21.0</td>\n",
              "      <td>5</td>\n",
              "      <td>5.0</td>\n",
              "      <td>1</td>\n",
              "    </tr>\n",
              "    <tr>\n",
              "      <th>4</th>\n",
              "      <td>5</td>\n",
              "      <td>2013-01-17 10:14:20</td>\n",
              "      <td>GUEST_INVITE</td>\n",
              "      <td>2013-01-22 10:14:20</td>\n",
              "      <td>0</td>\n",
              "      <td>0</td>\n",
              "      <td>193</td>\n",
              "      <td>5240.0</td>\n",
              "      <td>0</td>\n",
              "      <td>17</td>\n",
              "      <td>22.0</td>\n",
              "      <td>3</td>\n",
              "      <td>4.0</td>\n",
              "      <td>1</td>\n",
              "      <td>1.0</td>\n",
              "      <td>1</td>\n",
              "    </tr>\n",
              "  </tbody>\n",
              "</table>\n",
              "</div>"
            ],
            "text/plain": [
              "   object_id       creation_time  ... last_session_creation_month invited\n",
              "0          1 2014-04-22 03:53:30  ...                         4.0       1\n",
              "1          2 2013-11-15 03:45:04  ...                         3.0       1\n",
              "2          3 2013-03-19 23:14:52  ...                         3.0       1\n",
              "3          4 2013-05-21 08:09:28  ...                         5.0       1\n",
              "4          5 2013-01-17 10:14:20  ...                         1.0       1\n",
              "\n",
              "[5 rows x 16 columns]"
            ]
          },
          "metadata": {
            "tags": []
          },
          "execution_count": 142
        }
      ]
    },
    {
      "cell_type": "code",
      "metadata": {
        "id": "E_GQevBCmVTX",
        "colab_type": "code",
        "colab": {}
      },
      "source": [
        "from sklearn import preprocessing as pp"
      ],
      "execution_count": 0,
      "outputs": []
    },
    {
      "cell_type": "code",
      "metadata": {
        "id": "x9F2tUTPmVHs",
        "colab_type": "code",
        "colab": {}
      },
      "source": [
        "# label encode some of our categorical vars \n",
        "encoder = pp.LabelEncoder()"
      ],
      "execution_count": 0,
      "outputs": []
    },
    {
      "cell_type": "code",
      "metadata": {
        "id": "rH_HhXmRn1fj",
        "colab_type": "code",
        "colab": {}
      },
      "source": [
        "df['creation_source_labs'] = encoder.fit_transform(df['creation_source'])"
      ],
      "execution_count": 0,
      "outputs": []
    },
    {
      "cell_type": "code",
      "metadata": {
        "id": "_K2EcwG2n1b7",
        "colab_type": "code",
        "outputId": "8217ffc8-2a61-44f4-fd5b-367ea3f613eb",
        "colab": {
          "base_uri": "https://localhost:8080/",
          "height": 52
        }
      },
      "source": [
        "encoder.classes_"
      ],
      "execution_count": 0,
      "outputs": [
        {
          "output_type": "execute_result",
          "data": {
            "text/plain": [
              "array(['GUEST_INVITE', 'ORG_INVITE', 'PERSONAL_PROJECTS', 'SIGNUP',\n",
              "       'SIGNUP_GOOGLE_AUTH'], dtype=object)"
            ]
          },
          "metadata": {
            "tags": []
          },
          "execution_count": 146
        }
      ]
    },
    {
      "cell_type": "code",
      "metadata": {
        "id": "O2M2xWNgobwn",
        "colab_type": "code",
        "colab": {}
      },
      "source": [
        "# drop columns after previous transformations \n",
        "df = df.drop(['creation_source','creation_time','last_session_creation_time',\n",
        "              'invited_by_user_id'],axis=1).set_index('object_id')"
      ],
      "execution_count": 0,
      "outputs": []
    },
    {
      "cell_type": "code",
      "metadata": {
        "id": "JGOdCQBNn1Sh",
        "colab_type": "code",
        "outputId": "15e0aea1-ff12-4727-b653-68f9db2241f8",
        "colab": {
          "base_uri": "https://localhost:8080/",
          "height": 247
        }
      },
      "source": [
        "df.head()"
      ],
      "execution_count": 0,
      "outputs": [
        {
          "output_type": "execute_result",
          "data": {
            "text/html": [
              "<div>\n",
              "<style scoped>\n",
              "    .dataframe tbody tr th:only-of-type {\n",
              "        vertical-align: middle;\n",
              "    }\n",
              "\n",
              "    .dataframe tbody tr th {\n",
              "        vertical-align: top;\n",
              "    }\n",
              "\n",
              "    .dataframe thead th {\n",
              "        text-align: right;\n",
              "    }\n",
              "</style>\n",
              "<table border=\"1\" class=\"dataframe\">\n",
              "  <thead>\n",
              "    <tr style=\"text-align: right;\">\n",
              "      <th></th>\n",
              "      <th>opted_in_to_mailing_list</th>\n",
              "      <th>enabled_for_marketing_drip</th>\n",
              "      <th>org_id</th>\n",
              "      <th>adopted</th>\n",
              "      <th>creation_day</th>\n",
              "      <th>last_session_creation_day</th>\n",
              "      <th>creation_week</th>\n",
              "      <th>last_session_creation_week</th>\n",
              "      <th>creation_month</th>\n",
              "      <th>last_session_creation_month</th>\n",
              "      <th>invited</th>\n",
              "      <th>creation_source_labs</th>\n",
              "    </tr>\n",
              "    <tr>\n",
              "      <th>object_id</th>\n",
              "      <th></th>\n",
              "      <th></th>\n",
              "      <th></th>\n",
              "      <th></th>\n",
              "      <th></th>\n",
              "      <th></th>\n",
              "      <th></th>\n",
              "      <th></th>\n",
              "      <th></th>\n",
              "      <th></th>\n",
              "      <th></th>\n",
              "      <th></th>\n",
              "    </tr>\n",
              "  </thead>\n",
              "  <tbody>\n",
              "    <tr>\n",
              "      <th>1</th>\n",
              "      <td>1</td>\n",
              "      <td>0</td>\n",
              "      <td>11</td>\n",
              "      <td>0</td>\n",
              "      <td>22</td>\n",
              "      <td>22.0</td>\n",
              "      <td>17</td>\n",
              "      <td>17.0</td>\n",
              "      <td>4</td>\n",
              "      <td>4.0</td>\n",
              "      <td>1</td>\n",
              "      <td>0</td>\n",
              "    </tr>\n",
              "    <tr>\n",
              "      <th>2</th>\n",
              "      <td>0</td>\n",
              "      <td>0</td>\n",
              "      <td>1</td>\n",
              "      <td>0</td>\n",
              "      <td>15</td>\n",
              "      <td>31.0</td>\n",
              "      <td>46</td>\n",
              "      <td>14.0</td>\n",
              "      <td>11</td>\n",
              "      <td>3.0</td>\n",
              "      <td>1</td>\n",
              "      <td>1</td>\n",
              "    </tr>\n",
              "    <tr>\n",
              "      <th>3</th>\n",
              "      <td>0</td>\n",
              "      <td>0</td>\n",
              "      <td>94</td>\n",
              "      <td>0</td>\n",
              "      <td>19</td>\n",
              "      <td>19.0</td>\n",
              "      <td>12</td>\n",
              "      <td>12.0</td>\n",
              "      <td>3</td>\n",
              "      <td>3.0</td>\n",
              "      <td>1</td>\n",
              "      <td>1</td>\n",
              "    </tr>\n",
              "    <tr>\n",
              "      <th>4</th>\n",
              "      <td>0</td>\n",
              "      <td>0</td>\n",
              "      <td>1</td>\n",
              "      <td>0</td>\n",
              "      <td>21</td>\n",
              "      <td>22.0</td>\n",
              "      <td>21</td>\n",
              "      <td>21.0</td>\n",
              "      <td>5</td>\n",
              "      <td>5.0</td>\n",
              "      <td>1</td>\n",
              "      <td>0</td>\n",
              "    </tr>\n",
              "    <tr>\n",
              "      <th>5</th>\n",
              "      <td>0</td>\n",
              "      <td>0</td>\n",
              "      <td>193</td>\n",
              "      <td>0</td>\n",
              "      <td>17</td>\n",
              "      <td>22.0</td>\n",
              "      <td>3</td>\n",
              "      <td>4.0</td>\n",
              "      <td>1</td>\n",
              "      <td>1.0</td>\n",
              "      <td>1</td>\n",
              "      <td>0</td>\n",
              "    </tr>\n",
              "  </tbody>\n",
              "</table>\n",
              "</div>"
            ],
            "text/plain": [
              "           opted_in_to_mailing_list  ...  creation_source_labs\n",
              "object_id                            ...                      \n",
              "1                                 1  ...                     0\n",
              "2                                 0  ...                     1\n",
              "3                                 0  ...                     1\n",
              "4                                 0  ...                     0\n",
              "5                                 0  ...                     0\n",
              "\n",
              "[5 rows x 12 columns]"
            ]
          },
          "metadata": {
            "tags": []
          },
          "execution_count": 148
        }
      ]
    },
    {
      "cell_type": "code",
      "metadata": {
        "id": "4qDv3M_rrBUi",
        "colab_type": "code",
        "outputId": "2b5a8363-543f-44ae-a9c2-4293db8e4a82",
        "colab": {
          "base_uri": "https://localhost:8080/",
          "height": 318
        }
      },
      "source": [
        "df.info()"
      ],
      "execution_count": 0,
      "outputs": [
        {
          "output_type": "stream",
          "text": [
            "<class 'pandas.core.frame.DataFrame'>\n",
            "Int64Index: 12000 entries, 1 to 12000\n",
            "Data columns (total 12 columns):\n",
            "opted_in_to_mailing_list       12000 non-null int64\n",
            "enabled_for_marketing_drip     12000 non-null int64\n",
            "org_id                         12000 non-null int64\n",
            "adopted                        12000 non-null int64\n",
            "creation_day                   12000 non-null int64\n",
            "last_session_creation_day      12000 non-null float64\n",
            "creation_week                  12000 non-null int64\n",
            "last_session_creation_week     12000 non-null float64\n",
            "creation_month                 12000 non-null int64\n",
            "last_session_creation_month    12000 non-null float64\n",
            "invited                        12000 non-null int64\n",
            "creation_source_labs           12000 non-null int64\n",
            "dtypes: float64(3), int64(9)\n",
            "memory usage: 1.2 MB\n"
          ],
          "name": "stdout"
        }
      ]
    },
    {
      "cell_type": "code",
      "metadata": {
        "id": "hstfLVik7PyA",
        "colab_type": "code",
        "outputId": "d39de5cd-9fef-42ef-d2e2-6fc4ad411e88",
        "colab": {
          "base_uri": "https://localhost:8080/",
          "height": 105
        }
      },
      "source": [
        "# get ready for graphs and modeling\n",
        "X = df.drop(['adopted'],axis=1)\n",
        "y = df['adopted']\n",
        "df.columns"
      ],
      "execution_count": 0,
      "outputs": [
        {
          "output_type": "execute_result",
          "data": {
            "text/plain": [
              "Index(['opted_in_to_mailing_list', 'enabled_for_marketing_drip', 'org_id',\n",
              "       'adopted', 'creation_day', 'last_session_creation_day', 'creation_week',\n",
              "       'last_session_creation_week', 'creation_month',\n",
              "       'last_session_creation_month', 'invited', 'creation_source_labs'],\n",
              "      dtype='object')"
            ]
          },
          "metadata": {
            "tags": []
          },
          "execution_count": 150
        }
      ]
    },
    {
      "cell_type": "code",
      "metadata": {
        "id": "zJVlsw_P7PuV",
        "colab_type": "code",
        "outputId": "b76fc24e-27eb-444c-a52a-f138453b8763",
        "colab": {
          "base_uri": "https://localhost:8080/",
          "height": 742
        }
      },
      "source": [
        "plt.figure(figsize=(20,10))\n",
        "\n",
        "sns.heatmap(df.corr(),square=True,annot=True,cmap='RdYlGn',vmin=-1, vmax=1)\n",
        "# correlate columns of interest: enabled_for_marketing_drip, opted_in_to_mailing_list, creation_source_labs, invite, \n",
        "# and creation time in general\n",
        "# vif is the next measure to pursue "
      ],
      "execution_count": 0,
      "outputs": [
        {
          "output_type": "execute_result",
          "data": {
            "text/plain": [
              "<matplotlib.axes._subplots.AxesSubplot at 0x7ff324b0c470>"
            ]
          },
          "metadata": {
            "tags": []
          },
          "execution_count": 151
        },
        {
          "output_type": "display_data",
          "data": {
            "image/png": "[encoded data removed]",
            "text/plain": [
              "<Figure size 1440x720 with 2 Axes>"
            ]
          },
          "metadata": {
            "tags": []
          }
        }
      ]
    },
    {
      "cell_type": "code",
      "metadata": {
        "id": "m-LUJF5n7Pqg",
        "colab_type": "code",
        "outputId": "b742b34a-3388-451f-855e-7b73950b122a",
        "colab": {
          "base_uri": "https://localhost:8080/",
          "height": 377
        }
      },
      "source": [
        "from statsmodels.stats.outliers_influence import variance_inflation_factor\n",
        "\n",
        "# convert features to array\n",
        "x = np.array(X, dtype=float)\n",
        "\n",
        "# generate vif in df\n",
        "vif = pd.DataFrame()\n",
        "vif[\"vif\"] = [variance_inflation_factor(x, i) for i in range(x.shape[1])]\n",
        "vif[\"features\"] = X.columns\n",
        "vif.sort_values(by='vif',ascending=False)"
      ],
      "execution_count": 0,
      "outputs": [
        {
          "output_type": "execute_result",
          "data": {
            "text/html": [
              "<div>\n",
              "<style scoped>\n",
              "    .dataframe tbody tr th:only-of-type {\n",
              "        vertical-align: middle;\n",
              "    }\n",
              "\n",
              "    .dataframe tbody tr th {\n",
              "        vertical-align: top;\n",
              "    }\n",
              "\n",
              "    .dataframe thead th {\n",
              "        text-align: right;\n",
              "    }\n",
              "</style>\n",
              "<table border=\"1\" class=\"dataframe\">\n",
              "  <thead>\n",
              "    <tr style=\"text-align: right;\">\n",
              "      <th></th>\n",
              "      <th>vif</th>\n",
              "      <th>features</th>\n",
              "    </tr>\n",
              "  </thead>\n",
              "  <tbody>\n",
              "    <tr>\n",
              "      <th>6</th>\n",
              "      <td>127.961951</td>\n",
              "      <td>last_session_creation_week</td>\n",
              "    </tr>\n",
              "    <tr>\n",
              "      <th>8</th>\n",
              "      <td>125.356120</td>\n",
              "      <td>last_session_creation_month</td>\n",
              "    </tr>\n",
              "    <tr>\n",
              "      <th>7</th>\n",
              "      <td>98.782192</td>\n",
              "      <td>creation_month</td>\n",
              "    </tr>\n",
              "    <tr>\n",
              "      <th>5</th>\n",
              "      <td>95.001321</td>\n",
              "      <td>creation_week</td>\n",
              "    </tr>\n",
              "    <tr>\n",
              "      <th>3</th>\n",
              "      <td>5.023907</td>\n",
              "      <td>creation_day</td>\n",
              "    </tr>\n",
              "    <tr>\n",
              "      <th>10</th>\n",
              "      <td>4.398645</td>\n",
              "      <td>creation_source_labs</td>\n",
              "    </tr>\n",
              "    <tr>\n",
              "      <th>4</th>\n",
              "      <td>3.911428</td>\n",
              "      <td>last_session_creation_day</td>\n",
              "    </tr>\n",
              "    <tr>\n",
              "      <th>9</th>\n",
              "      <td>3.430392</td>\n",
              "      <td>invited</td>\n",
              "    </tr>\n",
              "    <tr>\n",
              "      <th>2</th>\n",
              "      <td>2.211666</td>\n",
              "      <td>org_id</td>\n",
              "    </tr>\n",
              "    <tr>\n",
              "      <th>0</th>\n",
              "      <td>1.728596</td>\n",
              "      <td>opted_in_to_mailing_list</td>\n",
              "    </tr>\n",
              "    <tr>\n",
              "      <th>1</th>\n",
              "      <td>1.534280</td>\n",
              "      <td>enabled_for_marketing_drip</td>\n",
              "    </tr>\n",
              "  </tbody>\n",
              "</table>\n",
              "</div>"
            ],
            "text/plain": [
              "           vif                     features\n",
              "6   127.961951   last_session_creation_week\n",
              "8   125.356120  last_session_creation_month\n",
              "7    98.782192               creation_month\n",
              "5    95.001321                creation_week\n",
              "3     5.023907                 creation_day\n",
              "10    4.398645         creation_source_labs\n",
              "4     3.911428    last_session_creation_day\n",
              "9     3.430392                      invited\n",
              "2     2.211666                       org_id\n",
              "0     1.728596     opted_in_to_mailing_list\n",
              "1     1.534280   enabled_for_marketing_drip"
            ]
          },
          "metadata": {
            "tags": []
          },
          "execution_count": 152
        }
      ]
    },
    {
      "cell_type": "code",
      "metadata": {
        "id": "cFhyb5y_7Pna",
        "colab_type": "code",
        "colab": {}
      },
      "source": [
        "# drop some creation periods since multicollinearity will become an issue in modeling \n",
        "df = df.drop(['last_session_creation_day','creation_day'],axis=1)"
      ],
      "execution_count": 0,
      "outputs": []
    },
    {
      "cell_type": "code",
      "metadata": {
        "id": "A5dlrchS2Ybf",
        "colab_type": "code",
        "colab": {}
      },
      "source": [
        "# drop ['adoption']\n",
        "X = df.drop(['adopted'],axis=1)\n",
        "y = df['adopted']"
      ],
      "execution_count": 0,
      "outputs": []
    },
    {
      "cell_type": "code",
      "metadata": {
        "id": "bNqOMeGJyD71",
        "colab_type": "code",
        "colab": {}
      },
      "source": [
        "from sklearn.model_selection import train_test_split\n",
        "from sklearn.model_selection import cross_val_score\n",
        "from sklearn import metrics\n",
        "from sklearn.metrics import classification_report, confusion_matrix\n",
        "from sklearn.ensemble import RandomForestClassifier\n",
        "import seaborn as sns"
      ],
      "execution_count": 0,
      "outputs": []
    },
    {
      "cell_type": "code",
      "metadata": {
        "id": "50aw8Y1axdvg",
        "colab_type": "code",
        "colab": {}
      },
      "source": [
        "# split data\n",
        "X_train,X_test,y_train,y_test = train_test_split(X,y,test_size=0.2,random_state=4)\n",
        "X_trainC,X_testC,y_trainC,y_testC = train_test_split(X,y,test_size=0.2,random_state=7)"
      ],
      "execution_count": 0,
      "outputs": []
    },
    {
      "cell_type": "code",
      "metadata": {
        "id": "U4ftjzx30QSZ",
        "colab_type": "code",
        "outputId": "2dc3faac-68b0-450f-d3c5-90ce5817fb6d",
        "colab": {
          "base_uri": "https://localhost:8080/",
          "height": 247
        }
      },
      "source": [
        "# always check the distributions for sampling purposes\n",
        "df['adopted'].value_counts().plot(kind='pie',labels=['not adopted','adopted'],autopct='%1.1f%%')\n",
        "_ = plt.axis('equal')"
      ],
      "execution_count": 0,
      "outputs": [
        {
          "output_type": "display_data",
          "data": {
            "image/png": "[encoded data removed]",
            "text/plain": [
              "<Figure size 432x288 with 1 Axes>"
            ]
          },
          "metadata": {
            "tags": []
          }
        }
      ]
    },
    {
      "cell_type": "code",
      "metadata": {
        "id": "QzHyZaMW0WTW",
        "colab_type": "code",
        "colab": {}
      },
      "source": [
        "# running random forest first time around w/o resampling gave train accuracy: 0.12971 test accuracy: 0.85458, \n",
        "# so we will resample using smote. it supposed to work for continuous and categorical vars\n",
        "# the big issue is the total number of adopted is 12%\n",
        "\n",
        "from imblearn.over_sampling import SMOTE\n",
        "\n",
        "X_train, y_train= SMOTE().fit_resample(X_train, y_train)"
      ],
      "execution_count": 0,
      "outputs": []
    },
    {
      "cell_type": "markdown",
      "metadata": {
        "id": "Ps_vjpdIr_cM",
        "colab_type": "text"
      },
      "source": [
        "#RANDOM FOREST"
      ]
    },
    {
      "cell_type": "code",
      "metadata": {
        "id": "1nNzjKk4xrzy",
        "colab_type": "code",
        "colab": {}
      },
      "source": [
        "# 30 - 60 estimators\n",
        "rf = RandomForestClassifier(n_estimators=30, random_state=4)\n",
        "\n",
        "# cross-validation\n",
        "cv_rf = cross_val_score(rf, X_train, y_train, cv=5,scoring='f1')\n",
        "\n",
        "# train model\n",
        "rf.fit(X_train, y_train)\n",
        "\n",
        "# predict on test data\n",
        "y_pred = rf.predict(X_test)"
      ],
      "execution_count": 0,
      "outputs": []
    },
    {
      "cell_type": "code",
      "metadata": {
        "id": "tBinkdi8y8R_",
        "colab_type": "code",
        "outputId": "4c352dfc-079e-4d63-ed03-42266bf46a6e",
        "colab": {
          "base_uri": "https://localhost:8080/",
          "height": 52
        }
      },
      "source": [
        "# accuracy\n",
        "\n",
        "print(\"train accuracy:\",format(np.mean(cv_rf),'.5f'))\n",
        "print(\"test accuracy:\",format(metrics.accuracy_score(y_test, y_pred),'.5f'))"
      ],
      "execution_count": 0,
      "outputs": [
        {
          "output_type": "stream",
          "text": [
            "train accuracy: 0.97233\n",
            "test accuracy: 0.96375\n"
          ],
          "name": "stdout"
        }
      ]
    },
    {
      "cell_type": "code",
      "metadata": {
        "id": "kYQmE9ntpfb-",
        "colab_type": "code",
        "outputId": "b2fd06b5-8fa8-4c77-adb5-cc43971d7d70",
        "colab": {
          "base_uri": "https://localhost:8080/",
          "height": 298
        }
      },
      "source": [
        "# confusion matrix \n",
        "\n",
        "fig = plt.figure()\n",
        "\n",
        "plt.clf()\n",
        "cmat = confusion_matrix(y_test, y_pred)\n",
        "\n",
        "ax = fig.add_subplot(111)\n",
        "ax.set_aspect(1)\n",
        "\n",
        "cmap = sns.cubehelix_palette(light=1, as_cmap=True)\n",
        "\n",
        "res = sns.heatmap(cmat, annot=True, vmin=0.0, vmax=100.0, fmt='.2f', cmap=cmap)\n",
        "\n",
        "plt.yticks([0,1], ['not adopted','adopted'])\n",
        "\n",
        "plt.title('Confusion Matrix')"
      ],
      "execution_count": 0,
      "outputs": [
        {
          "output_type": "execute_result",
          "data": {
            "text/plain": [
              "Text(0.5, 1, 'Confusion Matrix')"
            ]
          },
          "metadata": {
            "tags": []
          },
          "execution_count": 190
        },
        {
          "output_type": "display_data",
          "data": {
            "image/png": "[encoded data removed]",
            "text/plain": [
              "<Figure size 432x288 with 2 Axes>"
            ]
          },
          "metadata": {
            "tags": []
          }
        }
      ]
    },
    {
      "cell_type": "code",
      "metadata": {
        "id": "H5P6H9rJ4q4b",
        "colab_type": "code",
        "outputId": "6e02bb92-80ef-4967-bee8-3008e94020e3",
        "colab": {
          "base_uri": "https://localhost:8080/",
          "height": 176
        }
      },
      "source": [
        "print(classification_report(y_test,y_pred))\n",
        "# recall = tp/tp+fn => tp+fn = actual num pos => gives an idea of desired class accuracy of type ii error\n",
        "# precision = tp/tp+fp => tp+fp = predicted num pos => gives idea of desired class accuracy of type i"
      ],
      "execution_count": 0,
      "outputs": [
        {
          "output_type": "stream",
          "text": [
            "              precision    recall  f1-score   support\n",
            "\n",
            "           0       0.98      0.98      0.98      2123\n",
            "           1       0.85      0.83      0.84       277\n",
            "\n",
            "    accuracy                           0.96      2400\n",
            "   macro avg       0.91      0.91      0.91      2400\n",
            "weighted avg       0.96      0.96      0.96      2400\n",
            "\n"
          ],
          "name": "stdout"
        }
      ]
    },
    {
      "cell_type": "code",
      "metadata": {
        "id": "xDADatGD-SVW",
        "colab_type": "code",
        "colab": {}
      },
      "source": [
        "from sklearn.ensemble import AdaBoostClassifier"
      ],
      "execution_count": 0,
      "outputs": []
    },
    {
      "cell_type": "markdown",
      "metadata": {
        "id": "xk2WgMpEsFuA",
        "colab_type": "text"
      },
      "source": [
        "#ADA BOOST "
      ]
    },
    {
      "cell_type": "code",
      "metadata": {
        "id": "30d10DxEOWzM",
        "colab_type": "code",
        "colab": {}
      },
      "source": [
        "ab = AdaBoostClassifier(n_estimators=40, random_state=2)\n",
        "\n",
        "# cross-validation\n",
        "cv_ab = cross_val_score(ab, X_train, y_train, cv=5,scoring='f1')\n",
        "\n",
        "# train model\n",
        "ab.fit(X_train, y_train)\n",
        "\n",
        "# predict on test data\n",
        "y_pred = ab.predict(X_test)"
      ],
      "execution_count": 0,
      "outputs": []
    },
    {
      "cell_type": "code",
      "metadata": {
        "id": "mkYfxPT0PCof",
        "colab_type": "code",
        "outputId": "d7236109-375f-4ed8-a3cc-d3b36f3e4961",
        "colab": {
          "base_uri": "https://localhost:8080/",
          "height": 52
        }
      },
      "source": [
        "# accuracy\n",
        "\n",
        "print(\"train acc:\",format(np.mean(cv_ab),'.5f'))\n",
        "print(\"test acc:\",format(metrics.accuracy_score(y_test, y_pred),'.5f'))"
      ],
      "execution_count": 0,
      "outputs": [
        {
          "output_type": "stream",
          "text": [
            "train acc: 0.94558\n",
            "test acc: 0.94208\n"
          ],
          "name": "stdout"
        }
      ]
    },
    {
      "cell_type": "code",
      "metadata": {
        "id": "6_7uDmCzQQGy",
        "colab_type": "code",
        "outputId": "3d7c1b04-6595-4d77-b6ba-9f384508407d",
        "colab": {
          "base_uri": "https://localhost:8080/",
          "height": 282
        }
      },
      "source": [
        "# checking feature importance\n",
        "\n",
        "feature_importances = pd.DataFrame(rf.feature_importances_,\n",
        "                                   index = X_trainC.columns,\n",
        "                                   columns=['importance']).sort_values('importance',ascending=True)\n",
        "\n",
        "feature_importances.plot(kind='barh')"
      ],
      "execution_count": 0,
      "outputs": [
        {
          "output_type": "execute_result",
          "data": {
            "text/plain": [
              "<matplotlib.axes._subplots.AxesSubplot at 0x7ff327fc67f0>"
            ]
          },
          "metadata": {
            "tags": []
          },
          "execution_count": 186
        },
        {
          "output_type": "display_data",
          "data": {
            "image/png": "[encoded data removed]",
            "text/plain": [
              "<Figure size 432x288 with 1 Axes>"
            ]
          },
          "metadata": {
            "tags": []
          }
        }
      ]
    },
    {
      "cell_type": "code",
      "metadata": {
        "id": "ve0Us_BBXUsD",
        "colab_type": "code",
        "outputId": "d092e20b-c5b7-4673-806d-b6f653fe6e1d",
        "colab": {
          "base_uri": "https://localhost:8080/",
          "height": 34
        }
      },
      "source": [
        "# last_session_creation has the most impact, both week and month"
      ],
      "execution_count": 0,
      "outputs": [
        {
          "output_type": "execute_result",
          "data": {
            "text/plain": [
              "417"
            ]
          },
          "metadata": {
            "tags": []
          },
          "execution_count": 188
        }
      ]
    },
    {
      "cell_type": "code",
      "metadata": {
        "id": "MCvt5ODdYkyT",
        "colab_type": "code",
        "outputId": "c00ce849-ea36-4741-b80e-5fc2ff78e76f",
        "colab": {
          "base_uri": "https://localhost:8080/",
          "height": 105
        }
      },
      "source": [
        "df.columns"
      ],
      "execution_count": 0,
      "outputs": [
        {
          "output_type": "execute_result",
          "data": {
            "text/plain": [
              "Index(['opted_in_to_mailing_list', 'enabled_for_marketing_drip', 'org_id',\n",
              "       'adopted', 'creation_week', 'last_session_creation_week',\n",
              "       'creation_month', 'last_session_creation_month', 'invited',\n",
              "       'creation_source_labs'],\n",
              "      dtype='object')"
            ]
          },
          "metadata": {
            "tags": []
          },
          "execution_count": 189
        }
      ]
    },
    {
      "cell_type": "code",
      "metadata": {
        "id": "RNkvcsYVaKfe",
        "colab_type": "code",
        "outputId": "9ea9e164-c35e-4b65-c4eb-b076e439c4c7",
        "colab": {
          "base_uri": "https://localhost:8080/",
          "height": 334
        }
      },
      "source": [
        "# graph last session log counts by month between not adopted and adopted users \n",
        "\n",
        "_ = df.groupby('adopted')['last_session_creation_month'].mean().plot(kind='bar')\n",
        "_ = plt.title('last session creation month')\n",
        "_ = plt.xticks([0,1],['not adopted','adopted'],rotation=45)"
      ],
      "execution_count": 0,
      "outputs": [
        {
          "output_type": "display_data",
          "data": {
            "image/png": "[encoded data removed]",
            "text/plain": [
              "<Figure size 432x288 with 1 Axes>"
            ]
          },
          "metadata": {
            "tags": []
          }
        }
      ]
    },
    {
      "cell_type": "code",
      "metadata": {
        "id": "7BE5GuIjtv79",
        "colab_type": "code",
        "outputId": "a59bb8a7-01b7-4cff-ed12-9b6734de8eb7",
        "colab": {
          "base_uri": "https://localhost:8080/",
          "height": 334
        }
      },
      "source": [
        "# same as above on a weekly period\n",
        "\n",
        "_ = df.groupby('adopted')['last_session_creation_week'].mean().plot(kind='bar')\n",
        "_ = plt.title('last_session_creation_week')\n",
        "_ = plt.xticks([0,1],['not adopted','adopted'],rotation=45)"
      ],
      "execution_count": 0,
      "outputs": [
        {
          "output_type": "display_data",
          "data": {
            "image/png": "[encoded data removed]",
            "text/plain": [
              "<Figure size 432x288 with 1 Axes>"
            ]
          },
          "metadata": {
            "tags": []
          }
        }
      ]
    },
    {
      "cell_type": "code",
      "metadata": {
        "id": "_nCdjhf-vpyR",
        "colab_type": "code",
        "colab": {}
      },
      "source": [
        "# whether you were enabled for marketing drip or invited did not influence adoption use\n",
        "# last_session_creation_time was the most impactful: the month of may being the most influential"
      ],
      "execution_count": 0,
      "outputs": []
    },
    {
      "cell_type": "code",
      "metadata": {
        "id": "6uCFFGSLw053",
        "colab_type": "code",
        "outputId": "8350d216-953c-41d0-da84-e3984a2bfc59",
        "colab": {
          "base_uri": "https://localhost:8080/",
          "height": 34
        }
      },
      "source": [
        "df.last_session_creation_month.unique()"
      ],
      "execution_count": 0,
      "outputs": [
        {
          "output_type": "execute_result",
          "data": {
            "text/plain": [
              "array([ 4.,  3.,  5.,  1., 12.,  0.,  6., 10.,  2.,  8.,  9., 11.,  7.])"
            ]
          },
          "metadata": {
            "tags": []
          },
          "execution_count": 197
        }
      ]
    }
  ]
}